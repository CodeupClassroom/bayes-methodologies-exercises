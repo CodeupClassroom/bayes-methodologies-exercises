{
 "cells": [
  {
   "cell_type": "code",
   "execution_count": 2,
   "metadata": {},
   "outputs": [
    {
     "data": {
      "text/html": [
       "<div>\n",
       "<style scoped>\n",
       "    .dataframe tbody tr th:only-of-type {\n",
       "        vertical-align: middle;\n",
       "    }\n",
       "\n",
       "    .dataframe tbody tr th {\n",
       "        vertical-align: top;\n",
       "    }\n",
       "\n",
       "    .dataframe thead th {\n",
       "        text-align: right;\n",
       "    }\n",
       "</style>\n",
       "<table border=\"1\" class=\"dataframe\">\n",
       "  <thead>\n",
       "    <tr style=\"text-align: right;\">\n",
       "      <th></th>\n",
       "      <th>item_id</th>\n",
       "      <th>sale_amount</th>\n",
       "      <th>sale_date</th>\n",
       "      <th>sale_id</th>\n",
       "      <th>store_id</th>\n",
       "      <th>item_brand</th>\n",
       "      <th>item_name</th>\n",
       "      <th>item_price</th>\n",
       "      <th>item_upc12</th>\n",
       "      <th>item_upc14</th>\n",
       "      <th>store_address</th>\n",
       "      <th>store_city</th>\n",
       "      <th>store_state</th>\n",
       "      <th>store_zipcode</th>\n",
       "    </tr>\n",
       "  </thead>\n",
       "  <tbody>\n",
       "    <tr>\n",
       "      <td>0</td>\n",
       "      <td>1</td>\n",
       "      <td>13.0</td>\n",
       "      <td>Tue, 01 Jan 2013 00:00:00 GMT</td>\n",
       "      <td>1</td>\n",
       "      <td>1</td>\n",
       "      <td>Riceland</td>\n",
       "      <td>Riceland American Jazmine Rice</td>\n",
       "      <td>0.84</td>\n",
       "      <td>35200264013</td>\n",
       "      <td>35200264013</td>\n",
       "      <td>12125 Alamo Ranch Pkwy</td>\n",
       "      <td>San Antonio</td>\n",
       "      <td>TX</td>\n",
       "      <td>78253</td>\n",
       "    </tr>\n",
       "    <tr>\n",
       "      <td>1</td>\n",
       "      <td>1</td>\n",
       "      <td>11.0</td>\n",
       "      <td>Wed, 02 Jan 2013 00:00:00 GMT</td>\n",
       "      <td>2</td>\n",
       "      <td>1</td>\n",
       "      <td>Riceland</td>\n",
       "      <td>Riceland American Jazmine Rice</td>\n",
       "      <td>0.84</td>\n",
       "      <td>35200264013</td>\n",
       "      <td>35200264013</td>\n",
       "      <td>12125 Alamo Ranch Pkwy</td>\n",
       "      <td>San Antonio</td>\n",
       "      <td>TX</td>\n",
       "      <td>78253</td>\n",
       "    </tr>\n",
       "    <tr>\n",
       "      <td>2</td>\n",
       "      <td>1</td>\n",
       "      <td>14.0</td>\n",
       "      <td>Thu, 03 Jan 2013 00:00:00 GMT</td>\n",
       "      <td>3</td>\n",
       "      <td>1</td>\n",
       "      <td>Riceland</td>\n",
       "      <td>Riceland American Jazmine Rice</td>\n",
       "      <td>0.84</td>\n",
       "      <td>35200264013</td>\n",
       "      <td>35200264013</td>\n",
       "      <td>12125 Alamo Ranch Pkwy</td>\n",
       "      <td>San Antonio</td>\n",
       "      <td>TX</td>\n",
       "      <td>78253</td>\n",
       "    </tr>\n",
       "    <tr>\n",
       "      <td>3</td>\n",
       "      <td>1</td>\n",
       "      <td>13.0</td>\n",
       "      <td>Fri, 04 Jan 2013 00:00:00 GMT</td>\n",
       "      <td>4</td>\n",
       "      <td>1</td>\n",
       "      <td>Riceland</td>\n",
       "      <td>Riceland American Jazmine Rice</td>\n",
       "      <td>0.84</td>\n",
       "      <td>35200264013</td>\n",
       "      <td>35200264013</td>\n",
       "      <td>12125 Alamo Ranch Pkwy</td>\n",
       "      <td>San Antonio</td>\n",
       "      <td>TX</td>\n",
       "      <td>78253</td>\n",
       "    </tr>\n",
       "    <tr>\n",
       "      <td>4</td>\n",
       "      <td>1</td>\n",
       "      <td>10.0</td>\n",
       "      <td>Sat, 05 Jan 2013 00:00:00 GMT</td>\n",
       "      <td>5</td>\n",
       "      <td>1</td>\n",
       "      <td>Riceland</td>\n",
       "      <td>Riceland American Jazmine Rice</td>\n",
       "      <td>0.84</td>\n",
       "      <td>35200264013</td>\n",
       "      <td>35200264013</td>\n",
       "      <td>12125 Alamo Ranch Pkwy</td>\n",
       "      <td>San Antonio</td>\n",
       "      <td>TX</td>\n",
       "      <td>78253</td>\n",
       "    </tr>\n",
       "  </tbody>\n",
       "</table>\n",
       "</div>"
      ],
      "text/plain": [
       "   item_id  sale_amount                      sale_date  sale_id  store_id  \\\n",
       "0        1         13.0  Tue, 01 Jan 2013 00:00:00 GMT        1         1   \n",
       "1        1         11.0  Wed, 02 Jan 2013 00:00:00 GMT        2         1   \n",
       "2        1         14.0  Thu, 03 Jan 2013 00:00:00 GMT        3         1   \n",
       "3        1         13.0  Fri, 04 Jan 2013 00:00:00 GMT        4         1   \n",
       "4        1         10.0  Sat, 05 Jan 2013 00:00:00 GMT        5         1   \n",
       "\n",
       "  item_brand                       item_name  item_price   item_upc12  \\\n",
       "0   Riceland  Riceland American Jazmine Rice        0.84  35200264013   \n",
       "1   Riceland  Riceland American Jazmine Rice        0.84  35200264013   \n",
       "2   Riceland  Riceland American Jazmine Rice        0.84  35200264013   \n",
       "3   Riceland  Riceland American Jazmine Rice        0.84  35200264013   \n",
       "4   Riceland  Riceland American Jazmine Rice        0.84  35200264013   \n",
       "\n",
       "    item_upc14           store_address   store_city store_state  store_zipcode  \n",
       "0  35200264013  12125 Alamo Ranch Pkwy  San Antonio          TX          78253  \n",
       "1  35200264013  12125 Alamo Ranch Pkwy  San Antonio          TX          78253  \n",
       "2  35200264013  12125 Alamo Ranch Pkwy  San Antonio          TX          78253  \n",
       "3  35200264013  12125 Alamo Ranch Pkwy  San Antonio          TX          78253  \n",
       "4  35200264013  12125 Alamo Ranch Pkwy  San Antonio          TX          78253  "
      ]
     },
     "execution_count": 2,
     "metadata": {},
     "output_type": "execute_result"
    }
   ],
   "source": [
    "%matplotlib inline\n",
    "\n",
    "import pandas as pd\n",
    "import acquire\n",
    "\n",
    "df = acquire.get_all_data()\n",
    "df.head()"
   ]
  },
  {
   "cell_type": "code",
   "execution_count": 12,
   "metadata": {},
   "outputs": [],
   "source": [
    "fmt = '%a, %d %b %Y %H:%M:%S %Z'\n",
    "\n",
    "# pd.to_datetime('now').tz_localize('America/Chicago').strftime(fmt)\n",
    "\n",
    "df.sale_date = pd.to_datetime(df.sale_date, format=fmt)\n",
    "\n",
    "# don't forget to sort!\n",
    "df = df.sort_values(by='sale_date').set_index('sale_date')"
   ]
  },
  {
   "cell_type": "code",
   "execution_count": 19,
   "metadata": {},
   "outputs": [
    {
     "data": {
      "text/plain": [
       "<matplotlib.axes._subplots.AxesSubplot at 0x1205bb860>"
      ]
     },
     "execution_count": 19,
     "metadata": {},
     "output_type": "execute_result"
    },
    {
     "data": {
      "image/png": "[encoded data removed]",
      "text/plain": [
       "<Figure size 432x288 with 1 Axes>"
      ]
     },
     "metadata": {
      "needs_background": "light"
     },
     "output_type": "display_data"
    }
   ],
   "source": [
    "df.sale_amount.plot()"
   ]
  },
  {
   "cell_type": "code",
   "execution_count": 20,
   "metadata": {},
   "outputs": [
    {
     "data": {
      "text/plain": [
       "<matplotlib.axes._subplots.AxesSubplot at 0x12cb182e8>"
      ]
     },
     "execution_count": 20,
     "metadata": {},
     "output_type": "execute_result"
    },
    {
     "data": {
      "image/png": "[encoded data removed]",
      "text/plain": [
       "<Figure size 432x288 with 1 Axes>"
      ]
     },
     "metadata": {
      "needs_background": "light"
     },
     "output_type": "display_data"
    }
   ],
   "source": [
    "df.item_price.plot()"
   ]
  },
  {
   "cell_type": "code",
   "execution_count": 24,
   "metadata": {},
   "outputs": [
    {
     "data": {
      "text/html": [
       "<div>\n",
       "<style scoped>\n",
       "    .dataframe tbody tr th:only-of-type {\n",
       "        vertical-align: middle;\n",
       "    }\n",
       "\n",
       "    .dataframe tbody tr th {\n",
       "        vertical-align: top;\n",
       "    }\n",
       "\n",
       "    .dataframe thead th {\n",
       "        text-align: right;\n",
       "    }\n",
       "</style>\n",
       "<table border=\"1\" class=\"dataframe\">\n",
       "  <thead>\n",
       "    <tr style=\"text-align: right;\">\n",
       "      <th></th>\n",
       "      <th>month</th>\n",
       "      <th>weekday</th>\n",
       "    </tr>\n",
       "    <tr>\n",
       "      <th>sale_date</th>\n",
       "      <th></th>\n",
       "      <th></th>\n",
       "    </tr>\n",
       "  </thead>\n",
       "  <tbody>\n",
       "    <tr>\n",
       "      <td>2013-01-01 00:00:00+00:00</td>\n",
       "      <td>01-Jan</td>\n",
       "      <td>2-Tue</td>\n",
       "    </tr>\n",
       "    <tr>\n",
       "      <td>2013-01-01 00:00:00+00:00</td>\n",
       "      <td>01-Jan</td>\n",
       "      <td>2-Tue</td>\n",
       "    </tr>\n",
       "    <tr>\n",
       "      <td>2013-01-01 00:00:00+00:00</td>\n",
       "      <td>01-Jan</td>\n",
       "      <td>2-Tue</td>\n",
       "    </tr>\n",
       "    <tr>\n",
       "      <td>2013-01-01 00:00:00+00:00</td>\n",
       "      <td>01-Jan</td>\n",
       "      <td>2-Tue</td>\n",
       "    </tr>\n",
       "    <tr>\n",
       "      <td>2013-01-01 00:00:00+00:00</td>\n",
       "      <td>01-Jan</td>\n",
       "      <td>2-Tue</td>\n",
       "    </tr>\n",
       "  </tbody>\n",
       "</table>\n",
       "</div>"
      ],
      "text/plain": [
       "                            month weekday\n",
       "sale_date                                \n",
       "2013-01-01 00:00:00+00:00  01-Jan   2-Tue\n",
       "2013-01-01 00:00:00+00:00  01-Jan   2-Tue\n",
       "2013-01-01 00:00:00+00:00  01-Jan   2-Tue\n",
       "2013-01-01 00:00:00+00:00  01-Jan   2-Tue\n",
       "2013-01-01 00:00:00+00:00  01-Jan   2-Tue"
      ]
     },
     "execution_count": 24,
     "metadata": {},
     "output_type": "execute_result"
    }
   ],
   "source": [
    "df['month'] = df.index.strftime('%m-%b')\n",
    "df['weekday'] = df.index.strftime('%w-%a')\n",
    "df[['month', 'weekday']].head()"
   ]
  },
  {
   "cell_type": "code",
   "execution_count": 31,
   "metadata": {},
   "outputs": [
    {
     "data": {
      "text/plain": [
       "True"
      ]
     },
     "execution_count": 31,
     "metadata": {},
     "output_type": "execute_result"
    }
   ],
   "source": [
    "(df.sale_amount.astype('int') == df.sale_amount).all()"
   ]
  },
  {
   "cell_type": "code",
   "execution_count": 32,
   "metadata": {},
   "outputs": [],
   "source": [
    "df.sale_amount = df.sale_amount.astype('int')"
   ]
  },
  {
   "cell_type": "code",
   "execution_count": 34,
   "metadata": {},
   "outputs": [
    {
     "data": {
      "text/plain": [
       "<matplotlib.axes._subplots.AxesSubplot at 0x14eb310b8>"
      ]
     },
     "execution_count": 34,
     "metadata": {},
     "output_type": "execute_result"
    },
    {
     "data": {
      "image/png": "[encoded data removed]",
      "text/plain": [
       "<Figure size 432x288 with 1 Axes>"
      ]
     },
     "metadata": {
      "needs_background": "light"
     },
     "output_type": "display_data"
    }
   ],
   "source": [
    "df.item_price.plot.hist()"
   ]
  },
  {
   "cell_type": "code",
   "execution_count": 35,
   "metadata": {},
   "outputs": [],
   "source": [
    "df['sales_total'] = df.sale_amount * df.item_price"
   ]
  },
  {
   "cell_type": "code",
   "execution_count": 40,
   "metadata": {},
   "outputs": [
    {
     "data": {
      "text/html": [
       "<div>\n",
       "<style scoped>\n",
       "    .dataframe tbody tr th:only-of-type {\n",
       "        vertical-align: middle;\n",
       "    }\n",
       "\n",
       "    .dataframe tbody tr th {\n",
       "        vertical-align: top;\n",
       "    }\n",
       "\n",
       "    .dataframe thead th {\n",
       "        text-align: right;\n",
       "    }\n",
       "</style>\n",
       "<table border=\"1\" class=\"dataframe\">\n",
       "  <thead>\n",
       "    <tr style=\"text-align: right;\">\n",
       "      <th></th>\n",
       "      <th>sales_total</th>\n",
       "    </tr>\n",
       "    <tr>\n",
       "      <th>sale_date</th>\n",
       "      <th></th>\n",
       "    </tr>\n",
       "  </thead>\n",
       "  <tbody>\n",
       "    <tr>\n",
       "      <td>2013-01-01 00:00:00+00:00</td>\n",
       "      <td>73844.01</td>\n",
       "    </tr>\n",
       "    <tr>\n",
       "      <td>2013-01-02 00:00:00+00:00</td>\n",
       "      <td>73570.58</td>\n",
       "    </tr>\n",
       "    <tr>\n",
       "      <td>2013-01-03 00:00:00+00:00</td>\n",
       "      <td>78169.48</td>\n",
       "    </tr>\n",
       "    <tr>\n",
       "      <td>2013-01-04 00:00:00+00:00</td>\n",
       "      <td>84467.73</td>\n",
       "    </tr>\n",
       "    <tr>\n",
       "      <td>2013-01-05 00:00:00+00:00</td>\n",
       "      <td>87621.85</td>\n",
       "    </tr>\n",
       "    <tr>\n",
       "      <td>...</td>\n",
       "      <td>...</td>\n",
       "    </tr>\n",
       "    <tr>\n",
       "      <td>2017-12-27 00:00:00+00:00</td>\n",
       "      <td>109151.15</td>\n",
       "    </tr>\n",
       "    <tr>\n",
       "      <td>2017-12-28 00:00:00+00:00</td>\n",
       "      <td>117377.49</td>\n",
       "    </tr>\n",
       "    <tr>\n",
       "      <td>2017-12-29 00:00:00+00:00</td>\n",
       "      <td>126541.84</td>\n",
       "    </tr>\n",
       "    <tr>\n",
       "      <td>2017-12-30 00:00:00+00:00</td>\n",
       "      <td>134903.07</td>\n",
       "    </tr>\n",
       "    <tr>\n",
       "      <td>2017-12-31 00:00:00+00:00</td>\n",
       "      <td>140905.74</td>\n",
       "    </tr>\n",
       "  </tbody>\n",
       "</table>\n",
       "<p>1826 rows × 1 columns</p>\n",
       "</div>"
      ],
      "text/plain": [
       "                           sales_total\n",
       "sale_date                             \n",
       "2013-01-01 00:00:00+00:00     73844.01\n",
       "2013-01-02 00:00:00+00:00     73570.58\n",
       "2013-01-03 00:00:00+00:00     78169.48\n",
       "2013-01-04 00:00:00+00:00     84467.73\n",
       "2013-01-05 00:00:00+00:00     87621.85\n",
       "...                                ...\n",
       "2017-12-27 00:00:00+00:00    109151.15\n",
       "2017-12-28 00:00:00+00:00    117377.49\n",
       "2017-12-29 00:00:00+00:00    126541.84\n",
       "2017-12-30 00:00:00+00:00    134903.07\n",
       "2017-12-31 00:00:00+00:00    140905.74\n",
       "\n",
       "[1826 rows x 1 columns]"
      ]
     },
     "execution_count": 40,
     "metadata": {},
     "output_type": "execute_result"
    }
   ],
   "source": [
    "sales_by_day = df.resample('D')[['sales_total']].sum()\n",
    "sales_by_day"
   ]
  },
  {
   "cell_type": "code",
   "execution_count": 42,
   "metadata": {},
   "outputs": [
    {
     "data": {
      "text/html": [
       "<div>\n",
       "<style scoped>\n",
       "    .dataframe tbody tr th:only-of-type {\n",
       "        vertical-align: middle;\n",
       "    }\n",
       "\n",
       "    .dataframe tbody tr th {\n",
       "        vertical-align: top;\n",
       "    }\n",
       "\n",
       "    .dataframe thead th {\n",
       "        text-align: right;\n",
       "    }\n",
       "</style>\n",
       "<table border=\"1\" class=\"dataframe\">\n",
       "  <thead>\n",
       "    <tr style=\"text-align: right;\">\n",
       "      <th></th>\n",
       "      <th>sales_total</th>\n",
       "      <th>diff_with_last_day</th>\n",
       "    </tr>\n",
       "    <tr>\n",
       "      <th>sale_date</th>\n",
       "      <th></th>\n",
       "      <th></th>\n",
       "    </tr>\n",
       "  </thead>\n",
       "  <tbody>\n",
       "    <tr>\n",
       "      <td>2013-01-01 00:00:00+00:00</td>\n",
       "      <td>73844.01</td>\n",
       "      <td>NaN</td>\n",
       "    </tr>\n",
       "    <tr>\n",
       "      <td>2013-01-02 00:00:00+00:00</td>\n",
       "      <td>73570.58</td>\n",
       "      <td>-273.43</td>\n",
       "    </tr>\n",
       "    <tr>\n",
       "      <td>2013-01-03 00:00:00+00:00</td>\n",
       "      <td>78169.48</td>\n",
       "      <td>4598.90</td>\n",
       "    </tr>\n",
       "    <tr>\n",
       "      <td>2013-01-04 00:00:00+00:00</td>\n",
       "      <td>84467.73</td>\n",
       "      <td>6298.25</td>\n",
       "    </tr>\n",
       "    <tr>\n",
       "      <td>2013-01-05 00:00:00+00:00</td>\n",
       "      <td>87621.85</td>\n",
       "      <td>3154.12</td>\n",
       "    </tr>\n",
       "    <tr>\n",
       "      <td>...</td>\n",
       "      <td>...</td>\n",
       "      <td>...</td>\n",
       "    </tr>\n",
       "    <tr>\n",
       "      <td>2017-12-27 00:00:00+00:00</td>\n",
       "      <td>109151.15</td>\n",
       "      <td>-2850.06</td>\n",
       "    </tr>\n",
       "    <tr>\n",
       "      <td>2017-12-28 00:00:00+00:00</td>\n",
       "      <td>117377.49</td>\n",
       "      <td>8226.34</td>\n",
       "    </tr>\n",
       "    <tr>\n",
       "      <td>2017-12-29 00:00:00+00:00</td>\n",
       "      <td>126541.84</td>\n",
       "      <td>9164.35</td>\n",
       "    </tr>\n",
       "    <tr>\n",
       "      <td>2017-12-30 00:00:00+00:00</td>\n",
       "      <td>134903.07</td>\n",
       "      <td>8361.23</td>\n",
       "    </tr>\n",
       "    <tr>\n",
       "      <td>2017-12-31 00:00:00+00:00</td>\n",
       "      <td>140905.74</td>\n",
       "      <td>6002.67</td>\n",
       "    </tr>\n",
       "  </tbody>\n",
       "</table>\n",
       "<p>1826 rows × 2 columns</p>\n",
       "</div>"
      ],
      "text/plain": [
       "                           sales_total  diff_with_last_day\n",
       "sale_date                                                 \n",
       "2013-01-01 00:00:00+00:00     73844.01                 NaN\n",
       "2013-01-02 00:00:00+00:00     73570.58             -273.43\n",
       "2013-01-03 00:00:00+00:00     78169.48             4598.90\n",
       "2013-01-04 00:00:00+00:00     84467.73             6298.25\n",
       "2013-01-05 00:00:00+00:00     87621.85             3154.12\n",
       "...                                ...                 ...\n",
       "2017-12-27 00:00:00+00:00    109151.15            -2850.06\n",
       "2017-12-28 00:00:00+00:00    117377.49             8226.34\n",
       "2017-12-29 00:00:00+00:00    126541.84             9164.35\n",
       "2017-12-30 00:00:00+00:00    134903.07             8361.23\n",
       "2017-12-31 00:00:00+00:00    140905.74             6002.67\n",
       "\n",
       "[1826 rows x 2 columns]"
      ]
     },
     "execution_count": 42,
     "metadata": {},
     "output_type": "execute_result"
    }
   ],
   "source": [
    "sales_by_day['diff_with_last_day'] = sales_by_day.sales_total.diff()\n",
    "sales_by_day"
   ]
  },
  {
   "cell_type": "code",
   "execution_count": null,
   "metadata": {},
   "outputs": [],
   "source": [
    "# code from the curriculum's summarize.py module\n",
    "\n",
    "def nulls_by_col(df):\n",
    "    num_missing = df.isnull().sum()\n",
    "    rows = df.shape[0]\n",
    "    pct_missing = num_missing/rows\n",
    "    cols_missing = pd.DataFrame({'num_rows_missing': num_missing, 'pct_rows_missing': pct_missing})\n",
    "    return cols_missing\n",
    "\n",
    "def nulls_by_row(df):\n",
    "    num_cols_missing = df.isnull().sum(axis=1)\n",
    "    pct_cols_missing = df.isnull().sum(axis=1)/df.shape[1]*100\n",
    "    rows_missing = pd.DataFrame({'num_cols_missing': num_cols_missing, 'pct_cols_missing': pct_cols_missing}).reset_index().groupby(['num_cols_missing','pct_cols_missing']).count().rename(index=str, columns={'index': 'num_rows'}).reset_index()\n",
    "    return rows_missing\n",
    "\n",
    "def df_value_counts(df):\n",
    "    counts = pd.Series([])\n",
    "    for i, col in enumerate(df.columns.values):\n",
    "        if df[col].dtype == 'object':\n",
    "            col_count = df[col].value_counts()\n",
    "        else:\n",
    "            col_count = df[col].value_counts(bins=10, sort=False)\n",
    "        counts = counts.append(col_count)\n",
    "    return counts\n",
    "\n",
    "def df_summary(df):\n",
    "    print('--- Shape: {}'.format(df.shape))\n",
    "    print('--- Info')\n",
    "    df.info()\n",
    "    print('--- Descriptions')\n",
    "    print(df.describe(include='all'))\n",
    "    print('--- Nulls By Column')\n",
    "    print(nulls_by_col(df))\n",
    "    print('--- Nulls By Row')\n",
    "    print(nulls_by_row(df))\n",
    "    print('--- Value Counts')\n",
    "    print(df_value_counts(df))\n"
   ]
  },
  {
   "cell_type": "code",
   "execution_count": 44,
   "metadata": {},
   "outputs": [],
   "source": [
    "def prep_store_data(df):\n",
    "    # parse the date column and set it as the index\n",
    "    fmt = '%a, %d %b %Y %H:%M:%S %Z'\n",
    "    df.sale_date = pd.to_datetime(df.sale_date, format=fmt)\n",
    "    df = df.sort_values(by='sale_date').set_index('sale_date')\n",
    "\n",
    "    # add some time components as features\n",
    "    df['month'] = df.index.strftime('%m-%b')\n",
    "    df['weekday'] = df.index.strftime('%w-%a')\n",
    "\n",
    "    # derive the total sales\n",
    "    df['sales_total'] = df.sale_amount * df.item_price\n",
    "    \n",
    "    return df\n",
    "\n",
    "def get_sales_by_day(df):\n",
    "    sales_by_day = df.resample('D')[['sales_total']].sum()\n",
    "    sales_by_day['diff_with_last_day'] = sales_by_day.sales_total.diff()\n",
    "    return sales_by_day"
   ]
  }
 ],
 "metadata": {
  "kernelspec": {
   "display_name": "Python 3",
   "language": "python",
   "name": "python3"
  },
  "language_info": {
   "codemirror_mode": {
    "name": "ipython",
    "version": 3
   },
   "file_extension": ".py",
   "mimetype": "text/x-python",
   "name": "python",
   "nbconvert_exporter": "python",
   "pygments_lexer": "ipython3",
   "version": "3.7.3"
  }
 },
 "nbformat": 4,
 "nbformat_minor": 2
}
