{
 "cells": [
  {
   "cell_type": "markdown",
   "metadata": {},
   "source": [
    "# Acquisition\n",
    "\n",
    "- JSON\n",
    "- REST\n",
    "- API\n",
    "\n",
    "RESTful JSON API\n",
    "\n",
    "- RESTful: its a server on the internet and the urls follow a certain pattern\n",
    "- JSON: the API \"speaks\" JSON\n",
    "- API: it's something we can interact with progromatically\n",
    "\n",
    "JSON data"
   ]
  },
  {
   "cell_type": "code",
   "execution_count": 1,
   "metadata": {},
   "outputs": [],
   "source": [
    "import requests"
   ]
  },
  {
   "cell_type": "code",
   "execution_count": 3,
   "metadata": {},
   "outputs": [
    {
     "data": {
      "text/plain": [
       "<Response [200]>"
      ]
     },
     "execution_count": 3,
     "metadata": {},
     "output_type": "execute_result"
    }
   ],
   "source": [
    "response = requests.get('http://example.com')\n",
    "response"
   ]
  },
  {
   "cell_type": "code",
   "execution_count": 4,
   "metadata": {},
   "outputs": [
    {
     "data": {
      "text/plain": [
       "True"
      ]
     },
     "execution_count": 4,
     "metadata": {},
     "output_type": "execute_result"
    }
   ],
   "source": [
    "response.ok"
   ]
  },
  {
   "cell_type": "code",
   "execution_count": 5,
   "metadata": {},
   "outputs": [
    {
     "data": {
      "text/plain": [
       "200"
      ]
     },
     "execution_count": 5,
     "metadata": {},
     "output_type": "execute_result"
    }
   ],
   "source": [
    "response.status_code"
   ]
  },
  {
   "cell_type": "code",
   "execution_count": 8,
   "metadata": {},
   "outputs": [
    {
     "data": {
      "text/plain": [
       "'<!doctype html>\\n<html>\\n<head>\\n    <title>Example Domain</title>\\n\\n    <meta charset=\"utf-8\" />\\n    <meta http-equiv=\"Content-type\" content=\"text/html; charset=utf-8\" />\\n    <meta name=\"viewport\" content=\"width=device-width, initial-scale=1\" />\\n    <style type=\"text/css\">\\n    body {\\n        background-color: #f0f0f2;\\n        margin: 0;\\n        padding: 0;\\n        font-family: -apple-system, system-ui, BlinkMacSystemFont, \"Segoe UI\", \"Open Sans\", \"Helvetica Neue\", Helvetica, Arial, sans-serif;\\n        \\n    }\\n    div {\\n        width: 600px;\\n        margin: 5em auto;\\n        padding: 2em;\\n        background-color: #fdfdff;\\n        border-radius: 0.5em;\\n        box-shadow: 2px 3px 7px 2px rgba(0,0,0,0.02);\\n    }\\n    a:link, a:visited {\\n        color: #38488f;\\n        text-decoration: none;\\n    }\\n    @media (max-width: 700px) {\\n        div {\\n            margin: 0 auto;\\n            width: auto;\\n        }\\n    }\\n    </style>    \\n</head>\\n\\n<body>\\n<div>\\n    <h1>Example Domain</h1>\\n    <p>This domain is for use in illustrative examples in documents. You may use this\\n    domain in literature without prior coordination or asking for permission.</p>\\n    <p><a href=\"https://www.iana.org/domains/example\">More information...</a></p>\\n</div>\\n</body>\\n</html>\\n'"
      ]
     },
     "execution_count": 8,
     "metadata": {},
     "output_type": "execute_result"
    }
   ],
   "source": [
    "response.text"
   ]
  },
  {
   "cell_type": "code",
   "execution_count": 15,
   "metadata": {},
   "outputs": [
    {
     "data": {
      "text/plain": [
       "<Response [200]>"
      ]
     },
     "execution_count": 15,
     "metadata": {},
     "output_type": "execute_result"
    }
   ],
   "source": [
    "response = requests.get('https://swapi.co/api/people/2')\n",
    "response"
   ]
  },
  {
   "cell_type": "code",
   "execution_count": 17,
   "metadata": {},
   "outputs": [
    {
     "name": "stdout",
     "output_type": "stream",
     "text": [
      "{\"name\":\"C-3PO\",\"height\":\"167\",\"mass\":\"75\",\"hair_color\":\"n/a\",\"skin_color\":\"gold\",\"eye_color\":\"yellow\",\"birth_year\":\"112BBY\",\"gender\":\"n/a\",\"homeworld\":\"https://swapi.co/api/planets/1/\",\"films\":[\"https://swapi.co/api/films/2/\",\"https://swapi.co/api/films/5/\",\"https://swapi.co/api/films/4/\",\"https://swapi.co/api/films/6/\",\"https://swapi.co/api/films/3/\",\"https://swapi.co/api/films/1/\"],\"species\":[\"https://swapi.co/api/species/2/\"],\"vehicles\":[],\"starships\":[],\"created\":\"2014-12-10T15:10:51.357000Z\",\"edited\":\"2014-12-20T21:17:50.309000Z\",\"url\":\"https://swapi.co/api/people/2/\"}\n"
     ]
    }
   ],
   "source": [
    "print(response.text)"
   ]
  },
  {
   "cell_type": "code",
   "execution_count": 18,
   "metadata": {},
   "outputs": [
    {
     "data": {
      "text/plain": [
       "{'name': 'C-3PO',\n",
       " 'height': '167',\n",
       " 'mass': '75',\n",
       " 'hair_color': 'n/a',\n",
       " 'skin_color': 'gold',\n",
       " 'eye_color': 'yellow',\n",
       " 'birth_year': '112BBY',\n",
       " 'gender': 'n/a',\n",
       " 'homeworld': 'https://swapi.co/api/planets/1/',\n",
       " 'films': ['https://swapi.co/api/films/2/',\n",
       "  'https://swapi.co/api/films/5/',\n",
       "  'https://swapi.co/api/films/4/',\n",
       "  'https://swapi.co/api/films/6/',\n",
       "  'https://swapi.co/api/films/3/',\n",
       "  'https://swapi.co/api/films/1/'],\n",
       " 'species': ['https://swapi.co/api/species/2/'],\n",
       " 'vehicles': [],\n",
       " 'starships': [],\n",
       " 'created': '2014-12-10T15:10:51.357000Z',\n",
       " 'edited': '2014-12-20T21:17:50.309000Z',\n",
       " 'url': 'https://swapi.co/api/people/2/'}"
      ]
     },
     "execution_count": 18,
     "metadata": {},
     "output_type": "execute_result"
    }
   ],
   "source": [
    "response.json()"
   ]
  },
  {
   "cell_type": "code",
   "execution_count": 19,
   "metadata": {},
   "outputs": [
    {
     "data": {
      "text/plain": [
       "<Response [200]>"
      ]
     },
     "execution_count": 19,
     "metadata": {},
     "output_type": "execute_result"
    }
   ],
   "source": [
    "base_url = 'https://python.zach.lol'\n",
    "\n",
    "response = requests.get(base_url)\n",
    "response"
   ]
  },
  {
   "cell_type": "code",
   "execution_count": 22,
   "metadata": {},
   "outputs": [
    {
     "data": {
      "text/plain": [
       "{'api': '/api/v1', 'help': '/documentation'}"
      ]
     },
     "execution_count": 22,
     "metadata": {},
     "output_type": "execute_result"
    }
   ],
   "source": [
    "response.json()"
   ]
  },
  {
   "cell_type": "code",
   "execution_count": 26,
   "metadata": {},
   "outputs": [
    {
     "data": {
      "text/plain": [
       "{'payload': '\\nThe API accepts GET requests for all endpoints, where endpoints are prefixed\\nwith\\n\\n    /api/{version}\\n\\nWhere version is \"v1\"\\n\\nValid endpoints:\\n\\n- /stores[/{store_id}]\\n- /items[/{item_id}]\\n- /sales[/{sale_id}]\\n\\nAll endpoints accept a `page` parameter that can be used to navigate through\\nthe results.\\n',\n",
       " 'status': 'ok'}"
      ]
     },
     "execution_count": 26,
     "metadata": {},
     "output_type": "execute_result"
    }
   ],
   "source": [
    "base_url + '/documentation'\n",
    "\n",
    "response = requests.get(base_url + '/documentation')\n",
    "data = response.json()\n",
    "data"
   ]
  },
  {
   "cell_type": "code",
   "execution_count": 27,
   "metadata": {},
   "outputs": [
    {
     "data": {
      "text/plain": [
       "dict_keys(['payload', 'status'])"
      ]
     },
     "execution_count": 27,
     "metadata": {},
     "output_type": "execute_result"
    }
   ],
   "source": [
    "data.keys()"
   ]
  },
  {
   "cell_type": "code",
   "execution_count": 29,
   "metadata": {},
   "outputs": [
    {
     "name": "stdout",
     "output_type": "stream",
     "text": [
      "\n",
      "The API accepts GET requests for all endpoints, where endpoints are prefixed\n",
      "with\n",
      "\n",
      "    /api/{version}\n",
      "\n",
      "Where version is \"v1\"\n",
      "\n",
      "Valid endpoints:\n",
      "\n",
      "- /stores[/{store_id}]\n",
      "- /items[/{item_id}]\n",
      "- /sales[/{sale_id}]\n",
      "\n",
      "All endpoints accept a `page` parameter that can be used to navigate through\n",
      "the results.\n",
      "\n"
     ]
    }
   ],
   "source": [
    "print(data['payload'])"
   ]
  },
  {
   "cell_type": "code",
   "execution_count": 32,
   "metadata": {},
   "outputs": [
    {
     "name": "stdout",
     "output_type": "stream",
     "text": [
      "making request to https://python.zach.lol/api/v1/items\n"
     ]
    }
   ],
   "source": [
    "url = base_url + '/api/v1/items'\n",
    "\n",
    "print('making request to', url)\n",
    "\n",
    "response = requests.get(url)\n",
    "data = response.json()"
   ]
  },
  {
   "cell_type": "code",
   "execution_count": 44,
   "metadata": {},
   "outputs": [
    {
     "data": {
      "text/plain": [
       "{'payload': {'items': [{'item_brand': 'Riceland',\n",
       "    'item_id': 1,\n",
       "    'item_name': 'Riceland American Jazmine Rice',\n",
       "    'item_price': 0.84,\n",
       "    'item_upc12': '35200264013',\n",
       "    'item_upc14': '35200264013'},\n",
       "   {'item_brand': 'Caress',\n",
       "    'item_id': 2,\n",
       "    'item_name': 'Caress Velvet Bliss Ultra Silkening Beauty Bar - 6 Ct',\n",
       "    'item_price': 6.44,\n",
       "    'item_upc12': '11111065925',\n",
       "    'item_upc14': '11111065925'},\n",
       "   {'item_brand': 'Earths Best',\n",
       "    'item_id': 3,\n",
       "    'item_name': 'Earths Best Organic Fruit Yogurt Smoothie Mixed Berry',\n",
       "    'item_price': 2.43,\n",
       "    'item_upc12': '23923330139',\n",
       "    'item_upc14': '23923330139'},\n",
       "   {'item_brand': 'Boars Head',\n",
       "    'item_id': 4,\n",
       "    'item_name': 'Boars Head Sliced White American Cheese - 120 Ct',\n",
       "    'item_price': 3.14,\n",
       "    'item_upc12': '208528800007',\n",
       "    'item_upc14': '208528800007'},\n",
       "   {'item_brand': 'Back To Nature',\n",
       "    'item_id': 5,\n",
       "    'item_name': 'Back To Nature Gluten Free White Cheddar Rice Thin Crackers',\n",
       "    'item_price': 2.61,\n",
       "    'item_upc12': '759283100036',\n",
       "    'item_upc14': '759283100036'},\n",
       "   {'item_brand': 'Sally Hansen',\n",
       "    'item_id': 6,\n",
       "    'item_name': 'Sally Hansen Nail Color Magnetic 903 Silver Elements',\n",
       "    'item_price': 6.93,\n",
       "    'item_upc12': '74170388732',\n",
       "    'item_upc14': '74170388732'},\n",
       "   {'item_brand': 'Twinings Of London',\n",
       "    'item_id': 7,\n",
       "    'item_name': 'Twinings Of London Classics Lady Grey Tea - 20 Ct',\n",
       "    'item_price': 9.64,\n",
       "    'item_upc12': '70177154004',\n",
       "    'item_upc14': '70177154004'},\n",
       "   {'item_brand': 'Lea & Perrins',\n",
       "    'item_id': 8,\n",
       "    'item_name': 'Lea & Perrins Marinade In-a-bag Cracked Peppercorn',\n",
       "    'item_price': 1.68,\n",
       "    'item_upc12': '51600080015',\n",
       "    'item_upc14': '51600080015'},\n",
       "   {'item_brand': 'Van De Kamps',\n",
       "    'item_id': 9,\n",
       "    'item_name': 'Van De Kamps Fillets Beer Battered - 10 Ct',\n",
       "    'item_price': 1.79,\n",
       "    'item_upc12': '19600923015',\n",
       "    'item_upc14': '19600923015'},\n",
       "   {'item_brand': 'Ahold',\n",
       "    'item_id': 10,\n",
       "    'item_name': 'Ahold Cocoa Almonds',\n",
       "    'item_price': 3.17,\n",
       "    'item_upc12': '688267141676',\n",
       "    'item_upc14': '688267141676'},\n",
       "   {'item_brand': 'Honest Tea',\n",
       "    'item_id': 11,\n",
       "    'item_name': 'Honest Tea Peach White Tea',\n",
       "    'item_price': 3.93,\n",
       "    'item_upc12': '657622604842',\n",
       "    'item_upc14': '657622604842'},\n",
       "   {'item_brand': 'Mueller',\n",
       "    'item_id': 12,\n",
       "    'item_name': 'Mueller Sport Care Basic Support Level Medium Elastic Knee Support',\n",
       "    'item_price': 8.4,\n",
       "    'item_upc12': '74676640211',\n",
       "    'item_upc14': '74676640211'},\n",
       "   {'item_brand': 'Garnier Nutritioniste',\n",
       "    'item_id': 13,\n",
       "    'item_name': 'Garnier Nutritioniste Moisture Rescue Fresh Cleansing Foam',\n",
       "    'item_price': 6.47,\n",
       "    'item_upc12': '603084234561',\n",
       "    'item_upc14': '603084234561'},\n",
       "   {'item_brand': 'Pamprin',\n",
       "    'item_id': 14,\n",
       "    'item_name': 'Pamprin Maximum Strength Multi-symptom Menstrual Pain Relief',\n",
       "    'item_price': 7.54,\n",
       "    'item_upc12': '41167300121',\n",
       "    'item_upc14': '41167300121'},\n",
       "   {'item_brand': 'Suave',\n",
       "    'item_id': 15,\n",
       "    'item_name': 'Suave Naturals Moisturizing Body Wash Creamy Tropical Coconut',\n",
       "    'item_price': 9.11,\n",
       "    'item_upc12': '79400847201',\n",
       "    'item_upc14': '79400847201'},\n",
       "   {'item_brand': 'Burts Bees',\n",
       "    'item_id': 16,\n",
       "    'item_name': 'Burts Bees Daily Moisturizing Cream Sensitive',\n",
       "    'item_price': 5.17,\n",
       "    'item_upc12': '792850014008',\n",
       "    'item_upc14': '792850014008'},\n",
       "   {'item_brand': 'Ducal',\n",
       "    'item_id': 17,\n",
       "    'item_name': 'Ducal Refried Red Beans',\n",
       "    'item_price': 1.16,\n",
       "    'item_upc12': '88313590791',\n",
       "    'item_upc14': '88313590791'},\n",
       "   {'item_brand': 'Scotch',\n",
       "    'item_id': 18,\n",
       "    'item_name': 'Scotch Removable Clear Mounting Squares - 35 Ct',\n",
       "    'item_price': 4.39,\n",
       "    'item_upc12': '21200725340',\n",
       "    'item_upc14': '21200725340'},\n",
       "   {'item_brand': 'Careone',\n",
       "    'item_id': 19,\n",
       "    'item_name': 'Careone Family Comb Set - 8 Ct',\n",
       "    'item_price': 0.74,\n",
       "    'item_upc12': '41520035646',\n",
       "    'item_upc14': '41520035646'},\n",
       "   {'item_brand': 'Usda Produce',\n",
       "    'item_id': 20,\n",
       "    'item_name': 'Plums Black',\n",
       "    'item_price': 5.62,\n",
       "    'item_upc12': '204040000000',\n",
       "    'item_upc14': '204040000000'}],\n",
       "  'max_page': 3,\n",
       "  'next_page': '/api/v1/items?page=2',\n",
       "  'page': 1,\n",
       "  'previous_page': None},\n",
       " 'status': 'ok'}"
      ]
     },
     "execution_count": 44,
     "metadata": {},
     "output_type": "execute_result"
    }
   ],
   "source": [
    "data"
   ]
  },
  {
   "cell_type": "code",
   "execution_count": 34,
   "metadata": {},
   "outputs": [
    {
     "data": {
      "text/plain": [
       "dict"
      ]
     },
     "execution_count": 34,
     "metadata": {},
     "output_type": "execute_result"
    }
   ],
   "source": [
    "type(data)"
   ]
  },
  {
   "cell_type": "code",
   "execution_count": 35,
   "metadata": {},
   "outputs": [
    {
     "data": {
      "text/plain": [
       "dict_keys(['payload', 'status'])"
      ]
     },
     "execution_count": 35,
     "metadata": {},
     "output_type": "execute_result"
    }
   ],
   "source": [
    "data.keys()"
   ]
  },
  {
   "cell_type": "code",
   "execution_count": 36,
   "metadata": {},
   "outputs": [
    {
     "data": {
      "text/plain": [
       "'ok'"
      ]
     },
     "execution_count": 36,
     "metadata": {},
     "output_type": "execute_result"
    }
   ],
   "source": [
    "data['status']"
   ]
  },
  {
   "cell_type": "code",
   "execution_count": 40,
   "metadata": {},
   "outputs": [
    {
     "data": {
      "text/plain": [
       "dict_keys(['items', 'max_page', 'next_page', 'page', 'previous_page'])"
      ]
     },
     "execution_count": 40,
     "metadata": {},
     "output_type": "execute_result"
    }
   ],
   "source": [
    "data['payload'].keys()"
   ]
  },
  {
   "cell_type": "code",
   "execution_count": 42,
   "metadata": {},
   "outputs": [
    {
     "data": {
      "text/plain": [
       "3"
      ]
     },
     "execution_count": 42,
     "metadata": {},
     "output_type": "execute_result"
    }
   ],
   "source": [
    "data['payload']['max_page']"
   ]
  },
  {
   "cell_type": "code",
   "execution_count": 43,
   "metadata": {},
   "outputs": [
    {
     "data": {
      "text/plain": [
       "'/api/v1/items?page=2'"
      ]
     },
     "execution_count": 43,
     "metadata": {},
     "output_type": "execute_result"
    }
   ],
   "source": [
    "data['payload']['next_page']"
   ]
  },
  {
   "cell_type": "code",
   "execution_count": 41,
   "metadata": {},
   "outputs": [
    {
     "data": {
      "text/plain": [
       "[{'item_brand': 'Riceland',\n",
       "  'item_id': 1,\n",
       "  'item_name': 'Riceland American Jazmine Rice',\n",
       "  'item_price': 0.84,\n",
       "  'item_upc12': '35200264013',\n",
       "  'item_upc14': '35200264013'},\n",
       " {'item_brand': 'Caress',\n",
       "  'item_id': 2,\n",
       "  'item_name': 'Caress Velvet Bliss Ultra Silkening Beauty Bar - 6 Ct',\n",
       "  'item_price': 6.44,\n",
       "  'item_upc12': '11111065925',\n",
       "  'item_upc14': '11111065925'},\n",
       " {'item_brand': 'Earths Best',\n",
       "  'item_id': 3,\n",
       "  'item_name': 'Earths Best Organic Fruit Yogurt Smoothie Mixed Berry',\n",
       "  'item_price': 2.43,\n",
       "  'item_upc12': '23923330139',\n",
       "  'item_upc14': '23923330139'},\n",
       " {'item_brand': 'Boars Head',\n",
       "  'item_id': 4,\n",
       "  'item_name': 'Boars Head Sliced White American Cheese - 120 Ct',\n",
       "  'item_price': 3.14,\n",
       "  'item_upc12': '208528800007',\n",
       "  'item_upc14': '208528800007'},\n",
       " {'item_brand': 'Back To Nature',\n",
       "  'item_id': 5,\n",
       "  'item_name': 'Back To Nature Gluten Free White Cheddar Rice Thin Crackers',\n",
       "  'item_price': 2.61,\n",
       "  'item_upc12': '759283100036',\n",
       "  'item_upc14': '759283100036'},\n",
       " {'item_brand': 'Sally Hansen',\n",
       "  'item_id': 6,\n",
       "  'item_name': 'Sally Hansen Nail Color Magnetic 903 Silver Elements',\n",
       "  'item_price': 6.93,\n",
       "  'item_upc12': '74170388732',\n",
       "  'item_upc14': '74170388732'},\n",
       " {'item_brand': 'Twinings Of London',\n",
       "  'item_id': 7,\n",
       "  'item_name': 'Twinings Of London Classics Lady Grey Tea - 20 Ct',\n",
       "  'item_price': 9.64,\n",
       "  'item_upc12': '70177154004',\n",
       "  'item_upc14': '70177154004'},\n",
       " {'item_brand': 'Lea & Perrins',\n",
       "  'item_id': 8,\n",
       "  'item_name': 'Lea & Perrins Marinade In-a-bag Cracked Peppercorn',\n",
       "  'item_price': 1.68,\n",
       "  'item_upc12': '51600080015',\n",
       "  'item_upc14': '51600080015'},\n",
       " {'item_brand': 'Van De Kamps',\n",
       "  'item_id': 9,\n",
       "  'item_name': 'Van De Kamps Fillets Beer Battered - 10 Ct',\n",
       "  'item_price': 1.79,\n",
       "  'item_upc12': '19600923015',\n",
       "  'item_upc14': '19600923015'},\n",
       " {'item_brand': 'Ahold',\n",
       "  'item_id': 10,\n",
       "  'item_name': 'Ahold Cocoa Almonds',\n",
       "  'item_price': 3.17,\n",
       "  'item_upc12': '688267141676',\n",
       "  'item_upc14': '688267141676'},\n",
       " {'item_brand': 'Honest Tea',\n",
       "  'item_id': 11,\n",
       "  'item_name': 'Honest Tea Peach White Tea',\n",
       "  'item_price': 3.93,\n",
       "  'item_upc12': '657622604842',\n",
       "  'item_upc14': '657622604842'},\n",
       " {'item_brand': 'Mueller',\n",
       "  'item_id': 12,\n",
       "  'item_name': 'Mueller Sport Care Basic Support Level Medium Elastic Knee Support',\n",
       "  'item_price': 8.4,\n",
       "  'item_upc12': '74676640211',\n",
       "  'item_upc14': '74676640211'},\n",
       " {'item_brand': 'Garnier Nutritioniste',\n",
       "  'item_id': 13,\n",
       "  'item_name': 'Garnier Nutritioniste Moisture Rescue Fresh Cleansing Foam',\n",
       "  'item_price': 6.47,\n",
       "  'item_upc12': '603084234561',\n",
       "  'item_upc14': '603084234561'},\n",
       " {'item_brand': 'Pamprin',\n",
       "  'item_id': 14,\n",
       "  'item_name': 'Pamprin Maximum Strength Multi-symptom Menstrual Pain Relief',\n",
       "  'item_price': 7.54,\n",
       "  'item_upc12': '41167300121',\n",
       "  'item_upc14': '41167300121'},\n",
       " {'item_brand': 'Suave',\n",
       "  'item_id': 15,\n",
       "  'item_name': 'Suave Naturals Moisturizing Body Wash Creamy Tropical Coconut',\n",
       "  'item_price': 9.11,\n",
       "  'item_upc12': '79400847201',\n",
       "  'item_upc14': '79400847201'},\n",
       " {'item_brand': 'Burts Bees',\n",
       "  'item_id': 16,\n",
       "  'item_name': 'Burts Bees Daily Moisturizing Cream Sensitive',\n",
       "  'item_price': 5.17,\n",
       "  'item_upc12': '792850014008',\n",
       "  'item_upc14': '792850014008'},\n",
       " {'item_brand': 'Ducal',\n",
       "  'item_id': 17,\n",
       "  'item_name': 'Ducal Refried Red Beans',\n",
       "  'item_price': 1.16,\n",
       "  'item_upc12': '88313590791',\n",
       "  'item_upc14': '88313590791'},\n",
       " {'item_brand': 'Scotch',\n",
       "  'item_id': 18,\n",
       "  'item_name': 'Scotch Removable Clear Mounting Squares - 35 Ct',\n",
       "  'item_price': 4.39,\n",
       "  'item_upc12': '21200725340',\n",
       "  'item_upc14': '21200725340'},\n",
       " {'item_brand': 'Careone',\n",
       "  'item_id': 19,\n",
       "  'item_name': 'Careone Family Comb Set - 8 Ct',\n",
       "  'item_price': 0.74,\n",
       "  'item_upc12': '41520035646',\n",
       "  'item_upc14': '41520035646'},\n",
       " {'item_brand': 'Usda Produce',\n",
       "  'item_id': 20,\n",
       "  'item_name': 'Plums Black',\n",
       "  'item_price': 5.62,\n",
       "  'item_upc12': '204040000000',\n",
       "  'item_upc14': '204040000000'}]"
      ]
     },
     "execution_count": 41,
     "metadata": {},
     "output_type": "execute_result"
    }
   ],
   "source": [
    "data['payload']['items']"
   ]
  }
 ],
 "metadata": {
  "kernelspec": {
   "display_name": "Python 3",
   "language": "python",
   "name": "python3"
  },
  "language_info": {
   "codemirror_mode": {
    "name": "ipython",
    "version": 3
   },
   "file_extension": ".py",
   "mimetype": "text/x-python",
   "name": "python",
   "nbconvert_exporter": "python",
   "pygments_lexer": "ipython3",
   "version": "3.7.3"
  }
 },
 "nbformat": 4,
 "nbformat_minor": 2
}
