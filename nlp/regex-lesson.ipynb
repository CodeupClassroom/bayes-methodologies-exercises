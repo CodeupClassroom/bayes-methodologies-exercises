{
 "cells": [
  {
   "cell_type": "markdown",
   "metadata": {},
   "source": [
    "# Regular Expressions\n",
    "\n",
    "- [Examples](#Examples)\n",
    "- [Basic Regex](#Basic-Regex)\n",
    "    - [Metacharacters](#Metacharacters)\n",
    "    - [Repitition](#Repitition)\n",
    "    - [Any of / None of](#Any-of-/-None-of)\n",
    "    - [Anchors](#Anchors)\n",
    "    - [Other Functions](#Other-Functions)\n",
    "    - [Capture Groups](#Capture-Groups)\n",
    "    - [Flags](#Flags)\n",
    "    - [Usage with Pandas](#Usage-with-Pandas)"
   ]
  },
  {
   "cell_type": "markdown",
   "metadata": {},
   "source": [
    "## Examples"
   ]
  },
  {
   "cell_type": "markdown",
   "metadata": {},
   "source": [
    "Say I want to parse the following lines in a log file:\n",
    "\n",
    "<div style=\"font-family: monospace; overflow: scroll; white-space: pre\">GET /api/v1/sales?page=86 [16/Apr/2019:193452+0000] HTTP/1.1 {200} 510348 \"python-requests/2.21.0\" 97.105.19.58\n",
    "POST /users_accounts/file-upload [16/Apr/2019:193452+0000] HTTP/1.1 {201} 42 \"User-Agent: Mozilla/5.0 (X11; Fedora; Fedora; Linux x86_64) AppleWebKit/537.36 (KHTML, like Gecko) Chrome/73.0.3683.86 Safari/537.36\" 97.105.19.58\n",
    "GET /api/v1/items?page=3 [16/Apr/2019:193453+0000] HTTP/1.1 {429} 3561 \"python-requests/2.21.0\" 97.105.19.58\n",
    "</div>"
   ]
  },
  {
   "cell_type": "code",
   "execution_count": 143,
   "metadata": {},
   "outputs": [
    {
     "data": {
      "text/html": [
       "<div>\n",
       "<style scoped>\n",
       "    .dataframe tbody tr th:only-of-type {\n",
       "        vertical-align: middle;\n",
       "    }\n",
       "\n",
       "    .dataframe tbody tr th {\n",
       "        vertical-align: top;\n",
       "    }\n",
       "\n",
       "    .dataframe thead th {\n",
       "        text-align: right;\n",
       "    }\n",
       "</style>\n",
       "<table border=\"1\" class=\"dataframe\">\n",
       "  <thead>\n",
       "    <tr style=\"text-align: right;\">\n",
       "      <th></th>\n",
       "      <th>method</th>\n",
       "      <th>path</th>\n",
       "      <th>query_string</th>\n",
       "      <th>day</th>\n",
       "      <th>month</th>\n",
       "      <th>year</th>\n",
       "      <th>hour</th>\n",
       "      <th>minute</th>\n",
       "      <th>second</th>\n",
       "      <th>timezone</th>\n",
       "      <th>protocol</th>\n",
       "      <th>status</th>\n",
       "      <th>bytes_sent</th>\n",
       "      <th>user_agent</th>\n",
       "      <th>ip</th>\n",
       "    </tr>\n",
       "  </thead>\n",
       "  <tbody>\n",
       "    <tr>\n",
       "      <td>0</td>\n",
       "      <td>GET</td>\n",
       "      <td>/api/v1/sales</td>\n",
       "      <td>page=86</td>\n",
       "      <td>16</td>\n",
       "      <td>Apr</td>\n",
       "      <td>2019</td>\n",
       "      <td>19</td>\n",
       "      <td>34</td>\n",
       "      <td>52</td>\n",
       "      <td>+0000</td>\n",
       "      <td>HTTP/1.1</td>\n",
       "      <td>200</td>\n",
       "      <td>510348</td>\n",
       "      <td>python-requests/2.21.0</td>\n",
       "      <td>97.105.19.58</td>\n",
       "    </tr>\n",
       "    <tr>\n",
       "      <td>1</td>\n",
       "      <td>POST</td>\n",
       "      <td>/users_accounts/file-upload</td>\n",
       "      <td>None</td>\n",
       "      <td>16</td>\n",
       "      <td>Apr</td>\n",
       "      <td>2019</td>\n",
       "      <td>19</td>\n",
       "      <td>34</td>\n",
       "      <td>52</td>\n",
       "      <td>+0000</td>\n",
       "      <td>HTTP/1.1</td>\n",
       "      <td>201</td>\n",
       "      <td>42</td>\n",
       "      <td>User-Agent: Mozilla/5.0 (X11; Fedora; Fedora; ...</td>\n",
       "      <td>97.105.19.58</td>\n",
       "    </tr>\n",
       "    <tr>\n",
       "      <td>2</td>\n",
       "      <td>GET</td>\n",
       "      <td>/api/v1/items</td>\n",
       "      <td>page=3</td>\n",
       "      <td>16</td>\n",
       "      <td>Apr</td>\n",
       "      <td>2019</td>\n",
       "      <td>19</td>\n",
       "      <td>34</td>\n",
       "      <td>53</td>\n",
       "      <td>+0000</td>\n",
       "      <td>HTTP/1.1</td>\n",
       "      <td>429</td>\n",
       "      <td>3561</td>\n",
       "      <td>python-requests/2.21.0</td>\n",
       "      <td>97.105.19.58</td>\n",
       "    </tr>\n",
       "  </tbody>\n",
       "</table>\n",
       "</div>"
      ],
      "text/plain": [
       "  method                         path query_string day month  year hour  \\\n",
       "0    GET                /api/v1/sales      page=86  16   Apr  2019   19   \n",
       "1   POST  /users_accounts/file-upload         None  16   Apr  2019   19   \n",
       "2    GET                /api/v1/items       page=3  16   Apr  2019   19   \n",
       "\n",
       "  minute second timezone  protocol status bytes_sent  \\\n",
       "0     34     52    +0000  HTTP/1.1    200     510348   \n",
       "1     34     52    +0000  HTTP/1.1    201         42   \n",
       "2     34     53    +0000  HTTP/1.1    429       3561   \n",
       "\n",
       "                                          user_agent            ip  \n",
       "0                             python-requests/2.21.0  97.105.19.58  \n",
       "1  User-Agent: Mozilla/5.0 (X11; Fedora; Fedora; ...  97.105.19.58  \n",
       "2                             python-requests/2.21.0  97.105.19.58  "
      ]
     },
     "execution_count": 143,
     "metadata": {},
     "output_type": "execute_result"
    }
   ],
   "source": [
    "import pandas as pd\n",
    "import re\n",
    "\n",
    "lines = '''\n",
    "GET /api/v1/sales?page=86 [16/Apr/2019:193452+0000] HTTP/1.1 {200} 510348 \"python-requests/2.21.0\" 97.105.19.58\n",
    "POST /users_accounts/file-upload [16/Apr/2019:193452+0000] HTTP/1.1 {201} 42 \"User-Agent: Mozilla/5.0 (X11; Fedora; Fedora; Linux x86_64) AppleWebKit/537.36 (KHTML, like Gecko) Chrome/73.0.3683.86 Safari/537.36\" 97.105.19.58\n",
    "GET /api/v1/items?page=3 [16/Apr/2019:193453+0000] HTTP/1.1 {429} 3561 \"python-requests/2.21.0\" 97.105.19.58\n",
    "'''.strip().split('\\n')\n",
    "\n",
    "regex = re.compile(r'''\n",
    "(?P<method>POST|GET)\n",
    "\\s*\n",
    "(?P<path>(?:[/\\w-]+))\n",
    "(?:\\?(?P<query_string>.*?)\\s)?\n",
    "\\s*\\[\n",
    "    (?P<day>\\d+)/(?P<month>\\w+)/(?P<year>\\d+):\n",
    "    (?P<hour>\\d{2})(?P<minute>\\d{2})(?P<second>\\d{2})\n",
    "    (?P<timezone>\\+\\d{4})\n",
    "\\]\\s+\n",
    "(?P<protocol>HTTPS?/\\d\\.\\d)\n",
    "\\s+\n",
    "\\{(?P<status>\\d+)\\}\n",
    "\\s+\n",
    "(?P<bytes_sent>\\d+)\n",
    "\\s+\n",
    "\"(?P<user_agent>.*)\"\n",
    "\\s+\n",
    "(?P<ip>\\d{1,3}\\.\\d{1,3}\\.\\d{1,3}\\.\\d{1,3})\n",
    "''', re.VERBOSE)\n",
    "\n",
    "pd.DataFrame([regex.match(line).groupdict() for line in lines])\n"
   ]
  },
  {
   "cell_type": "markdown",
   "metadata": {},
   "source": [
    "Extract various components of an address:"
   ]
  },
  {
   "cell_type": "code",
   "execution_count": 2,
   "metadata": {},
   "outputs": [
    {
     "data": {
      "text/plain": [
       "0                      84 Rainey Street, Arlen, TX\n",
       "1    4 Privet Drive, Little Whinging, Surrey, U.K.\n",
       "2               740 Evergreen Terrace, Springfield\n",
       "3           1 Infinite Loop, Cupertino, California\n",
       "4                         Wayne Manor, Gotham City\n",
       "5                  124 Conch Street, Bikini Bottom\n",
       "dtype: object"
      ]
     },
     "execution_count": 2,
     "metadata": {},
     "output_type": "execute_result"
    }
   ],
   "source": [
    "addresses = pd.Series([\n",
    "    '84 Rainey Street, Arlen, TX',\n",
    "    '4 Privet Drive, Little Whinging, Surrey, U.K.',\n",
    "    '740 Evergreen Terrace, Springfield',\n",
    "    '1 Infinite Loop, Cupertino, California',\n",
    "    'Wayne Manor, Gotham City',\n",
    "    '124 Conch Street, Bikini Bottom',\n",
    "])\n",
    "addresses"
   ]
  },
  {
   "cell_type": "code",
   "execution_count": 3,
   "metadata": {},
   "outputs": [
    {
     "data": {
      "text/html": [
       "<div>\n",
       "<style scoped>\n",
       "    .dataframe tbody tr th:only-of-type {\n",
       "        vertical-align: middle;\n",
       "    }\n",
       "\n",
       "    .dataframe tbody tr th {\n",
       "        vertical-align: top;\n",
       "    }\n",
       "\n",
       "    .dataframe thead th {\n",
       "        text-align: right;\n",
       "    }\n",
       "</style>\n",
       "<table border=\"1\" class=\"dataframe\">\n",
       "  <thead>\n",
       "    <tr style=\"text-align: right;\">\n",
       "      <th></th>\n",
       "      <th>house_no</th>\n",
       "      <th>street</th>\n",
       "      <th>city</th>\n",
       "    </tr>\n",
       "  </thead>\n",
       "  <tbody>\n",
       "    <tr>\n",
       "      <td>0</td>\n",
       "      <td>84</td>\n",
       "      <td>Rainey Street</td>\n",
       "      <td>Arlen</td>\n",
       "    </tr>\n",
       "    <tr>\n",
       "      <td>1</td>\n",
       "      <td>4</td>\n",
       "      <td>Privet Drive</td>\n",
       "      <td>Little Whinging</td>\n",
       "    </tr>\n",
       "    <tr>\n",
       "      <td>2</td>\n",
       "      <td>740</td>\n",
       "      <td>Evergreen Terrace</td>\n",
       "      <td>Springfield</td>\n",
       "    </tr>\n",
       "    <tr>\n",
       "      <td>3</td>\n",
       "      <td>1</td>\n",
       "      <td>Infinite Loop</td>\n",
       "      <td>Cupertino</td>\n",
       "    </tr>\n",
       "    <tr>\n",
       "      <td>4</td>\n",
       "      <td>NaN</td>\n",
       "      <td>Wayne Manor</td>\n",
       "      <td>Gotham City</td>\n",
       "    </tr>\n",
       "    <tr>\n",
       "      <td>5</td>\n",
       "      <td>124</td>\n",
       "      <td>Conch Street</td>\n",
       "      <td>Bikini Bottom</td>\n",
       "    </tr>\n",
       "  </tbody>\n",
       "</table>\n",
       "</div>"
      ],
      "text/plain": [
       "  house_no             street             city\n",
       "0       84      Rainey Street            Arlen\n",
       "1        4       Privet Drive  Little Whinging\n",
       "2      740  Evergreen Terrace      Springfield\n",
       "3        1      Infinite Loop        Cupertino\n",
       "4      NaN        Wayne Manor      Gotham City\n",
       "5      124       Conch Street    Bikini Bottom"
      ]
     },
     "execution_count": 3,
     "metadata": {},
     "output_type": "execute_result"
    }
   ],
   "source": [
    "data = addresses.str.extract(r'^(\\d+)?\\s*(.*?),\\s*([\\w\\s]+)')\n",
    "data.columns = ['house_no', 'street', 'city']\n",
    "data"
   ]
  },
  {
   "cell_type": "code",
   "execution_count": 4,
   "metadata": {},
   "outputs": [
    {
     "name": "stdout",
     "output_type": "stream",
     "text": [
      "13-advanced-topics/2-cross-validation.ipynb:178:1:./data/cars.csv\r\n",
      "13-advanced-topics/1-tidy-data.ipynb:127:1:data/treatments.csv\r\n",
      "13-advanced-topics/1-tidy-data.ipynb:465:1:data/students.csv\r\n",
      "13-advanced-topics/1-tidy-data.ipynb:1184:1:./data/sales.csv\r\n",
      "13-advanced-topics/3.3-building-a-model.md:17:1:./data/spam_clean.csv\r\n",
      "4-python/pandas-time-series.md:83:1:coffee_consumption.csv\r\n",
      "4-python/7.4-intro-to-pandas.ipynb:4874:1:fruits.csv\r\n",
      "4-python/7.4-intro-to-pandas.ipynb:4961:1:fruits.csv', header=None, sep=';\r\n",
      "6-regression/wrangle.py:35:1:data/student_grades.csv\r\n",
      "7-classification/2-acquire.ipynb:346:1:https://s3.amazonaws.com/irs-form-990/index_2011.csv\r\n",
      "7-classification/handling-missing-values.ipynb:44:1:data/titanic.csv\r\n",
      "11-nlp/pos-tagging.ipynb:48:1:data/news.csv\r\n",
      "11-nlp/entity-labeling.ipynb:71:1:data/news.csv\r\n",
      "11-nlp/6-model.ipynb:1215:1:./data/spam_clean.csv\r\n",
      "11-nlp/5-explore.ipynb:105:1:./data/spam_clean.csv\r\n",
      "5-stats/4.2-compare-means.ipynb:37:1:data/exam_scores.csv\r\n",
      "5-stats/4.3-correlation.ipynb:119:1:data/exam_scores.csv\r\n"
     ]
    }
   ],
   "source": [
    "# find all the csv files refrenced in the curriculum (this won't work for you)\n",
    "!(cd ~/codeup/curriculum/data-science/content && rg --vimgrep \".*pd.read_csv\\(['\\\"](.+)['\\\"]\\).*\" -r '$1')"
   ]
  },
  {
   "cell_type": "code",
   "execution_count": 5,
   "metadata": {},
   "outputs": [
    {
     "name": "stdout",
     "output_type": "stream",
     "text": [
      "13-advanced-topics/3.3-building-a-model.md:10:1:pandas\r\n",
      "9-timeseries/prepare.py:1:1:pandas\r\n",
      "10-anomaly-detection/plot_isolation_forest.py:27:1:numpy\r\n",
      "10-anomaly-detection/plot_isolation_forest.py:28:1:matplotlib.pyplot\r\n",
      "9-timeseries/summarize.py:1:1:pandas\r\n",
      "9-timeseries/acquire.py:1:1:pandas\r\n",
      "9-timeseries/acquire.py:2:1:env\r\n",
      "10-anomaly-detection/lesson_prob_AD.py:2:1:itertools\r\n",
      "10-anomaly-detection/lesson_prob_AD.py:3:1:warnings\r\n",
      "10-anomaly-detection/lesson_prob_AD.py:5:1:matplotlib.pyplot\r\n",
      "10-anomaly-detection/lesson_prob_AD.py:6:1:matplotlib.dates\r\n",
      "10-anomaly-detection/lesson_prob_AD.py:7:1:numpy\r\n",
      "10-anomaly-detection/lesson_prob_AD.py:8:1:pandas\r\n",
      "10-anomaly-detection/lesson_prob_AD.py:9:1:math\r\n",
      "10-anomaly-detection/lesson_prob_AD.py:13:1:seaborn\r\n",
      "4-python/7.3-intro-to-numpy.md:13:1:numpy\r\n",
      "8-clustering/acquire.py:1:1:pandas\r\n",
      "8-clustering/acquire.py:2:1:env\r\n",
      "6-regression/wrangle.py:1:1:pandas\r\n",
      "6-regression/wrangle.py:2:1:numpy\r\n",
      "6-regression/wrangle.py:4:1:env\r\n",
      "11-nlp/project_acquire.py:23:1:os\r\n",
      "11-nlp/project_acquire.py:24:1:json\r\n",
      "11-nlp/project_acquire.py:26:1:requests\r\n",
      "8-clustering/features.py:1:1:pandas\r\n",
      "8-clustering/exercises.md:148:1:seaborn\r\n",
      "4-python/6-imports.md:18:1:time\r\n",
      "4-python/6-imports.md:32:1:time\r\n",
      "4-python/6-imports.md:85:1:util\r\n",
      "4-python/gen_dist_plots.py:1:1:pandas\r\n",
      "4-python/gen_dist_plots.py:2:1:matplotlib\r\n",
      "4-python/gen_dist_plots.py:4:1:seaborn\r\n",
      "8-clustering/summarize.py:9:1:pandas\r\n",
      "7-classification/acquire.py:1:1:pandas\r\n",
      "7-classification/acquire.py:2:1:env\r\n",
      "6-regression/split_scale.py:1:1:pandas\r\n",
      "6-regression/split_scale.py:4:1:numpy\r\n",
      "12-distributed-ml/basic_spark_examples_lecture_notes.md:14:1:pyspark\r\n",
      "12-distributed-ml/basic_spark_examples_lecture_notes.md:50:1:pandas\r\n",
      "12-distributed-ml/basic_spark_examples_lecture_notes.md:51:1:numpy\r\n",
      "4-python/pandas-time-series.md:15:1:pandas\r\n",
      "8-clustering/model.py:4:1:seaborn\r\n",
      "12-distributed-ml/2-environment-setup.md:40:1:pyspark\r\n",
      "12-distributed-ml/2-environment-setup.md:48:1:multiprocessing\r\n",
      "12-distributed-ml/2-environment-setup.md:49:1:pyspark\r\n",
      "12-distributed-ml/2-environment-setup.md:75:1:pyspark.sql.functions\r\n",
      "6-regression/features.py:3:1:pandas\r\n",
      "6-regression/features.py:4:1:numpy\r\n",
      "8-clustering/explore.py:10:1:seaborn\r\n",
      "8-clustering/explore.py:11:1:matplotlib.pyplot\r\n",
      "12-distributed-ml/wrangle.py:2:1:pyspark.sql\r\n",
      "8-clustering/prepare.py:2:1:pandas\r\n",
      "8-clustering/prepare.py:3:1:scipy.stats\r\n",
      "8-clustering/prepare.py:4:1:numpy\r\n",
      "5-stats/uniform_distro_demo.py:1:1:numpy\r\n",
      "5-stats/uniform_distro_demo.py:2:1:matplotlib.pyplot\r\n",
      "5-stats/uniform_distro_demo.py:4:1:seaborn\r\n",
      "5-stats/uniform_distro_demo.py:5:1:warnings\r\n",
      "11-nlp/normalization.py:8:1:re\r\n",
      "11-nlp/normalization.py:9:1:nltk\r\n",
      "11-nlp/normalization.py:10:1:string\r\n",
      "12-distributed-ml/read-jdbc.md:5:1:pyspark\r\n",
      "12-distributed-ml/read-jdbc.md:6:1:env\r\n",
      "6-regression/viz.py:4:1:matplotlib.pyplot\r\n",
      "6-regression/viz.py:6:1:seaborn\r\n",
      "5-stats/viz.py:2:1:pandas\r\n",
      "5-stats/viz.py:3:1:numpy\r\n",
      "5-stats/viz.py:4:1:scipy.stats\r\n",
      "5-stats/viz.py:5:1:matplotlib.pyplot\r\n",
      "5-stats/viz.py:6:1:seaborn\r\n",
      "11-nlp/prepare.py:1:1:unicodedata\r\n",
      "11-nlp/prepare.py:2:1:re\r\n",
      "11-nlp/prepare.py:3:1:json\r\n",
      "11-nlp/prepare.py:4:1:spacy\r\n",
      "11-nlp/prepare.py:5:1:nltk\r\n",
      "11-nlp/prepare.py:8:1:pandas\r\n",
      "11-nlp/prepare.py:9:1:acquire\r\n",
      "6-regression/wrangle_zillow.py:1:1:pandas\r\n",
      "6-regression/wrangle_zillow.py:2:1:numpy\r\n",
      "6-regression/wrangle_zillow.py:4:1:env\r\n"
     ]
    }
   ],
   "source": [
    "# find all the imports in .py files in the curriculum (this won't work for you)\n",
    "!(cd ~/codeup/curriculum/data-science/content && rg --vimgrep '^import\\s+([\\.\\w]+)\\s*(as\\s*\\w+)?.*$' -r '$1')"
   ]
  },
  {
   "cell_type": "markdown",
   "metadata": {},
   "source": [
    "## Basic Regex\n",
    "\n",
    "- what is a regex? (bigger than python, different flavors)\n",
    "- raw strings\n",
    "- re.findall (but also others)"
   ]
  },
  {
   "cell_type": "code",
   "execution_count": 6,
   "metadata": {},
   "outputs": [
    {
     "data": {
      "text/plain": [
       "\"here is a single quote ' <--\""
      ]
     },
     "execution_count": 6,
     "metadata": {},
     "output_type": "execute_result"
    }
   ],
   "source": [
    "'here is a single quote \\' <--'"
   ]
  },
  {
   "cell_type": "code",
   "execution_count": 7,
   "metadata": {},
   "outputs": [
    {
     "data": {
      "text/plain": [
       "\"here is a single quote \\\\' <--\""
      ]
     },
     "execution_count": 7,
     "metadata": {},
     "output_type": "execute_result"
    }
   ],
   "source": [
    "r'here is a single quote \\' <--'"
   ]
  },
  {
   "cell_type": "code",
   "execution_count": 8,
   "metadata": {},
   "outputs": [],
   "source": [
    "import re"
   ]
  },
  {
   "cell_type": "code",
   "execution_count": 9,
   "metadata": {},
   "outputs": [],
   "source": [
    "# pip install --upgrade zgulde\n",
    "# for demonstration in this lesson\n",
    "from zgulde.hl_matches import hl_all_matches_nb as hl"
   ]
  },
  {
   "cell_type": "code",
   "execution_count": 10,
   "metadata": {},
   "outputs": [],
   "source": [
    "subject = 'Hello, Bayes! Today is Dec 3 and the temperature is 70 degrees.'"
   ]
  },
  {
   "cell_type": "code",
   "execution_count": 11,
   "metadata": {},
   "outputs": [
    {
     "data": {
      "text/plain": [
       "['H']"
      ]
     },
     "execution_count": 11,
     "metadata": {},
     "output_type": "execute_result"
    }
   ],
   "source": [
    "re.findall(r'H', subject)"
   ]
  },
  {
   "cell_type": "code",
   "execution_count": 12,
   "metadata": {},
   "outputs": [
    {
     "data": {
      "text/plain": [
       "['e', 'e', 'e', 'e', 'e', 'e', 'e', 'e', 'e', 'e']"
      ]
     },
     "execution_count": 12,
     "metadata": {},
     "output_type": "execute_result"
    }
   ],
   "source": [
    "re.findall(r'e', subject)"
   ]
  },
  {
   "cell_type": "code",
   "execution_count": 13,
   "metadata": {},
   "outputs": [
    {
     "data": {
      "text/html": [
       "<div style=\"font-family: monospace; letter-spacing: 3px; font-size: 24px; line-height: 36px;\">H<span style=\"text-decoration: underline\">e</span>llo, Bay<span style=\"text-decoration: underline\">e</span>s! Today is D<span style=\"text-decoration: underline\">e</span>c 3 and th<span style=\"text-decoration: underline\">e</span> t<span style=\"text-decoration: underline\">e</span>mp<span style=\"text-decoration: underline\">e</span>ratur<span style=\"text-decoration: underline\">e</span> is 70 d<span style=\"text-decoration: underline\">e</span>gr<span style=\"text-decoration: underline\">e</span><span style=\"text-decoration: underline\">e</span>s.</div>"
      ],
      "text/plain": [
       "<IPython.core.display.HTML object>"
      ]
     },
     "execution_count": 13,
     "metadata": {},
     "output_type": "execute_result"
    }
   ],
   "source": [
    "hl(r'e', subject)"
   ]
  },
  {
   "cell_type": "code",
   "execution_count": 14,
   "metadata": {},
   "outputs": [
    {
     "data": {
      "text/html": [
       "<div style=\"font-family: monospace; letter-spacing: 3px; font-size: 24px; line-height: 36px;\">Hello, Bayes! Today is Dec 3 and the temperature is <span style=\"text-decoration: underline\">70</span> degrees.</div>"
      ],
      "text/plain": [
       "<IPython.core.display.HTML object>"
      ]
     },
     "execution_count": 14,
     "metadata": {},
     "output_type": "execute_result"
    }
   ],
   "source": [
    "hl(r'70', subject)"
   ]
  },
  {
   "cell_type": "markdown",
   "metadata": {},
   "source": [
    "### Metacharacters"
   ]
  },
  {
   "cell_type": "code",
   "execution_count": 15,
   "metadata": {},
   "outputs": [
    {
     "data": {
      "text/html": [
       "<div style=\"font-family: monospace; letter-spacing: 3px; font-size: 24px; line-height: 36px;\">Hello<span style=\"text-decoration: underline\">,</span><span style=\"text-decoration: underline\"> </span>Bayes<span style=\"text-decoration: underline\">!</span><span style=\"text-decoration: underline\"> </span>Today<span style=\"text-decoration: underline\"> </span>is<span style=\"text-decoration: underline\"> </span>Dec<span style=\"text-decoration: underline\"> </span>3<span style=\"text-decoration: underline\"> </span>and<span style=\"text-decoration: underline\"> </span>the<span style=\"text-decoration: underline\"> </span>temperature<span style=\"text-decoration: underline\"> </span>is<span style=\"text-decoration: underline\"> </span>70<span style=\"text-decoration: underline\"> </span>degrees<span style=\"text-decoration: underline\">.</span></div>"
      ],
      "text/plain": [
       "<IPython.core.display.HTML object>"
      ]
     },
     "execution_count": 15,
     "metadata": {},
     "output_type": "execute_result"
    }
   ],
   "source": [
    "hl(r'\\W', subject)"
   ]
  },
  {
   "cell_type": "code",
   "execution_count": 16,
   "metadata": {},
   "outputs": [
    {
     "data": {
      "text/html": [
       "<div style=\"font-family: monospace; letter-spacing: 3px; font-size: 24px; line-height: 36px;\"><span style=\"text-decoration: underline\">H</span><span style=\"text-decoration: underline\">e</span><span style=\"text-decoration: underline\">l</span><span style=\"text-decoration: underline\">l</span><span style=\"text-decoration: underline\">o</span><span style=\"text-decoration: underline\">,</span><span style=\"text-decoration: underline\"> </span><span style=\"text-decoration: underline\">B</span><span style=\"text-decoration: underline\">a</span><span style=\"text-decoration: underline\">y</span><span style=\"text-decoration: underline\">e</span><span style=\"text-decoration: underline\">s</span><span style=\"text-decoration: underline\">!</span><span style=\"text-decoration: underline\"> </span><span style=\"text-decoration: underline\">T</span><span style=\"text-decoration: underline\">o</span><span style=\"text-decoration: underline\">d</span><span style=\"text-decoration: underline\">a</span><span style=\"text-decoration: underline\">y</span><span style=\"text-decoration: underline\"> </span><span style=\"text-decoration: underline\">i</span><span style=\"text-decoration: underline\">s</span><span style=\"text-decoration: underline\"> </span><span style=\"text-decoration: underline\">D</span><span style=\"text-decoration: underline\">e</span><span style=\"text-decoration: underline\">c</span><span style=\"text-decoration: underline\"> </span>3<span style=\"text-decoration: underline\"> </span><span style=\"text-decoration: underline\">a</span><span style=\"text-decoration: underline\">n</span><span style=\"text-decoration: underline\">d</span><span style=\"text-decoration: underline\"> </span><span style=\"text-decoration: underline\">t</span><span style=\"text-decoration: underline\">h</span><span style=\"text-decoration: underline\">e</span><span style=\"text-decoration: underline\"> </span><span style=\"text-decoration: underline\">t</span><span style=\"text-decoration: underline\">e</span><span style=\"text-decoration: underline\">m</span><span style=\"text-decoration: underline\">p</span><span style=\"text-decoration: underline\">e</span><span style=\"text-decoration: underline\">r</span><span style=\"text-decoration: underline\">a</span><span style=\"text-decoration: underline\">t</span><span style=\"text-decoration: underline\">u</span><span style=\"text-decoration: underline\">r</span><span style=\"text-decoration: underline\">e</span><span style=\"text-decoration: underline\"> </span><span style=\"text-decoration: underline\">i</span><span style=\"text-decoration: underline\">s</span><span style=\"text-decoration: underline\"> </span>70<span style=\"text-decoration: underline\"> </span><span style=\"text-decoration: underline\">d</span><span style=\"text-decoration: underline\">e</span><span style=\"text-decoration: underline\">g</span><span style=\"text-decoration: underline\">r</span><span style=\"text-decoration: underline\">e</span><span style=\"text-decoration: underline\">e</span><span style=\"text-decoration: underline\">s</span><span style=\"text-decoration: underline\">.</span></div>"
      ],
      "text/plain": [
       "<IPython.core.display.HTML object>"
      ]
     },
     "execution_count": 16,
     "metadata": {},
     "output_type": "execute_result"
    }
   ],
   "source": [
    "hl(r'\\D', subject)"
   ]
  },
  {
   "cell_type": "code",
   "execution_count": 17,
   "metadata": {},
   "outputs": [
    {
     "data": {
      "text/html": [
       "<div style=\"font-family: monospace; letter-spacing: 3px; font-size: 24px; line-height: 36px;\"><span style=\"text-decoration: underline\">H</span><span style=\"text-decoration: underline\">e</span><span style=\"text-decoration: underline\">l</span><span style=\"text-decoration: underline\">l</span><span style=\"text-decoration: underline\">o</span><span style=\"text-decoration: underline\">,</span> <span style=\"text-decoration: underline\">B</span><span style=\"text-decoration: underline\">a</span><span style=\"text-decoration: underline\">y</span><span style=\"text-decoration: underline\">e</span><span style=\"text-decoration: underline\">s</span><span style=\"text-decoration: underline\">!</span> <span style=\"text-decoration: underline\">T</span><span style=\"text-decoration: underline\">o</span><span style=\"text-decoration: underline\">d</span><span style=\"text-decoration: underline\">a</span><span style=\"text-decoration: underline\">y</span> <span style=\"text-decoration: underline\">i</span><span style=\"text-decoration: underline\">s</span> <span style=\"text-decoration: underline\">D</span><span style=\"text-decoration: underline\">e</span><span style=\"text-decoration: underline\">c</span> <span style=\"text-decoration: underline\">3</span> <span style=\"text-decoration: underline\">a</span><span style=\"text-decoration: underline\">n</span><span style=\"text-decoration: underline\">d</span> <span style=\"text-decoration: underline\">t</span><span style=\"text-decoration: underline\">h</span><span style=\"text-decoration: underline\">e</span> <span style=\"text-decoration: underline\">t</span><span style=\"text-decoration: underline\">e</span><span style=\"text-decoration: underline\">m</span><span style=\"text-decoration: underline\">p</span><span style=\"text-decoration: underline\">e</span><span style=\"text-decoration: underline\">r</span><span style=\"text-decoration: underline\">a</span><span style=\"text-decoration: underline\">t</span><span style=\"text-decoration: underline\">u</span><span style=\"text-decoration: underline\">r</span><span style=\"text-decoration: underline\">e</span> <span style=\"text-decoration: underline\">i</span><span style=\"text-decoration: underline\">s</span> <span style=\"text-decoration: underline\">7</span><span style=\"text-decoration: underline\">0</span> <span style=\"text-decoration: underline\">d</span><span style=\"text-decoration: underline\">e</span><span style=\"text-decoration: underline\">g</span><span style=\"text-decoration: underline\">r</span><span style=\"text-decoration: underline\">e</span><span style=\"text-decoration: underline\">e</span><span style=\"text-decoration: underline\">s</span><span style=\"text-decoration: underline\">.</span></div>"
      ],
      "text/plain": [
       "<IPython.core.display.HTML object>"
      ]
     },
     "execution_count": 17,
     "metadata": {},
     "output_type": "execute_result"
    }
   ],
   "source": [
    "hl(r'\\S', subject)"
   ]
  },
  {
   "cell_type": "code",
   "execution_count": 18,
   "metadata": {},
   "outputs": [
    {
     "data": {
      "text/html": [
       "<div style=\"font-family: monospace; letter-spacing: 3px; font-size: 24px; line-height: 36px;\"><span style=\"text-decoration: underline\">H</span><span style=\"text-decoration: underline\">e</span><span style=\"text-decoration: underline\">l</span><span style=\"text-decoration: underline\">l</span><span style=\"text-decoration: underline\">o</span><span style=\"text-decoration: underline\">,</span><span style=\"text-decoration: underline\"> </span><span style=\"text-decoration: underline\">B</span><span style=\"text-decoration: underline\">a</span><span style=\"text-decoration: underline\">y</span><span style=\"text-decoration: underline\">e</span><span style=\"text-decoration: underline\">s</span><span style=\"text-decoration: underline\">!</span><span style=\"text-decoration: underline\"> </span><span style=\"text-decoration: underline\">T</span><span style=\"text-decoration: underline\">o</span><span style=\"text-decoration: underline\">d</span><span style=\"text-decoration: underline\">a</span><span style=\"text-decoration: underline\">y</span><span style=\"text-decoration: underline\"> </span><span style=\"text-decoration: underline\">i</span><span style=\"text-decoration: underline\">s</span><span style=\"text-decoration: underline\"> </span><span style=\"text-decoration: underline\">D</span><span style=\"text-decoration: underline\">e</span><span style=\"text-decoration: underline\">c</span><span style=\"text-decoration: underline\"> </span><span style=\"text-decoration: underline\">3</span><span style=\"text-decoration: underline\"> </span><span style=\"text-decoration: underline\">a</span><span style=\"text-decoration: underline\">n</span><span style=\"text-decoration: underline\">d</span><span style=\"text-decoration: underline\"> </span><span style=\"text-decoration: underline\">t</span><span style=\"text-decoration: underline\">h</span><span style=\"text-decoration: underline\">e</span><span style=\"text-decoration: underline\"> </span><span style=\"text-decoration: underline\">t</span><span style=\"text-decoration: underline\">e</span><span style=\"text-decoration: underline\">m</span><span style=\"text-decoration: underline\">p</span><span style=\"text-decoration: underline\">e</span><span style=\"text-decoration: underline\">r</span><span style=\"text-decoration: underline\">a</span><span style=\"text-decoration: underline\">t</span><span style=\"text-decoration: underline\">u</span><span style=\"text-decoration: underline\">r</span><span style=\"text-decoration: underline\">e</span><span style=\"text-decoration: underline\"> </span><span style=\"text-decoration: underline\">i</span><span style=\"text-decoration: underline\">s</span><span style=\"text-decoration: underline\"> </span><span style=\"text-decoration: underline\">7</span><span style=\"text-decoration: underline\">0</span><span style=\"text-decoration: underline\"> </span><span style=\"text-decoration: underline\">d</span><span style=\"text-decoration: underline\">e</span><span style=\"text-decoration: underline\">g</span><span style=\"text-decoration: underline\">r</span><span style=\"text-decoration: underline\">e</span><span style=\"text-decoration: underline\">e</span><span style=\"text-decoration: underline\">s</span><span style=\"text-decoration: underline\">.</span></div>"
      ],
      "text/plain": [
       "<IPython.core.display.HTML object>"
      ]
     },
     "execution_count": 18,
     "metadata": {},
     "output_type": "execute_result"
    }
   ],
   "source": [
    "hl(r'.', subject)"
   ]
  },
  {
   "cell_type": "markdown",
   "metadata": {},
   "source": [
    "### Repitition"
   ]
  },
  {
   "cell_type": "code",
   "execution_count": 19,
   "metadata": {},
   "outputs": [
    {
     "data": {
      "text/plain": [
       "['Hello',\n",
       " 'Bayes',\n",
       " 'Today',\n",
       " 'is',\n",
       " 'Dec',\n",
       " '3',\n",
       " 'and',\n",
       " 'the',\n",
       " 'temperature',\n",
       " 'is',\n",
       " '70',\n",
       " 'degrees']"
      ]
     },
     "execution_count": 19,
     "metadata": {},
     "output_type": "execute_result"
    }
   ],
   "source": [
    "re.findall(r'\\w+', subject)"
   ]
  },
  {
   "cell_type": "code",
   "execution_count": 20,
   "metadata": {},
   "outputs": [
    {
     "data": {
      "text/html": [
       "<div style=\"font-family: monospace; letter-spacing: 3px; font-size: 24px; line-height: 36px;\"><span style=\"text-decoration: underline\">Hello</span>, <span style=\"text-decoration: underline\">Bayes</span>! <span style=\"text-decoration: underline\">Today</span> <span style=\"text-decoration: underline\">is</span> <span style=\"text-decoration: underline\">Dec</span> <span style=\"text-decoration: underline\">3</span> <span style=\"text-decoration: underline\">and</span> <span style=\"text-decoration: underline\">the</span> <span style=\"text-decoration: underline\">temperature</span> <span style=\"text-decoration: underline\">is</span> <span style=\"text-decoration: underline\">70</span> <span style=\"text-decoration: underline\">degrees</span>.</div>"
      ],
      "text/plain": [
       "<IPython.core.display.HTML object>"
      ]
     },
     "execution_count": 20,
     "metadata": {},
     "output_type": "execute_result"
    }
   ],
   "source": [
    "hl(r'\\w+', subject)"
   ]
  },
  {
   "cell_type": "code",
   "execution_count": 21,
   "metadata": {},
   "outputs": [
    {
     "data": {
      "text/html": [
       "<div style=\"font-family: monospace; letter-spacing: 3px; font-size: 24px; line-height: 36px;\"><span style=\"text-decoration: underline\">Hello</span>, <span style=\"text-decoration: underline\">Bayes</span>! <span style=\"text-decoration: underline\">Today</span> is Dec 3 and the <span style=\"text-decoration: underline\">tempe</span><span style=\"text-decoration: underline\">ratur</span>e is 70 <span style=\"text-decoration: underline\">degre</span>es.</div>"
      ],
      "text/plain": [
       "<IPython.core.display.HTML object>"
      ]
     },
     "execution_count": 21,
     "metadata": {},
     "output_type": "execute_result"
    }
   ],
   "source": [
    "hl(r'\\w{5}', subject)"
   ]
  },
  {
   "cell_type": "code",
   "execution_count": 22,
   "metadata": {},
   "outputs": [
    {
     "data": {
      "text/html": [
       "<div style=\"font-family: monospace; letter-spacing: 3px; font-size: 24px; line-height: 36px;\">Hello, Bayes! Today is Dec 3 and the <span style=\"text-decoration: underline\">temperat</span>ure is 70 <span style=\"text-decoration: underline\">degrees</span>.</div>"
      ],
      "text/plain": [
       "<IPython.core.display.HTML object>"
      ]
     },
     "execution_count": 22,
     "metadata": {},
     "output_type": "execute_result"
    }
   ],
   "source": [
    "hl(r'\\w{6,8}', subject)"
   ]
  },
  {
   "cell_type": "markdown",
   "metadata": {},
   "source": [
    "### Any of / None of"
   ]
  },
  {
   "cell_type": "code",
   "execution_count": 23,
   "metadata": {},
   "outputs": [
    {
     "data": {
      "text/html": [
       "<div style=\"font-family: monospace; letter-spacing: 3px; font-size: 24px; line-height: 36px;\">H<span style=\"text-decoration: underline\">e</span>ll<span style=\"text-decoration: underline\">o</span>, B<span style=\"text-decoration: underline\">a</span>y<span style=\"text-decoration: underline\">e</span>s! T<span style=\"text-decoration: underline\">o</span>d<span style=\"text-decoration: underline\">a</span>y <span style=\"text-decoration: underline\">i</span>s D<span style=\"text-decoration: underline\">e</span>c 3 <span style=\"text-decoration: underline\">a</span>nd th<span style=\"text-decoration: underline\">e</span> t<span style=\"text-decoration: underline\">e</span>mp<span style=\"text-decoration: underline\">e</span>r<span style=\"text-decoration: underline\">a</span>t<span style=\"text-decoration: underline\">u</span>r<span style=\"text-decoration: underline\">e</span> <span style=\"text-decoration: underline\">i</span>s 70 d<span style=\"text-decoration: underline\">e</span>gr<span style=\"text-decoration: underline\">e</span><span style=\"text-decoration: underline\">e</span>s.</div>"
      ],
      "text/plain": [
       "<IPython.core.display.HTML object>"
      ]
     },
     "execution_count": 23,
     "metadata": {},
     "output_type": "execute_result"
    }
   ],
   "source": [
    "hl(r'[aeiou]', subject)"
   ]
  },
  {
   "cell_type": "code",
   "execution_count": 24,
   "metadata": {},
   "outputs": [
    {
     "data": {
      "text/html": [
       "<div style=\"font-family: monospace; letter-spacing: 3px; font-size: 24px; line-height: 36px;\"><span style=\"text-decoration: underline\">H</span>e<span style=\"text-decoration: underline\">l</span><span style=\"text-decoration: underline\">l</span>o<span style=\"text-decoration: underline\">,</span><span style=\"text-decoration: underline\"> </span><span style=\"text-decoration: underline\">B</span>a<span style=\"text-decoration: underline\">y</span>e<span style=\"text-decoration: underline\">s</span><span style=\"text-decoration: underline\">!</span><span style=\"text-decoration: underline\"> </span><span style=\"text-decoration: underline\">T</span>o<span style=\"text-decoration: underline\">d</span>a<span style=\"text-decoration: underline\">y</span><span style=\"text-decoration: underline\"> </span>i<span style=\"text-decoration: underline\">s</span><span style=\"text-decoration: underline\"> </span><span style=\"text-decoration: underline\">D</span>e<span style=\"text-decoration: underline\">c</span><span style=\"text-decoration: underline\"> </span><span style=\"text-decoration: underline\">3</span><span style=\"text-decoration: underline\"> </span>a<span style=\"text-decoration: underline\">n</span><span style=\"text-decoration: underline\">d</span><span style=\"text-decoration: underline\"> </span><span style=\"text-decoration: underline\">t</span><span style=\"text-decoration: underline\">h</span>e<span style=\"text-decoration: underline\"> </span><span style=\"text-decoration: underline\">t</span>e<span style=\"text-decoration: underline\">m</span><span style=\"text-decoration: underline\">p</span>e<span style=\"text-decoration: underline\">r</span>a<span style=\"text-decoration: underline\">t</span>u<span style=\"text-decoration: underline\">r</span>e<span style=\"text-decoration: underline\"> </span>i<span style=\"text-decoration: underline\">s</span><span style=\"text-decoration: underline\"> </span><span style=\"text-decoration: underline\">7</span><span style=\"text-decoration: underline\">0</span><span style=\"text-decoration: underline\"> </span><span style=\"text-decoration: underline\">d</span>e<span style=\"text-decoration: underline\">g</span><span style=\"text-decoration: underline\">r</span>ee<span style=\"text-decoration: underline\">s</span><span style=\"text-decoration: underline\">.</span></div>"
      ],
      "text/plain": [
       "<IPython.core.display.HTML object>"
      ]
     },
     "execution_count": 24,
     "metadata": {},
     "output_type": "execute_result"
    }
   ],
   "source": [
    "hl(r'[^aeiou]', subject)"
   ]
  },
  {
   "cell_type": "code",
   "execution_count": 25,
   "metadata": {},
   "outputs": [
    {
     "data": {
      "text/html": [
       "<div style=\"font-family: monospace; letter-spacing: 3px; font-size: 24px; line-height: 36px;\"><span style=\"text-decoration: underline\">Hello</span>, <span style=\"text-decoration: underline\">Bayes</span>! <span style=\"text-decoration: underline\">Today</span> is <span style=\"text-decoration: underline\">Dec</span> 3 and the temperature is 70 degrees.</div>"
      ],
      "text/plain": [
       "<IPython.core.display.HTML object>"
      ]
     },
     "execution_count": 25,
     "metadata": {},
     "output_type": "execute_result"
    }
   ],
   "source": [
    "hl(r'[A-Z][a-z]+', subject)"
   ]
  },
  {
   "cell_type": "code",
   "execution_count": 26,
   "metadata": {},
   "outputs": [
    {
     "data": {
      "text/plain": [
       "['Hello', 'Bayes', 'Today', 'Dec']"
      ]
     },
     "execution_count": 26,
     "metadata": {},
     "output_type": "execute_result"
    }
   ],
   "source": [
    "re.findall(r'[A-Z][a-z]+', subject)"
   ]
  },
  {
   "cell_type": "code",
   "execution_count": 27,
   "metadata": {},
   "outputs": [
    {
     "data": {
      "text/html": [
       "<div style=\"font-family: monospace; letter-spacing: 3px; font-size: 24px; line-height: 36px;\">Hello, Bayes! Today is Dec <span style=\"text-decoration: underline\">3 and the temperature is 70 degrees.</span></div>"
      ],
      "text/plain": [
       "<IPython.core.display.HTML object>"
      ]
     },
     "execution_count": 27,
     "metadata": {},
     "output_type": "execute_result"
    }
   ],
   "source": [
    "hl(r'\\d.+', subject)"
   ]
  },
  {
   "cell_type": "code",
   "execution_count": 28,
   "metadata": {},
   "outputs": [
    {
     "data": {
      "text/plain": [
       "['3 and the temperature is 70 degrees.']"
      ]
     },
     "execution_count": 28,
     "metadata": {},
     "output_type": "execute_result"
    }
   ],
   "source": [
    "re.findall(r'\\d.+', subject)"
   ]
  },
  {
   "cell_type": "code",
   "execution_count": 29,
   "metadata": {},
   "outputs": [
    {
     "data": {
      "text/html": [
       "<div style=\"font-family: monospace; letter-spacing: 3px; font-size: 24px; line-height: 36px;\">Hello, Bayes! Today is Dec <span style=\"text-decoration: underline\">3</span> and the temperature is <span style=\"text-decoration: underline\">70</span> degrees<span style=\"text-decoration: underline\">.</span></div>"
      ],
      "text/plain": [
       "<IPython.core.display.HTML object>"
      ]
     },
     "execution_count": 29,
     "metadata": {},
     "output_type": "execute_result"
    }
   ],
   "source": [
    "hl(r'[\\d.]+', subject)"
   ]
  },
  {
   "cell_type": "code",
   "execution_count": 30,
   "metadata": {},
   "outputs": [
    {
     "data": {
      "text/html": [
       "<div style=\"font-family: monospace; letter-spacing: 3px; font-size: 24px; line-height: 36px;\"><span style=\"text-decoration: underline\">Hello, Bayes! Today is Dec 3 and the temperature is 70</span> degrees.</div>"
      ],
      "text/plain": [
       "<IPython.core.display.HTML object>"
      ]
     },
     "execution_count": 30,
     "metadata": {},
     "output_type": "execute_result"
    }
   ],
   "source": [
    "# re is *greedy*, will try to match _as much_ as it can\n",
    "hl(r'.+\\d', subject)"
   ]
  },
  {
   "cell_type": "code",
   "execution_count": 31,
   "metadata": {},
   "outputs": [
    {
     "data": {
      "text/plain": [
       "['Hello, Bayes! Today is Dec 3 and the temperature is 70']"
      ]
     },
     "execution_count": 31,
     "metadata": {},
     "output_type": "execute_result"
    }
   ],
   "source": [
    "re.findall(r'.+\\d', subject)"
   ]
  },
  {
   "cell_type": "code",
   "execution_count": 32,
   "metadata": {},
   "outputs": [
    {
     "data": {
      "text/plain": [
       "['Hello, Bayes! Today is Dec 3', ' and the temperature is 7']"
      ]
     },
     "execution_count": 32,
     "metadata": {},
     "output_type": "execute_result"
    }
   ],
   "source": [
    "re.findall(r'.+?\\d', subject)"
   ]
  },
  {
   "cell_type": "markdown",
   "metadata": {},
   "source": [
    "### Anchors"
   ]
  },
  {
   "cell_type": "code",
   "execution_count": 33,
   "metadata": {},
   "outputs": [
    {
     "data": {
      "text/plain": [
       "['H']"
      ]
     },
     "execution_count": 33,
     "metadata": {},
     "output_type": "execute_result"
    }
   ],
   "source": [
    "re.findall(r'^.', subject)"
   ]
  },
  {
   "cell_type": "code",
   "execution_count": 34,
   "metadata": {},
   "outputs": [
    {
     "data": {
      "text/plain": [
       "[]"
      ]
     },
     "execution_count": 34,
     "metadata": {},
     "output_type": "execute_result"
    }
   ],
   "source": [
    "re.findall(r'\\w$', subject)"
   ]
  },
  {
   "cell_type": "code",
   "execution_count": 35,
   "metadata": {},
   "outputs": [
    {
     "data": {
      "text/html": [
       "<div style=\"font-family: monospace; letter-spacing: 3px; font-size: 24px; line-height: 36px;\">Hello, Bayes! Today is Dec 3 and the temperature is 70 degree<span style=\"text-decoration: underline\">s.</span></div>"
      ],
      "text/plain": [
       "<IPython.core.display.HTML object>"
      ]
     },
     "execution_count": 35,
     "metadata": {},
     "output_type": "execute_result"
    }
   ],
   "source": [
    "hl(r'.{2}$', subject)"
   ]
  },
  {
   "cell_type": "code",
   "execution_count": 36,
   "metadata": {},
   "outputs": [
    {
     "data": {
      "text/plain": [
       "['.']"
      ]
     },
     "execution_count": 36,
     "metadata": {},
     "output_type": "execute_result"
    }
   ],
   "source": [
    "re.findall(r'.$', subject)"
   ]
  },
  {
   "cell_type": "code",
   "execution_count": 37,
   "metadata": {},
   "outputs": [
    {
     "data": {
      "text/html": [
       "<div style=\"font-family: monospace; letter-spacing: 3px; font-size: 24px; line-height: 36px;\"><span style=\"text-decoration: underline\">H</span><span style=\"text-decoration: underline\">e</span><span style=\"text-decoration: underline\">l</span><span style=\"text-decoration: underline\">l</span><span style=\"text-decoration: underline\">o</span><span style=\"text-decoration: underline\">,</span><span style=\"text-decoration: underline\"> </span><span style=\"text-decoration: underline\">B</span><span style=\"text-decoration: underline\">a</span><span style=\"text-decoration: underline\">y</span><span style=\"text-decoration: underline\">e</span><span style=\"text-decoration: underline\">s</span><span style=\"text-decoration: underline\">!</span><span style=\"text-decoration: underline\"> </span><span style=\"text-decoration: underline\">T</span><span style=\"text-decoration: underline\">o</span><span style=\"text-decoration: underline\">d</span><span style=\"text-decoration: underline\">a</span><span style=\"text-decoration: underline\">y</span><span style=\"text-decoration: underline\"> </span><span style=\"text-decoration: underline\">i</span><span style=\"text-decoration: underline\">s</span><span style=\"text-decoration: underline\"> </span><span style=\"text-decoration: underline\">D</span><span style=\"text-decoration: underline\">e</span><span style=\"text-decoration: underline\">c</span><span style=\"text-decoration: underline\"> </span><span style=\"text-decoration: underline\">3</span><span style=\"text-decoration: underline\"> </span><span style=\"text-decoration: underline\">a</span><span style=\"text-decoration: underline\">n</span><span style=\"text-decoration: underline\">d</span><span style=\"text-decoration: underline\"> </span><span style=\"text-decoration: underline\">t</span><span style=\"text-decoration: underline\">h</span><span style=\"text-decoration: underline\">e</span><span style=\"text-decoration: underline\"> </span><span style=\"text-decoration: underline\">t</span><span style=\"text-decoration: underline\">e</span><span style=\"text-decoration: underline\">m</span><span style=\"text-decoration: underline\">p</span><span style=\"text-decoration: underline\">e</span><span style=\"text-decoration: underline\">r</span><span style=\"text-decoration: underline\">a</span><span style=\"text-decoration: underline\">t</span><span style=\"text-decoration: underline\">u</span><span style=\"text-decoration: underline\">r</span><span style=\"text-decoration: underline\">e</span><span style=\"text-decoration: underline\"> </span><span style=\"text-decoration: underline\">i</span><span style=\"text-decoration: underline\">s</span><span style=\"text-decoration: underline\"> </span><span style=\"text-decoration: underline\">7</span><span style=\"text-decoration: underline\">0</span><span style=\"text-decoration: underline\"> </span><span style=\"text-decoration: underline\">d</span><span style=\"text-decoration: underline\">e</span><span style=\"text-decoration: underline\">g</span><span style=\"text-decoration: underline\">r</span><span style=\"text-decoration: underline\">e</span><span style=\"text-decoration: underline\">e</span><span style=\"text-decoration: underline\">s</span><span style=\"text-decoration: underline\">.</span></div>"
      ],
      "text/plain": [
       "<IPython.core.display.HTML object>"
      ]
     },
     "execution_count": 37,
     "metadata": {},
     "output_type": "execute_result"
    }
   ],
   "source": [
    "hl(r'.', subject)"
   ]
  },
  {
   "cell_type": "code",
   "execution_count": 38,
   "metadata": {},
   "outputs": [
    {
     "data": {
      "text/html": [
       "<div style=\"font-family: monospace; letter-spacing: 3px; font-size: 24px; line-height: 36px;\">Hell<span style=\"text-decoration: underline\">o</span>,<span style=\"text-decoration: underline\"> </span>Baye<span style=\"text-decoration: underline\">s</span>!<span style=\"text-decoration: underline\"> </span>Toda<span style=\"text-decoration: underline\">y</span><span style=\"text-decoration: underline\"> </span>i<span style=\"text-decoration: underline\">s</span><span style=\"text-decoration: underline\"> </span>De<span style=\"text-decoration: underline\">c</span><span style=\"text-decoration: underline\"> </span><span style=\"text-decoration: underline\">3</span><span style=\"text-decoration: underline\"> </span>an<span style=\"text-decoration: underline\">d</span><span style=\"text-decoration: underline\"> </span>th<span style=\"text-decoration: underline\">e</span><span style=\"text-decoration: underline\"> </span>temperatur<span style=\"text-decoration: underline\">e</span><span style=\"text-decoration: underline\"> </span>i<span style=\"text-decoration: underline\">s</span><span style=\"text-decoration: underline\"> </span>7<span style=\"text-decoration: underline\">0</span><span style=\"text-decoration: underline\"> </span>degree<span style=\"text-decoration: underline\">s</span>.</div>"
      ],
      "text/plain": [
       "<IPython.core.display.HTML object>"
      ]
     },
     "execution_count": 38,
     "metadata": {},
     "output_type": "execute_result"
    }
   ],
   "source": [
    "hl(r'.\\b', subject)"
   ]
  },
  {
   "cell_type": "code",
   "execution_count": 39,
   "metadata": {},
   "outputs": [
    {
     "data": {
      "text/html": [
       "<div style=\"font-family: monospace; letter-spacing: 3px; font-size: 24px; line-height: 36px;\"><span style=\"text-decoration: underline\">H</span>ello<span style=\"text-decoration: underline\">,</span> <span style=\"text-decoration: underline\">B</span>ayes<span style=\"text-decoration: underline\">!</span> <span style=\"text-decoration: underline\">T</span>oday<span style=\"text-decoration: underline\"> </span><span style=\"text-decoration: underline\">i</span>s<span style=\"text-decoration: underline\"> </span><span style=\"text-decoration: underline\">D</span>ec<span style=\"text-decoration: underline\"> </span><span style=\"text-decoration: underline\">3</span><span style=\"text-decoration: underline\"> </span><span style=\"text-decoration: underline\">a</span>nd<span style=\"text-decoration: underline\"> </span><span style=\"text-decoration: underline\">t</span>he<span style=\"text-decoration: underline\"> </span><span style=\"text-decoration: underline\">t</span>emperature<span style=\"text-decoration: underline\"> </span><span style=\"text-decoration: underline\">i</span>s<span style=\"text-decoration: underline\"> </span><span style=\"text-decoration: underline\">7</span>0<span style=\"text-decoration: underline\"> </span><span style=\"text-decoration: underline\">d</span>egrees<span style=\"text-decoration: underline\">.</span></div>"
      ],
      "text/plain": [
       "<IPython.core.display.HTML object>"
      ]
     },
     "execution_count": 39,
     "metadata": {},
     "output_type": "execute_result"
    }
   ],
   "source": [
    "hl(r'\\b.', subject)"
   ]
  },
  {
   "cell_type": "code",
   "execution_count": 40,
   "metadata": {},
   "outputs": [
    {
     "data": {
      "text/plain": [
       "'I love javascript so much, but java, not so much. I also like the delicious coffeedrink mochajavacoffee.'"
      ]
     },
     "execution_count": 40,
     "metadata": {},
     "output_type": "execute_result"
    }
   ],
   "source": [
    "java_string = 'I love javascript so much, but java, not so much. I also like the delicious coffeedrink mochajavacoffee.'\n",
    "java_string"
   ]
  },
  {
   "cell_type": "code",
   "execution_count": 41,
   "metadata": {},
   "outputs": [
    {
     "data": {
      "text/html": [
       "<div style=\"font-family: monospace; letter-spacing: 3px; font-size: 24px; line-height: 36px;\">I love <span style=\"text-decoration: underline\">javascript</span> so much, but <span style=\"text-decoration: underline\">java</span>, not so much. I also like the delicious coffeedrink mochajavacoffee.</div>"
      ],
      "text/plain": [
       "<IPython.core.display.HTML object>"
      ]
     },
     "execution_count": 41,
     "metadata": {},
     "output_type": "execute_result"
    }
   ],
   "source": [
    "# just the words that start with java\n",
    "hl(r'\\bjava\\w*', java_string)"
   ]
  },
  {
   "cell_type": "code",
   "execution_count": 42,
   "metadata": {},
   "outputs": [
    {
     "data": {
      "text/html": [
       "<div style=\"font-family: monospace; letter-spacing: 3px; font-size: 24px; line-height: 36px;\">I love <span style=\"text-decoration: underline\">javascript</span> so much, but <span style=\"text-decoration: underline\">java</span>, not so much. I also like the delicious coffeedrink <span style=\"text-decoration: underline\">mochajavacoffee</span>.</div>"
      ],
      "text/plain": [
       "<IPython.core.display.HTML object>"
      ]
     },
     "execution_count": 42,
     "metadata": {},
     "output_type": "execute_result"
    }
   ],
   "source": [
    "# any word that contains \"java\", including \"java\" itself\n",
    "hl(r'\\w*java\\w*', java_string)"
   ]
  },
  {
   "cell_type": "code",
   "execution_count": 43,
   "metadata": {},
   "outputs": [
    {
     "data": {
      "text/plain": [
       "'Hello, Bayes! Today is Dec 3 and the temperature is 70 degrees.'"
      ]
     },
     "execution_count": 43,
     "metadata": {},
     "output_type": "execute_result"
    }
   ],
   "source": [
    "subject"
   ]
  },
  {
   "cell_type": "code",
   "execution_count": 44,
   "metadata": {},
   "outputs": [
    {
     "data": {
      "text/html": [
       "<div style=\"font-family: monospace; letter-spacing: 3px; font-size: 24px; line-height: 36px;\">Hel<span style=\"text-decoration: underline\">lo</span>, Bay<span style=\"text-decoration: underline\">es</span>! Tod<span style=\"text-decoration: underline\">ay</span> <span style=\"text-decoration: underline\">is</span> D<span style=\"text-decoration: underline\">ec</span> 3 a<span style=\"text-decoration: underline\">nd</span> t<span style=\"text-decoration: underline\">he</span> temperatu<span style=\"text-decoration: underline\">re</span> <span style=\"text-decoration: underline\">is</span> <span style=\"text-decoration: underline\">70</span> degre<span style=\"text-decoration: underline\">es</span>.</div>"
      ],
      "text/plain": [
       "<IPython.core.display.HTML object>"
      ]
     },
     "execution_count": 44,
     "metadata": {},
     "output_type": "execute_result"
    }
   ],
   "source": [
    "hl(r'\\w{2}\\b', subject)"
   ]
  },
  {
   "cell_type": "code",
   "execution_count": 45,
   "metadata": {},
   "outputs": [
    {
     "data": {
      "text/html": [
       "<div style=\"font-family: monospace; letter-spacing: 3px; font-size: 24px; line-height: 36px;\"><span style=\"text-decoration: underline\">He</span>llo, <span style=\"text-decoration: underline\">Ba</span>yes! <span style=\"text-decoration: underline\">To</span>day <span style=\"text-decoration: underline\">is</span> <span style=\"text-decoration: underline\">De</span>c 3 <span style=\"text-decoration: underline\">an</span>d <span style=\"text-decoration: underline\">th</span>e <span style=\"text-decoration: underline\">te</span>mperature <span style=\"text-decoration: underline\">is</span> <span style=\"text-decoration: underline\">70</span> <span style=\"text-decoration: underline\">de</span>grees.</div>"
      ],
      "text/plain": [
       "<IPython.core.display.HTML object>"
      ]
     },
     "execution_count": 45,
     "metadata": {},
     "output_type": "execute_result"
    }
   ],
   "source": [
    "hl(r'\\b\\w{2}', subject)"
   ]
  },
  {
   "cell_type": "code",
   "execution_count": 46,
   "metadata": {},
   "outputs": [
    {
     "data": {
      "text/html": [
       "<div style=\"font-family: monospace; letter-spacing: 3px; font-size: 24px; line-height: 36px;\"><span style=\"text-decoration: underline\">H</span>ello, Bayes! Today is Dec 3 and the temperature is 70 degrees.</div>"
      ],
      "text/plain": [
       "<IPython.core.display.HTML object>"
      ]
     },
     "execution_count": 46,
     "metadata": {},
     "output_type": "execute_result"
    }
   ],
   "source": [
    "hl('^.', subject)"
   ]
  },
  {
   "cell_type": "markdown",
   "metadata": {},
   "source": [
    "### Other Functions\n",
    "\n",
    "- `re.search`\n",
    "- `re.sub`\n",
    "- `re.compile` + flags"
   ]
  },
  {
   "cell_type": "markdown",
   "metadata": {},
   "source": [
    "### Capture Groups"
   ]
  },
  {
   "cell_type": "code",
   "execution_count": 47,
   "metadata": {},
   "outputs": [
    {
     "data": {
      "text/plain": [
       "['Hello',\n",
       " 'Bayes',\n",
       " 'Today',\n",
       " 'is',\n",
       " 'Dec',\n",
       " 'and',\n",
       " 'the',\n",
       " 'temperature',\n",
       " 'is',\n",
       " '70',\n",
       " 'degrees']"
      ]
     },
     "execution_count": 47,
     "metadata": {},
     "output_type": "execute_result"
    }
   ],
   "source": [
    "re.findall(r'\\w+\\w', subject)"
   ]
  },
  {
   "cell_type": "code",
   "execution_count": 48,
   "metadata": {},
   "outputs": [
    {
     "data": {
      "text/html": [
       "<div style=\"font-family: monospace; letter-spacing: 3px; font-size: 24px; line-height: 36px;\"><span style=\"text-decoration: underline\">Hell<span style=\"color: firebrick\">o</span></span>, <span style=\"text-decoration: underline\">Baye<span style=\"color: firebrick\">s</span></span>! <span style=\"text-decoration: underline\">Toda<span style=\"color: firebrick\">y</span></span> <span style=\"text-decoration: underline\">i<span style=\"color: firebrick\">s</span></span> <span style=\"text-decoration: underline\">De<span style=\"color: firebrick\">c</span></span> 3 <span style=\"text-decoration: underline\">an<span style=\"color: firebrick\">d</span></span> <span style=\"text-decoration: underline\">th<span style=\"color: firebrick\">e</span></span> <span style=\"text-decoration: underline\">temperatur<span style=\"color: firebrick\">e</span></span> <span style=\"text-decoration: underline\">i<span style=\"color: firebrick\">s</span></span> <span style=\"text-decoration: underline\">7<span style=\"color: firebrick\">0</span></span> <span style=\"text-decoration: underline\">degree<span style=\"color: firebrick\">s</span></span>.</div>"
      ],
      "text/plain": [
       "<IPython.core.display.HTML object>"
      ]
     },
     "execution_count": 48,
     "metadata": {},
     "output_type": "execute_result"
    }
   ],
   "source": [
    "hl(r'\\w+(\\w)', subject)"
   ]
  },
  {
   "cell_type": "code",
   "execution_count": 49,
   "metadata": {},
   "outputs": [
    {
     "data": {
      "text/html": [
       "<div style=\"font-family: monospace; letter-spacing: 3px; font-size: 24px; line-height: 36px;\">He<span style=\"text-decoration: underline\"><span style=\"color: firebrick\">l</span>l</span>o, Bayes! Today is Dec 3 and the temperature is 70 degr<span style=\"text-decoration: underline\"><span style=\"color: firebrick\">e</span>e</span>s.</div>"
      ],
      "text/plain": [
       "<IPython.core.display.HTML object>"
      ]
     },
     "execution_count": 49,
     "metadata": {},
     "output_type": "execute_result"
    }
   ],
   "source": [
    "hl(r'(\\w)\\1', subject)"
   ]
  },
  {
   "cell_type": "code",
   "execution_count": 50,
   "metadata": {},
   "outputs": [
    {
     "data": {
      "text/html": [
       "<div style=\"font-family: monospace; letter-spacing: 3px; font-size: 24px; line-height: 36px;\">Hello, Bayes! Today is Dec 3 and th<span style=\"text-decoration: underline\"><span style=\"color: firebrick\">e</span> te</span>mperature is 70 d<span style=\"text-decoration: underline\"><span style=\"color: firebrick\">e</span>gre</span>es.</div>"
      ],
      "text/plain": [
       "<IPython.core.display.HTML object>"
      ]
     },
     "execution_count": 50,
     "metadata": {},
     "output_type": "execute_result"
    }
   ],
   "source": [
    "hl(r'(\\w)..\\1', subject)"
   ]
  },
  {
   "cell_type": "code",
   "execution_count": 51,
   "metadata": {},
   "outputs": [],
   "source": [
    "date = '03 12 2019'"
   ]
  },
  {
   "cell_type": "code",
   "execution_count": 52,
   "metadata": {},
   "outputs": [
    {
     "data": {
      "text/plain": [
       "'ZERO3 12 2ZERO19'"
      ]
     },
     "execution_count": 52,
     "metadata": {},
     "output_type": "execute_result"
    }
   ],
   "source": [
    "# re.sub(needle, replacement, haystack)\n",
    "re.sub(r'0', 'ZERO', date)"
   ]
  },
  {
   "cell_type": "code",
   "execution_count": 53,
   "metadata": {},
   "outputs": [
    {
     "data": {
      "text/plain": [
       "'03 12 digits'"
      ]
     },
     "execution_count": 53,
     "metadata": {},
     "output_type": "execute_result"
    }
   ],
   "source": [
    "re.sub(r'\\d{4}', 'digits', date)"
   ]
  },
  {
   "cell_type": "code",
   "execution_count": 54,
   "metadata": {},
   "outputs": [
    {
     "data": {
      "text/plain": [
       "'03 12 2019'"
      ]
     },
     "execution_count": 54,
     "metadata": {},
     "output_type": "execute_result"
    }
   ],
   "source": [
    "date"
   ]
  },
  {
   "cell_type": "code",
   "execution_count": 55,
   "metadata": {},
   "outputs": [
    {
     "data": {
      "text/plain": [
       "'03-12-2019'"
      ]
     },
     "execution_count": 55,
     "metadata": {},
     "output_type": "execute_result"
    }
   ],
   "source": [
    "re.sub(r'(\\d{2})\\s(\\d{2})\\s(\\d{4})', r'\\1-\\2-\\3',  date)"
   ]
  },
  {
   "cell_type": "code",
   "execution_count": 56,
   "metadata": {},
   "outputs": [
    {
     "data": {
      "text/plain": [
       "'12/03/2019'"
      ]
     },
     "execution_count": 56,
     "metadata": {},
     "output_type": "execute_result"
    }
   ],
   "source": [
    "re.sub(r'(\\d{2})\\s(\\d{2})\\s(\\d{4})', r'\\2/\\1/\\3',  date)"
   ]
  },
  {
   "cell_type": "code",
   "execution_count": 57,
   "metadata": {},
   "outputs": [
    {
     "data": {
      "text/plain": [
       "'03 12 2019'"
      ]
     },
     "execution_count": 57,
     "metadata": {},
     "output_type": "execute_result"
    }
   ],
   "source": [
    "date"
   ]
  },
  {
   "cell_type": "code",
   "execution_count": 58,
   "metadata": {},
   "outputs": [
    {
     "data": {
      "text/html": [
       "<div style=\"font-family: monospace; letter-spacing: 3px; font-size: 24px; line-height: 36px;\">Hello, Bayes! Today is Dec 3 and the temperature is 70 degree<span style=\"text-decoration: underline\"><span style=\"color: firebrick\">s</span>.</span></div>"
      ],
      "text/plain": [
       "<IPython.core.display.HTML object>"
      ]
     },
     "execution_count": 58,
     "metadata": {},
     "output_type": "execute_result"
    }
   ],
   "source": [
    "# the last word character at the end of the string (accounting for anything else at the end of the string)\n",
    "hl(r'(\\w)\\W*$', subject)"
   ]
  },
  {
   "cell_type": "markdown",
   "metadata": {},
   "source": [
    "### Flags"
   ]
  },
  {
   "cell_type": "code",
   "execution_count": 59,
   "metadata": {},
   "outputs": [
    {
     "data": {
      "text/plain": [
       "['a']"
      ]
     },
     "execution_count": 59,
     "metadata": {},
     "output_type": "execute_result"
    }
   ],
   "source": [
    "compiled_regexp = re.compile(r'^.', re.IGNORECASE | re.MULTILINE | re.VERBOSE)\n",
    "\n",
    "compiled_regexp.findall('abc')"
   ]
  },
  {
   "cell_type": "markdown",
   "metadata": {},
   "source": [
    "### Usage with Pandas\n",
    "\n",
    "several common methods:\n",
    "\n",
    "- `extract`: extract various pieces of the string using a regular expression\n",
    "- `contains`: test if a regular expression is present in a string\n",
    "- `count`: count the number of occurances of the regular expression in the string\n",
    "- `replace`: make string substitutions based on a regular expression"
   ]
  },
  {
   "cell_type": "code",
   "execution_count": 60,
   "metadata": {},
   "outputs": [
    {
     "data": {
      "text/plain": [
       "0                      84 Rainey Street, Arlen, TX\n",
       "1    4 Privet Drive, Little Whinging, Surrey, U.K.\n",
       "2               740 Evergreen Terrace, Springfield\n",
       "3           1 Infinite Loop, Cupertino, California\n",
       "4                         Wayne Manor, Gotham City\n",
       "5                  124 Conch Street, Bikini Bottom\n",
       "dtype: object"
      ]
     },
     "execution_count": 60,
     "metadata": {},
     "output_type": "execute_result"
    }
   ],
   "source": [
    "addresses = pd.Series([\n",
    "    '84 Rainey Street, Arlen, TX',\n",
    "    '4 Privet Drive, Little Whinging, Surrey, U.K.',\n",
    "    '740 Evergreen Terrace, Springfield',\n",
    "    '1 Infinite Loop, Cupertino, California',\n",
    "    'Wayne Manor, Gotham City',\n",
    "    '124 Conch Street, Bikini Bottom',\n",
    "])\n",
    "addresses"
   ]
  },
  {
   "cell_type": "code",
   "execution_count": 61,
   "metadata": {},
   "outputs": [
    {
     "data": {
      "text/html": [
       "<div>\n",
       "<style scoped>\n",
       "    .dataframe tbody tr th:only-of-type {\n",
       "        vertical-align: middle;\n",
       "    }\n",
       "\n",
       "    .dataframe tbody tr th {\n",
       "        vertical-align: top;\n",
       "    }\n",
       "\n",
       "    .dataframe thead th {\n",
       "        text-align: right;\n",
       "    }\n",
       "</style>\n",
       "<table border=\"1\" class=\"dataframe\">\n",
       "  <thead>\n",
       "    <tr style=\"text-align: right;\">\n",
       "      <th></th>\n",
       "      <th>0</th>\n",
       "      <th>1</th>\n",
       "    </tr>\n",
       "  </thead>\n",
       "  <tbody>\n",
       "    <tr>\n",
       "      <td>0</td>\n",
       "      <td>84</td>\n",
       "      <td>Rainey Street</td>\n",
       "    </tr>\n",
       "    <tr>\n",
       "      <td>1</td>\n",
       "      <td>4</td>\n",
       "      <td>Privet Drive</td>\n",
       "    </tr>\n",
       "    <tr>\n",
       "      <td>2</td>\n",
       "      <td>740</td>\n",
       "      <td>Evergreen Terrace</td>\n",
       "    </tr>\n",
       "    <tr>\n",
       "      <td>3</td>\n",
       "      <td>1</td>\n",
       "      <td>Infinite Loop</td>\n",
       "    </tr>\n",
       "    <tr>\n",
       "      <td>4</td>\n",
       "      <td>NaN</td>\n",
       "      <td>Wayne Manor</td>\n",
       "    </tr>\n",
       "    <tr>\n",
       "      <td>5</td>\n",
       "      <td>124</td>\n",
       "      <td>Conch Street</td>\n",
       "    </tr>\n",
       "  </tbody>\n",
       "</table>\n",
       "</div>"
      ],
      "text/plain": [
       "     0                  1\n",
       "0   84      Rainey Street\n",
       "1    4       Privet Drive\n",
       "2  740  Evergreen Terrace\n",
       "3    1      Infinite Loop\n",
       "4  NaN        Wayne Manor\n",
       "5  124       Conch Street"
      ]
     },
     "execution_count": 61,
     "metadata": {},
     "output_type": "execute_result"
    }
   ],
   "source": [
    "addresses.str.extract(r'^(\\d+)?\\s*(.+?),')"
   ]
  },
  {
   "cell_type": "markdown",
   "metadata": {},
   "source": [
    "Using named capture groups gives us a dataframe with column names."
   ]
  },
  {
   "cell_type": "code",
   "execution_count": 62,
   "metadata": {},
   "outputs": [
    {
     "data": {
      "text/html": [
       "<div>\n",
       "<style scoped>\n",
       "    .dataframe tbody tr th:only-of-type {\n",
       "        vertical-align: middle;\n",
       "    }\n",
       "\n",
       "    .dataframe tbody tr th {\n",
       "        vertical-align: top;\n",
       "    }\n",
       "\n",
       "    .dataframe thead th {\n",
       "        text-align: right;\n",
       "    }\n",
       "</style>\n",
       "<table border=\"1\" class=\"dataframe\">\n",
       "  <thead>\n",
       "    <tr style=\"text-align: right;\">\n",
       "      <th></th>\n",
       "      <th>house_no</th>\n",
       "      <th>street_name</th>\n",
       "    </tr>\n",
       "  </thead>\n",
       "  <tbody>\n",
       "    <tr>\n",
       "      <td>0</td>\n",
       "      <td>84</td>\n",
       "      <td>Rainey Street</td>\n",
       "    </tr>\n",
       "    <tr>\n",
       "      <td>1</td>\n",
       "      <td>4</td>\n",
       "      <td>Privet Drive</td>\n",
       "    </tr>\n",
       "    <tr>\n",
       "      <td>2</td>\n",
       "      <td>740</td>\n",
       "      <td>Evergreen Terrace</td>\n",
       "    </tr>\n",
       "    <tr>\n",
       "      <td>3</td>\n",
       "      <td>1</td>\n",
       "      <td>Infinite Loop</td>\n",
       "    </tr>\n",
       "    <tr>\n",
       "      <td>4</td>\n",
       "      <td>NaN</td>\n",
       "      <td>Wayne Manor</td>\n",
       "    </tr>\n",
       "    <tr>\n",
       "      <td>5</td>\n",
       "      <td>124</td>\n",
       "      <td>Conch Street</td>\n",
       "    </tr>\n",
       "  </tbody>\n",
       "</table>\n",
       "</div>"
      ],
      "text/plain": [
       "  house_no        street_name\n",
       "0       84      Rainey Street\n",
       "1        4       Privet Drive\n",
       "2      740  Evergreen Terrace\n",
       "3        1      Infinite Loop\n",
       "4      NaN        Wayne Manor\n",
       "5      124       Conch Street"
      ]
     },
     "execution_count": 62,
     "metadata": {},
     "output_type": "execute_result"
    }
   ],
   "source": [
    "addresses.str.extract(r'^(?P<house_no>\\d+)?\\s*(?P<street_name>.+?),')"
   ]
  },
  {
   "cell_type": "code",
   "execution_count": 63,
   "metadata": {},
   "outputs": [
    {
     "data": {
      "text/plain": [
       "0     True\n",
       "1     True\n",
       "2     True\n",
       "3     True\n",
       "4    False\n",
       "5     True\n",
       "dtype: bool"
      ]
     },
     "execution_count": 63,
     "metadata": {},
     "output_type": "execute_result"
    }
   ],
   "source": [
    "addresses.str.contains(r'\\d')"
   ]
  },
  {
   "cell_type": "code",
   "execution_count": 64,
   "metadata": {},
   "outputs": [
    {
     "data": {
      "text/plain": [
       "0                      84 Rainey Street, Arlen, TX\n",
       "1    4 Privet Drive, Little Whinging, Surrey, U.K.\n",
       "2               740 Evergreen Terrace, Springfield\n",
       "3           1 Infinite Loop, Cupertino, California\n",
       "5                  124 Conch Street, Bikini Bottom\n",
       "dtype: object"
      ]
     },
     "execution_count": 64,
     "metadata": {},
     "output_type": "execute_result"
    }
   ],
   "source": [
    "addresses[addresses.str.contains(r'\\d')]"
   ]
  },
  {
   "cell_type": "code",
   "execution_count": 65,
   "metadata": {},
   "outputs": [
    {
     "data": {
      "text/plain": [
       "0    2\n",
       "1    1\n",
       "2    3\n",
       "3    1\n",
       "4    0\n",
       "5    3\n",
       "dtype: int64"
      ]
     },
     "execution_count": 65,
     "metadata": {},
     "output_type": "execute_result"
    }
   ],
   "source": [
    "addresses.str.count(r'\\d')"
   ]
  },
  {
   "cell_type": "code",
   "execution_count": 66,
   "metadata": {},
   "outputs": [
    {
     "data": {
      "text/plain": [
       "0    aaa\n",
       "1    abb\n",
       "2    aba\n",
       "dtype: object"
      ]
     },
     "execution_count": 66,
     "metadata": {},
     "output_type": "execute_result"
    }
   ],
   "source": [
    "s = pd.Series(['aaa', 'abb', 'aba'])\n",
    "s"
   ]
  },
  {
   "cell_type": "code",
   "execution_count": 67,
   "metadata": {},
   "outputs": [
    {
     "data": {
      "text/plain": [
       "0      \n",
       "1    bb\n",
       "2     b\n",
       "dtype: object"
      ]
     },
     "execution_count": 67,
     "metadata": {},
     "output_type": "execute_result"
    }
   ],
   "source": [
    "s.str.replace('a', '')"
   ]
  },
  {
   "cell_type": "code",
   "execution_count": 68,
   "metadata": {},
   "outputs": [
    {
     "data": {
      "text/plain": [
       "0    aa\n",
       "1    bb\n",
       "2    ba\n",
       "dtype: object"
      ]
     },
     "execution_count": 68,
     "metadata": {},
     "output_type": "execute_result"
    }
   ],
   "source": [
    "s.str.replace(r'a(.)', r'\\1')"
   ]
  },
  {
   "cell_type": "markdown",
   "metadata": {},
   "source": [
    "## Exercise Solutions"
   ]
  },
  {
   "cell_type": "code",
   "execution_count": 83,
   "metadata": {},
   "outputs": [
    {
     "data": {
      "text/plain": [
       "(True, False, True, False)"
      ]
     },
     "execution_count": 83,
     "metadata": {},
     "output_type": "execute_result"
    }
   ],
   "source": [
    "def is_vowel(letter):\n",
    "    vowel_re = r'[aeiouAEIOU]' # write your regex here\n",
    "    return bool(re.search(vowel_re, letter))\n",
    "\n",
    "is_vowel('a'), is_vowel('b'), is_vowel('e'), is_vowel('d')"
   ]
  },
  {
   "cell_type": "code",
   "execution_count": 85,
   "metadata": {},
   "outputs": [
    {
     "name": "stdout",
     "output_type": "stream",
     "text": [
      "is_valid_username | username\n",
      "----------------- | --------\n",
      "            False | aaaaaaaaaaaaaaaaaaaaaaaaaaaaaaaaa\n",
      "             True | codeup\n",
      "            False | Codeup\n",
      "             True | codeup123\n",
      "            False | 1codeup\n"
     ]
    }
   ],
   "source": [
    "# A valid username starts with a lowercase letter, and only consists of lowercase letters,\n",
    "# numbers, or the _ character. It should also be no longer than 32 characters\n",
    "def is_valid_username(username):\n",
    "    username_re = r'^[a-z][a-z0-9_]{,31}$' # write your regex here\n",
    "    return bool(re.search(username_re, username))\n",
    "\n",
    "usernames = ['aaaaaaaaaaaaaaaaaaaaaaaaaaaaaaaaa', 'codeup', 'Codeup', 'codeup123', '1codeup']\n",
    "print('is_valid_username | username')\n",
    "print('----------------- | --------')\n",
    "for username in usernames:\n",
    "    print('%17s | %s' % (is_valid_username(username), username))"
   ]
  },
  {
   "cell_type": "code",
   "execution_count": 87,
   "metadata": {},
   "outputs": [
    {
     "data": {
      "text/html": [
       "<div>\n",
       "<style scoped>\n",
       "    .dataframe tbody tr th:only-of-type {\n",
       "        vertical-align: middle;\n",
       "    }\n",
       "\n",
       "    .dataframe tbody tr th {\n",
       "        vertical-align: top;\n",
       "    }\n",
       "\n",
       "    .dataframe thead th {\n",
       "        text-align: right;\n",
       "    }\n",
       "</style>\n",
       "<table border=\"1\" class=\"dataframe\">\n",
       "  <thead>\n",
       "    <tr style=\"text-align: right;\">\n",
       "      <th></th>\n",
       "      <th>phone_number</th>\n",
       "      <th>regexp_matches</th>\n",
       "    </tr>\n",
       "  </thead>\n",
       "  <tbody>\n",
       "    <tr>\n",
       "      <td>0</td>\n",
       "      <td>(210) 867 5309</td>\n",
       "      <td>False</td>\n",
       "    </tr>\n",
       "    <tr>\n",
       "      <td>1</td>\n",
       "      <td>+1 210.867.5309</td>\n",
       "      <td>False</td>\n",
       "    </tr>\n",
       "    <tr>\n",
       "      <td>2</td>\n",
       "      <td>867-5309</td>\n",
       "      <td>False</td>\n",
       "    </tr>\n",
       "    <tr>\n",
       "      <td>3</td>\n",
       "      <td>210-867-5309</td>\n",
       "      <td>False</td>\n",
       "    </tr>\n",
       "  </tbody>\n",
       "</table>\n",
       "</div>"
      ],
      "text/plain": [
       "      phone_number  regexp_matches\n",
       "0   (210) 867 5309           False\n",
       "1  +1 210.867.5309           False\n",
       "2         867-5309           False\n",
       "3     210-867-5309           False"
      ]
     },
     "execution_count": 87,
     "metadata": {},
     "output_type": "execute_result"
    }
   ],
   "source": [
    "phone_numbers = pd.Series([\n",
    "    '(210) 867 5309',\n",
    "    '+1 210.867.5309',\n",
    "    '867-5309',\n",
    "    '210-867-5309',\n",
    "])\n",
    "\n",
    "phone_number_re = re.compile(r'''\n",
    "^\n",
    "(?P<calling_code>\\+\\d+)?\n",
    "\\D*?\n",
    "(?P<area_code>\\d{3})?\n",
    "\\D*?\n",
    "(?P<first_three>\\d{3})\n",
    "\\D*?\n",
    "(?P<last_four>\\d{4})\n",
    "\\D*\n",
    "$\n",
    "''', re.VERBOSE)\n",
    "\n",
    "pd.DataFrame({\n",
    "    'phone_number': phone_numbers,\n",
    "    'regexp_matches': phone_numbers.str.match(phone_number_re)\n",
    "})"
   ]
  },
  {
   "cell_type": "code",
   "execution_count": 88,
   "metadata": {},
   "outputs": [
    {
     "data": {
      "text/html": [
       "<div style=\"font-family: monospace; letter-spacing: 3px; font-size: 24px; line-height: 36px;\">(210) 867 <span style=\"text-decoration: underline\">5309</span></div>"
      ],
      "text/plain": [
       "<IPython.core.display.HTML object>"
      ]
     },
     "execution_count": 88,
     "metadata": {},
     "output_type": "execute_result"
    }
   ],
   "source": [
    "hl(r'\\d{4}$', '(210) 867 5309')"
   ]
  },
  {
   "cell_type": "code",
   "execution_count": 89,
   "metadata": {},
   "outputs": [
    {
     "data": {
      "text/html": [
       "<div style=\"font-family: monospace; letter-spacing: 3px; font-size: 24px; line-height: 36px;\">+1 210.867.<span style=\"text-decoration: underline\">5309</span></div>"
      ],
      "text/plain": [
       "<IPython.core.display.HTML object>"
      ]
     },
     "execution_count": 89,
     "metadata": {},
     "output_type": "execute_result"
    }
   ],
   "source": [
    "hl(r'\\d{4}$', '+1 210.867.5309')"
   ]
  },
  {
   "cell_type": "code",
   "execution_count": 72,
   "metadata": {},
   "outputs": [
    {
     "data": {
      "text/html": [
       "<div>\n",
       "<style scoped>\n",
       "    .dataframe tbody tr th:only-of-type {\n",
       "        vertical-align: middle;\n",
       "    }\n",
       "\n",
       "    .dataframe tbody tr th {\n",
       "        vertical-align: top;\n",
       "    }\n",
       "\n",
       "    .dataframe thead th {\n",
       "        text-align: right;\n",
       "    }\n",
       "</style>\n",
       "<table border=\"1\" class=\"dataframe\">\n",
       "  <thead>\n",
       "    <tr style=\"text-align: right;\">\n",
       "      <th></th>\n",
       "      <th>calling_code</th>\n",
       "      <th>area_code</th>\n",
       "      <th>first_three</th>\n",
       "      <th>last_four</th>\n",
       "    </tr>\n",
       "  </thead>\n",
       "  <tbody>\n",
       "    <tr>\n",
       "      <td>0</td>\n",
       "      <td>NaN</td>\n",
       "      <td>210</td>\n",
       "      <td>867</td>\n",
       "      <td>5309</td>\n",
       "    </tr>\n",
       "    <tr>\n",
       "      <td>1</td>\n",
       "      <td>+1</td>\n",
       "      <td>210</td>\n",
       "      <td>867</td>\n",
       "      <td>5309</td>\n",
       "    </tr>\n",
       "    <tr>\n",
       "      <td>2</td>\n",
       "      <td>NaN</td>\n",
       "      <td>NaN</td>\n",
       "      <td>867</td>\n",
       "      <td>5309</td>\n",
       "    </tr>\n",
       "    <tr>\n",
       "      <td>3</td>\n",
       "      <td>NaN</td>\n",
       "      <td>210</td>\n",
       "      <td>867</td>\n",
       "      <td>5309</td>\n",
       "    </tr>\n",
       "  </tbody>\n",
       "</table>\n",
       "</div>"
      ],
      "text/plain": [
       "  calling_code area_code first_three last_four\n",
       "0          NaN       210         867      5309\n",
       "1           +1       210         867      5309\n",
       "2          NaN       NaN         867      5309\n",
       "3          NaN       210         867      5309"
      ]
     },
     "execution_count": 72,
     "metadata": {},
     "output_type": "execute_result"
    }
   ],
   "source": [
    "phone_numbers.str.extract(phone_number_re)"
   ]
  },
  {
   "cell_type": "code",
   "execution_count": 73,
   "metadata": {},
   "outputs": [],
   "source": [
    "dates = pd.Series([\n",
    "    '02/04/19',\n",
    "    '02/05/19',\n",
    "    '02/06/19',\n",
    "    '02/07/19',\n",
    "    '02/08/19',\n",
    "    '02/09/19',\n",
    "    '02/10/19',\n",
    "])\n",
    "\n",
    "# hint: use dates.str.replace and capture groups"
   ]
  },
  {
   "cell_type": "code",
   "execution_count": 74,
   "metadata": {},
   "outputs": [
    {
     "data": {
      "text/plain": [
       "0    2019-02-04\n",
       "1    2019-02-05\n",
       "2    2019-02-06\n",
       "3    2019-02-07\n",
       "4    2019-02-08\n",
       "5    2019-02-09\n",
       "6    2019-02-10\n",
       "dtype: object"
      ]
     },
     "execution_count": 74,
     "metadata": {},
     "output_type": "execute_result"
    }
   ],
   "source": [
    "dates.str.replace(r'(\\d+)/(\\d+)/(\\d+)', r'20\\3-\\1-\\2')"
   ]
  },
  {
   "cell_type": "code",
   "execution_count": 75,
   "metadata": {},
   "outputs": [
    {
     "data": {
      "text/plain": [
       "0    2019-02-04\n",
       "1    2019-02-05\n",
       "2    2019-02-06\n",
       "3    2019-02-07\n",
       "4    2019-02-08\n",
       "5    2019-02-09\n",
       "6    2019-02-10\n",
       "dtype: object"
      ]
     },
     "execution_count": 75,
     "metadata": {},
     "output_type": "execute_result"
    }
   ],
   "source": [
    "# accepts a `Match` object and returns a string\n",
    "def format_date(m: re.Match) -> str:\n",
    "    return '20' + m.group('year') + '-' + m.group('month') + '-' + m.group('day')\n",
    "\n",
    "dates.str.replace(r'(?P<month>\\d+)/(?P<day>\\d+)/(?P<year>\\d+)', format_date)"
   ]
  },
  {
   "cell_type": "code",
   "execution_count": 90,
   "metadata": {},
   "outputs": [
    {
     "data": {
      "text/plain": [
       "0    2019-02-04\n",
       "1    2019-02-05\n",
       "2    2019-02-06\n",
       "3    2019-02-07\n",
       "4    2019-02-08\n",
       "5    2019-02-09\n",
       "6    2019-02-10\n",
       "dtype: object"
      ]
     },
     "execution_count": 90,
     "metadata": {},
     "output_type": "execute_result"
    }
   ],
   "source": [
    "def format_date(m):\n",
    "    return '20' + m.group('year') + '-' + m.group('month') + '-' + m.group('day')\n",
    "\n",
    "dates.str.replace(r'(?P<month>\\d+)/(?P<day>\\d+)/(?P<year>\\d+)', format_date)"
   ]
  },
  {
   "cell_type": "code",
   "execution_count": 94,
   "metadata": {},
   "outputs": [
    {
     "data": {
      "text/plain": [
       "0                  a\n",
       "1                  a\n",
       "2                 aa\n",
       "3                aal\n",
       "4              aalii\n",
       "             ...    \n",
       "235881        zythem\n",
       "235882        zythia\n",
       "235883        zythum\n",
       "235884       zyzomys\n",
       "235885    zyzzogeton\n",
       "Name: 0, Length: 235884, dtype: object"
      ]
     },
     "execution_count": 94,
     "metadata": {},
     "output_type": "execute_result"
    }
   ],
   "source": [
    "words = pd.read_csv('/usr/share/dict/words', header=None).iloc[:, 0].dropna().str.lower()\n",
    "words"
   ]
  },
  {
   "cell_type": "code",
   "execution_count": 95,
   "metadata": {},
   "outputs": [
    {
     "data": {
      "text/plain": [
       "191365"
      ]
     },
     "execution_count": 95,
     "metadata": {},
     "output_type": "execute_result"
    }
   ],
   "source": [
    "# How many words with at least 3 vowels? 190293\n",
    "(words.str.count(r'[aeiou]') >= 3).sum()"
   ]
  },
  {
   "cell_type": "code",
   "execution_count": 103,
   "metadata": {},
   "outputs": [
    {
     "data": {
      "text/plain": [
       "6182"
      ]
     },
     "execution_count": 103,
     "metadata": {},
     "output_type": "execute_result"
    }
   ],
   "source": [
    "# How many words have at least 3 vowels in a row? 6156\n",
    "words.str.match(r'.*[aeiou]{3}').sum()"
   ]
  },
  {
   "cell_type": "code",
   "execution_count": 105,
   "metadata": {},
   "outputs": [
    {
     "data": {
      "text/plain": [
       "3041           aeacides\n",
       "3042             aeacus\n",
       "3043             aeaean\n",
       "3109      aeolharmonica\n",
       "3110             aeolia\n",
       "              ...      \n",
       "133272          ouenite\n",
       "133278            ouija\n",
       "133279         ouistiti\n",
       "210115            uaupe\n",
       "210173        ueueteotl\n",
       "Name: 0, Length: 78, dtype: object"
      ]
     },
     "execution_count": 105,
     "metadata": {},
     "output_type": "execute_result"
    }
   ],
   "source": [
    "words[words.str.match(r'^[aeiou]{3,}')]"
   ]
  },
  {
   "cell_type": "code",
   "execution_count": 99,
   "metadata": {},
   "outputs": [
    {
     "data": {
      "text/plain": [
       "6182"
      ]
     },
     "execution_count": 99,
     "metadata": {},
     "output_type": "execute_result"
    }
   ],
   "source": [
    "# How many words have at least 3 vowels in a row? 6156\n",
    "words.str.contains(r'[aeiou]{3}').sum()"
   ]
  },
  {
   "cell_type": "code",
   "execution_count": 110,
   "metadata": {},
   "outputs": [
    {
     "data": {
      "text/plain": [
       "19241"
      ]
     },
     "execution_count": 110,
     "metadata": {},
     "output_type": "execute_result"
    }
   ],
   "source": [
    "# How many words have at least 4 consonants in a row? 19743\n",
    "words.str.contains(r'[^aeiou]{4}').sum()"
   ]
  },
  {
   "cell_type": "code",
   "execution_count": 113,
   "metadata": {},
   "outputs": [
    {
     "data": {
      "text/plain": [
       "136805    pachyrhynchous\n",
       "169656       rhythmproof\n",
       "196749        syncryptic\n",
       "196748         syncrypta\n",
       "136610      oxyrhynchous\n",
       "115190     methylglycine\n",
       "6467       amblyrhynchus\n",
       "119715       morthwyrtha\n",
       "196706    synchytriaceae\n",
       "13506          arrhythmy\n",
       "Name: 0, dtype: object"
      ]
     },
     "execution_count": 113,
     "metadata": {},
     "output_type": "execute_result"
    }
   ],
   "source": [
    "words[words.str.contains(r'[^aeiou]{8}')].sample(10)"
   ]
  },
  {
   "cell_type": "code",
   "execution_count": 119,
   "metadata": {},
   "outputs": [
    {
     "data": {
      "text/plain": [
       "11452"
      ]
     },
     "execution_count": 119,
     "metadata": {},
     "output_type": "execute_result"
    }
   ],
   "source": [
    "# How many words start and end with the same letter? 9916\n",
    "words.str.contains(r'^(.).*\\1$').sum()"
   ]
  },
  {
   "cell_type": "code",
   "execution_count": 115,
   "metadata": {},
   "outputs": [
    {
     "data": {
      "text/plain": [
       "14657"
      ]
     },
     "execution_count": 115,
     "metadata": {},
     "output_type": "execute_result"
    }
   ],
   "source": [
    "# How many words start and end with a vowel? 12351\n",
    "words.str.contains(r'^[aeiou].*[aeiou]$').sum()"
   ]
  },
  {
   "cell_type": "code",
   "execution_count": 121,
   "metadata": {},
   "outputs": [
    {
     "data": {
      "text/plain": [
       "24988             bossship\n",
       "50636      demigoddessship\n",
       "78498          goddessship\n",
       "82997     headmistressship\n",
       "140481       patronessship\n",
       "230262            wallless\n",
       "231688           whenceeer\n",
       "Name: 0, dtype: object"
      ]
     },
     "execution_count": 121,
     "metadata": {},
     "output_type": "execute_result"
    }
   ],
   "source": [
    "# How many words contain the same letter 3 times in a row? 7\n",
    "words[words.str.contains(r'(.)\\1\\1')]"
   ]
  },
  {
   "cell_type": "code",
   "execution_count": 123,
   "metadata": {},
   "outputs": [
    {
     "data": {
      "text/plain": [
       "792"
      ]
     },
     "execution_count": 123,
     "metadata": {},
     "output_type": "execute_result"
    }
   ],
   "source": [
    "# how many words contain two sets of the same two letters repeated?\n",
    "# e.g. assissin\n",
    "words.str.contains(r'((.)\\2).*\\1').sum()"
   ]
  },
  {
   "cell_type": "code",
   "execution_count": 124,
   "metadata": {},
   "outputs": [
    {
     "data": {
      "text/plain": [
       "895        accessariness\n",
       "906           accessless\n",
       "909        accessoriness\n",
       "2688      admissibleness\n",
       "3879         agelessness\n",
       "               ...      \n",
       "234557       yellowbelly\n",
       "234559        yellowbill\n",
       "234834     youthlessness\n",
       "235076      zeallessness\n",
       "235683            zoozoo\n",
       "Name: 0, Length: 792, dtype: object"
      ]
     },
     "execution_count": 124,
     "metadata": {},
     "output_type": "execute_result"
    }
   ],
   "source": [
    "# how many words contain two sets of the same two letters repeated?\n",
    "# e.g. assissin\n",
    "words[words.str.contains(r'((.)\\2).*\\1')]"
   ]
  },
  {
   "cell_type": "code",
   "execution_count": 125,
   "metadata": {},
   "outputs": [
    {
     "data": {
      "text/plain": [
       "0     Mary had a little lamb, little lamb, little lamb\n",
       "1    Hello Bayes! It is a fine morning for regular ...\n",
       "2                      The plural of regex is regrets.\n",
       "3                     Python is a fine, fine language.\n",
       "dtype: object"
      ]
     },
     "execution_count": 125,
     "metadata": {},
     "output_type": "execute_result"
    }
   ],
   "source": [
    "# can we detect sentences with duplicated words? a word being 3 or more characters long\n",
    "sentences = pd.Series([\n",
    "    'Mary had a little lamb, little lamb, little lamb',\n",
    "    'Hello Bayes! It is a fine morning for regular expressions.',\n",
    "    'The plural of regex is regrets.',\n",
    "    'Python is a fine, fine language.'\n",
    "])\n",
    "sentences"
   ]
  },
  {
   "cell_type": "code",
   "execution_count": 133,
   "metadata": {},
   "outputs": [
    {
     "data": {
      "text/plain": [
       "0    [Mary, had, little, lamb, little, lamb, little...\n",
       "1    [Hello, Bayes, fine, morning, for, regular, ex...\n",
       "2                        [The, plural, regex, regrets]\n",
       "3                       [Python, fine, fine, language]\n",
       "dtype: object"
      ]
     },
     "execution_count": 133,
     "metadata": {},
     "output_type": "execute_result"
    }
   ],
   "source": [
    "sentences.str.findall(r'\\b\\w{3,}\\b')"
   ]
  },
  {
   "cell_type": "code",
   "execution_count": 135,
   "metadata": {},
   "outputs": [
    {
     "data": {
      "text/plain": [
       "0    Mary had a little lamb, little lamb, little lamb\n",
       "3                    Python is a fine, fine language.\n",
       "dtype: object"
      ]
     },
     "execution_count": 135,
     "metadata": {},
     "output_type": "execute_result"
    }
   ],
   "source": [
    "sentences[sentences.str.contains(r'(\\b\\w{3,}\\b).*\\1')]"
   ]
  }
 ],
 "metadata": {
  "kernelspec": {
   "display_name": "Python 3",
   "language": "python",
   "name": "python3"
  },
  "language_info": {
   "codemirror_mode": {
    "name": "ipython",
    "version": 3
   },
   "file_extension": ".py",
   "mimetype": "text/x-python",
   "name": "python",
   "nbconvert_exporter": "python",
   "pygments_lexer": "ipython3",
   "version": "3.7.3"
  }
 },
 "nbformat": 4,
 "nbformat_minor": 2
}
