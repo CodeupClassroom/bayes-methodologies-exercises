{
 "cells": [
  {
   "cell_type": "code",
   "execution_count": 1,
   "metadata": {},
   "outputs": [],
   "source": [
    "import unicodedata\n",
    "import re\n",
    "import json\n",
    "\n",
    "import nltk\n",
    "from nltk.tokenize.toktok import ToktokTokenizer\n",
    "from nltk.corpus import stopwords\n",
    "\n",
    "import pandas as pd\n",
    "import acquire"
   ]
  },
  {
   "cell_type": "code",
   "execution_count": 3,
   "metadata": {},
   "outputs": [],
   "source": [
    "def basic_clean(string):\n",
    "    \"\"\"\n",
    "    Lowercase the string\n",
    "    Normalize unicode characters\n",
    "    Replace anything that is not a letter, number, whitespace or a single quote.\n",
    "    \"\"\"\n",
    "    string = string.lower()\n",
    "    string = unicodedata.normalize('NFKD', string).encode('ascii', 'ignore').decode('utf-8', 'ignore')\n",
    "    \n",
    "    # remove anything not a space character, an apostrophy, letter, or number\n",
    "    string = re.sub(r\"[^a-z0-9'\\s]\", '', string)\n",
    "\n",
    "    # convert newlines and tabs to a single space\n",
    "    string = re.sub(r'[\\r|\\n|\\r\\n]+', ' ', string)\n",
    "    \n",
    "    string = string.strip()\n",
    "    return string"
   ]
  },
  {
   "cell_type": "code",
   "execution_count": 7,
   "metadata": {},
   "outputs": [
    {
     "data": {
      "text/plain": [
       "\"howdy's\""
      ]
     },
     "execution_count": 7,
     "metadata": {},
     "output_type": "execute_result"
    }
   ],
   "source": [
    "basic_clean(\"HOWDY's\")"
   ]
  },
  {
   "cell_type": "code",
   "execution_count": 8,
   "metadata": {},
   "outputs": [
    {
     "data": {
      "text/plain": [
       "'inine'"
      ]
     },
     "execution_count": 8,
     "metadata": {},
     "output_type": "execute_result"
    }
   ],
   "source": [
    "basic_clean(\"ïñłińê\")"
   ]
  },
  {
   "cell_type": "code",
   "execution_count": 9,
   "metadata": {},
   "outputs": [
    {
     "data": {
      "text/plain": [
       "\"i'm\""
      ]
     },
     "execution_count": 9,
     "metadata": {},
     "output_type": "execute_result"
    }
   ],
   "source": [
    "basic_clean(\"I'm\")"
   ]
  },
  {
   "cell_type": "code",
   "execution_count": 12,
   "metadata": {},
   "outputs": [],
   "source": [
    "def tokenize(string):\n",
    "    tokenizer = nltk.tokenize.ToktokTokenizer()\n",
    "    return tokenizer.tokenize(string, return_str=True)"
   ]
  },
  {
   "cell_type": "code",
   "execution_count": 13,
   "metadata": {},
   "outputs": [
    {
     "data": {
      "text/plain": [
       "'Hello , World !'"
      ]
     },
     "execution_count": 13,
     "metadata": {},
     "output_type": "execute_result"
    }
   ],
   "source": [
    "tokenize(\"Hello, World!\")"
   ]
  },
  {
   "cell_type": "code",
   "execution_count": 14,
   "metadata": {},
   "outputs": [
    {
     "data": {
      "text/plain": [
       "'email@whatever.com'"
      ]
     },
     "execution_count": 14,
     "metadata": {},
     "output_type": "execute_result"
    }
   ],
   "source": [
    "tokenize(\"email@whatever.com\")"
   ]
  },
  {
   "cell_type": "code",
   "execution_count": 15,
   "metadata": {},
   "outputs": [
    {
     "data": {
      "text/plain": [
       "'2018-19'"
      ]
     },
     "execution_count": 15,
     "metadata": {},
     "output_type": "execute_result"
    }
   ],
   "source": [
    "tokenize(\"2018-19\")"
   ]
  },
  {
   "cell_type": "code",
   "execution_count": 16,
   "metadata": {},
   "outputs": [],
   "source": [
    "def stem(string):\n",
    "    ps = nltk.porter.PorterStemmer()\n",
    "    stems = [ps.stem(word) for word in string.split()]\n",
    "    string_of_stems = ' '.join(stems)\n",
    "    return string_of_stems"
   ]
  },
  {
   "cell_type": "code",
   "execution_count": 21,
   "metadata": {},
   "outputs": [
    {
     "data": {
      "text/plain": [
       "'run into a hous'"
      ]
     },
     "execution_count": 21,
     "metadata": {},
     "output_type": "execute_result"
    }
   ],
   "source": [
    "stem(\"running into a house\")"
   ]
  },
  {
   "cell_type": "code",
   "execution_count": 18,
   "metadata": {},
   "outputs": [
    {
     "data": {
      "text/plain": [
       "'wa'"
      ]
     },
     "execution_count": 18,
     "metadata": {},
     "output_type": "execute_result"
    }
   ],
   "source": [
    "stem(\"was\")"
   ]
  },
  {
   "cell_type": "code",
   "execution_count": 30,
   "metadata": {},
   "outputs": [
    {
     "data": {
      "text/plain": [
       "'were'"
      ]
     },
     "execution_count": 30,
     "metadata": {},
     "output_type": "execute_result"
    }
   ],
   "source": [
    "stem(\"were\")"
   ]
  },
  {
   "cell_type": "code",
   "execution_count": 24,
   "metadata": {},
   "outputs": [],
   "source": [
    "def lemmatize(string):\n",
    "    wnl = nltk.stem.WordNetLemmatizer()\n",
    "    lemmas = [wnl.lemmatize(word) for word in string.split()]\n",
    "    string_of_lemmas = ' '.join(lemmas)\n",
    "    return string_of_lemmas"
   ]
  },
  {
   "cell_type": "code",
   "execution_count": 25,
   "metadata": {},
   "outputs": [
    {
     "data": {
      "text/plain": [
       "'running into a house'"
      ]
     },
     "execution_count": 25,
     "metadata": {},
     "output_type": "execute_result"
    }
   ],
   "source": [
    "lemmatize(\"running into a house\")"
   ]
  },
  {
   "cell_type": "code",
   "execution_count": 26,
   "metadata": {},
   "outputs": [
    {
     "data": {
      "text/plain": [
       "'wa'"
      ]
     },
     "execution_count": 26,
     "metadata": {},
     "output_type": "execute_result"
    }
   ],
   "source": [
    "lemmatize(\"was\")"
   ]
  },
  {
   "cell_type": "code",
   "execution_count": 31,
   "metadata": {},
   "outputs": [
    {
     "data": {
      "text/plain": [
       "'were'"
      ]
     },
     "execution_count": 31,
     "metadata": {},
     "output_type": "execute_result"
    }
   ],
   "source": [
    "lemmatize(\"were\")"
   ]
  },
  {
   "cell_type": "code",
   "execution_count": 49,
   "metadata": {},
   "outputs": [],
   "source": [
    "def remove_stopwords(string, extra_words=[], exclude_words=[]):\n",
    "    \n",
    "    # Tokenize the string\n",
    "    string = tokenize(string)\n",
    "\n",
    "    words = string.split()\n",
    "    stopword_list = stopwords.words('english')\n",
    "\n",
    "    # remove the excluded words from the stopword list\n",
    "    stopword_list = set(stopword_list) - set(exclude_words)\n",
    "\n",
    "    # add in the user specified extra words\n",
    "    stopword_list = stopword_list.union(set(extra_words))\n",
    "\n",
    "    filtered_words = [w for w in words if w not in stopword_list]\n",
    "    final_string = \" \".join(filtered_words)\n",
    "    return final_string"
   ]
  },
  {
   "cell_type": "code",
   "execution_count": 42,
   "metadata": {},
   "outputs": [],
   "source": [
    "stopwords_list = [\"a\", \"an\", \"the\", \"bob\", \"jane\"]"
   ]
  },
  {
   "cell_type": "code",
   "execution_count": 43,
   "metadata": {},
   "outputs": [],
   "source": [
    "words_to_exclude = [\"an\", \"bob\"]"
   ]
  },
  {
   "cell_type": "code",
   "execution_count": 53,
   "metadata": {},
   "outputs": [
    {
     "data": {
      "text/plain": [
       "{'a', 'jane', 'the'}"
      ]
     },
     "execution_count": 53,
     "metadata": {},
     "output_type": "execute_result"
    }
   ],
   "source": [
    "stopword_list = set(stopwords_list) - set(words_to_exclude)\n",
    "stopword_list"
   ]
  },
  {
   "cell_type": "code",
   "execution_count": 55,
   "metadata": {},
   "outputs": [
    {
     "data": {
      "text/plain": [
       "{'a', 'codeup', 'jane', 'the'}"
      ]
     },
     "execution_count": 55,
     "metadata": {},
     "output_type": "execute_result"
    }
   ],
   "source": [
    "extra_words = [\"codeup\"]\n",
    "stopword_list = stopword_list.union(set(extra_words))\n",
    "stopword_list"
   ]
  },
  {
   "cell_type": "code",
   "execution_count": 56,
   "metadata": {},
   "outputs": [
    {
     "data": {
      "text/plain": [
       "{1, 2, 3, 5, 6, 7}"
      ]
     },
     "execution_count": 56,
     "metadata": {},
     "output_type": "execute_result"
    }
   ],
   "source": [
    "{1, 2, 3}.union({5, 6, 7})"
   ]
  },
  {
   "cell_type": "code",
   "execution_count": 57,
   "metadata": {},
   "outputs": [
    {
     "data": {
      "text/plain": [
       "{1, 2}"
      ]
     },
     "execution_count": 57,
     "metadata": {},
     "output_type": "execute_result"
    }
   ],
   "source": [
    "{1, 2, 3} - {3, 4, 5}"
   ]
  },
  {
   "cell_type": "code",
   "execution_count": 58,
   "metadata": {},
   "outputs": [],
   "source": [
    "a = {1, 2}"
   ]
  },
  {
   "cell_type": "code",
   "execution_count": 59,
   "metadata": {},
   "outputs": [],
   "source": [
    "def prep_articles(df):\n",
    "    df[\"original\"] = df.body\n",
    "    df[\"stemmed\"] = df.body.apply(basic_clean).apply(stem)\n",
    "    df[\"lemmatized\"] = df.body.apply(basic_clean).apply(lemmatize)\n",
    "    df[\"clean\"] = df.body.apply(basic_clean).apply(remove_stopwords)\n",
    "    df.drop(columns=[\"body\"], inplace=True)\n",
    "    return df"
   ]
  },
  {
   "cell_type": "code",
   "execution_count": 60,
   "metadata": {},
   "outputs": [],
   "source": [
    "def prep_blog_posts():\n",
    "    df = acquire.get_blog_posts()\n",
    "    return prep_articles(df)"
   ]
  },
  {
   "cell_type": "code",
   "execution_count": 61,
   "metadata": {},
   "outputs": [],
   "source": [
    "def prep_news_articles():\n",
    "    df = acquire.get_news_articles()\n",
    "    return prep_articles(df)"
   ]
  },
  {
   "cell_type": "code",
   "execution_count": 62,
   "metadata": {},
   "outputs": [],
   "source": [
    "def prep_corpus():\n",
    "    blog_df = prep_blog_posts()\n",
    "    blog_df[\"source\"] = \"Codeup Blog\"\n",
    "\n",
    "    news_df = prep_news_articles()\n",
    "    news_df[\"source\"] = \"InShorts News\"\n",
    "\n",
    "    return blog_df, news_df"
   ]
  },
  {
   "cell_type": "code",
   "execution_count": 63,
   "metadata": {},
   "outputs": [],
   "source": [
    "codeup_df, news_df = prep_corpus()"
   ]
  },
  {
   "cell_type": "code",
   "execution_count": 65,
   "metadata": {},
   "outputs": [
    {
     "data": {
      "text/html": [
       "<div>\n",
       "<style scoped>\n",
       "    .dataframe tbody tr th:only-of-type {\n",
       "        vertical-align: middle;\n",
       "    }\n",
       "\n",
       "    .dataframe tbody tr th {\n",
       "        vertical-align: top;\n",
       "    }\n",
       "\n",
       "    .dataframe thead th {\n",
       "        text-align: right;\n",
       "    }\n",
       "</style>\n",
       "<table border=\"1\" class=\"dataframe\">\n",
       "  <thead>\n",
       "    <tr style=\"text-align: right;\">\n",
       "      <th></th>\n",
       "      <th>Unnamed: 0</th>\n",
       "      <th>title</th>\n",
       "      <th>original</th>\n",
       "      <th>stemmed</th>\n",
       "      <th>lemmatized</th>\n",
       "      <th>clean</th>\n",
       "      <th>source</th>\n",
       "    </tr>\n",
       "  </thead>\n",
       "  <tbody>\n",
       "    <tr>\n",
       "      <th>0</th>\n",
       "      <td>0</td>\n",
       "      <td>Codeup’s Data Science Career Accelerator is He...</td>\n",
       "      <td>\\nThe rumors are true! The time has arrived. C...</td>\n",
       "      <td>the rumor are true the time ha arriv codeup ha...</td>\n",
       "      <td>the rumor are true the time ha arrived codeup ...</td>\n",
       "      <td>rumors true time arrived codeup officially ope...</td>\n",
       "      <td>Codeup Blog</td>\n",
       "    </tr>\n",
       "    <tr>\n",
       "      <th>1</th>\n",
       "      <td>1</td>\n",
       "      <td>Data Science Myths - Codeup</td>\n",
       "      <td>\\nBy Dimitri Antoniou and Maggie Giust\\nData S...</td>\n",
       "      <td>by dimitri antoni and maggi giust data scienc ...</td>\n",
       "      <td>by dimitri antoniou and maggie giust data scie...</td>\n",
       "      <td>dimitri antoniou maggie giust data science big...</td>\n",
       "      <td>Codeup Blog</td>\n",
       "    </tr>\n",
       "    <tr>\n",
       "      <th>2</th>\n",
       "      <td>2</td>\n",
       "      <td>Data Science VS Data Analytics: What’s The Dif...</td>\n",
       "      <td>\\nBy Dimitri Antoniou\\nA week ago, Codeup laun...</td>\n",
       "      <td>by dimitri antoni a week ago codeup launch our...</td>\n",
       "      <td>by dimitri antoniou a week ago codeup launched...</td>\n",
       "      <td>dimitri antoniou week ago codeup launched imme...</td>\n",
       "      <td>Codeup Blog</td>\n",
       "    </tr>\n",
       "    <tr>\n",
       "      <th>3</th>\n",
       "      <td>3</td>\n",
       "      <td>10 Tips to Crush It at the SA Tech Job Fair - ...</td>\n",
       "      <td>\\n10 Tips to Crush It at the SA Tech Job Fair\\...</td>\n",
       "      <td>10 tip to crush it at the sa tech job fair sa ...</td>\n",
       "      <td>10 tip to crush it at the sa tech job fair sa ...</td>\n",
       "      <td>10 tips crush sa tech job fair sa tech job fai...</td>\n",
       "      <td>Codeup Blog</td>\n",
       "    </tr>\n",
       "    <tr>\n",
       "      <th>4</th>\n",
       "      <td>4</td>\n",
       "      <td>Competitor Bootcamps Are Closing. Is the Model...</td>\n",
       "      <td>\\nCompetitor Bootcamps Are Closing. Is the Mod...</td>\n",
       "      <td>competitor bootcamp are close is the model in ...</td>\n",
       "      <td>competitor bootcamps are closing is the model ...</td>\n",
       "      <td>competitor bootcamps closing model danger prog...</td>\n",
       "      <td>Codeup Blog</td>\n",
       "    </tr>\n",
       "  </tbody>\n",
       "</table>\n",
       "</div>"
      ],
      "text/plain": [
       "   Unnamed: 0                                              title  \\\n",
       "0           0  Codeup’s Data Science Career Accelerator is He...   \n",
       "1           1                        Data Science Myths - Codeup   \n",
       "2           2  Data Science VS Data Analytics: What’s The Dif...   \n",
       "3           3  10 Tips to Crush It at the SA Tech Job Fair - ...   \n",
       "4           4  Competitor Bootcamps Are Closing. Is the Model...   \n",
       "\n",
       "                                            original  \\\n",
       "0  \\nThe rumors are true! The time has arrived. C...   \n",
       "1  \\nBy Dimitri Antoniou and Maggie Giust\\nData S...   \n",
       "2  \\nBy Dimitri Antoniou\\nA week ago, Codeup laun...   \n",
       "3  \\n10 Tips to Crush It at the SA Tech Job Fair\\...   \n",
       "4  \\nCompetitor Bootcamps Are Closing. Is the Mod...   \n",
       "\n",
       "                                             stemmed  \\\n",
       "0  the rumor are true the time ha arriv codeup ha...   \n",
       "1  by dimitri antoni and maggi giust data scienc ...   \n",
       "2  by dimitri antoni a week ago codeup launch our...   \n",
       "3  10 tip to crush it at the sa tech job fair sa ...   \n",
       "4  competitor bootcamp are close is the model in ...   \n",
       "\n",
       "                                          lemmatized  \\\n",
       "0  the rumor are true the time ha arrived codeup ...   \n",
       "1  by dimitri antoniou and maggie giust data scie...   \n",
       "2  by dimitri antoniou a week ago codeup launched...   \n",
       "3  10 tip to crush it at the sa tech job fair sa ...   \n",
       "4  competitor bootcamps are closing is the model ...   \n",
       "\n",
       "                                               clean       source  \n",
       "0  rumors true time arrived codeup officially ope...  Codeup Blog  \n",
       "1  dimitri antoniou maggie giust data science big...  Codeup Blog  \n",
       "2  dimitri antoniou week ago codeup launched imme...  Codeup Blog  \n",
       "3  10 tips crush sa tech job fair sa tech job fai...  Codeup Blog  \n",
       "4  competitor bootcamps closing model danger prog...  Codeup Blog  "
      ]
     },
     "execution_count": 65,
     "metadata": {},
     "output_type": "execute_result"
    }
   ],
   "source": [
    "codeup_df.head()"
   ]
  },
  {
   "cell_type": "code",
   "execution_count": 67,
   "metadata": {},
   "outputs": [
    {
     "data": {
      "text/html": [
       "<div>\n",
       "<style scoped>\n",
       "    .dataframe tbody tr th:only-of-type {\n",
       "        vertical-align: middle;\n",
       "    }\n",
       "\n",
       "    .dataframe tbody tr th {\n",
       "        vertical-align: top;\n",
       "    }\n",
       "\n",
       "    .dataframe thead th {\n",
       "        text-align: right;\n",
       "    }\n",
       "</style>\n",
       "<table border=\"1\" class=\"dataframe\">\n",
       "  <thead>\n",
       "    <tr style=\"text-align: right;\">\n",
       "      <th></th>\n",
       "      <th>Unnamed: 0</th>\n",
       "      <th>title</th>\n",
       "      <th>category</th>\n",
       "      <th>author</th>\n",
       "      <th>published_date</th>\n",
       "      <th>original</th>\n",
       "      <th>stemmed</th>\n",
       "      <th>lemmatized</th>\n",
       "      <th>clean</th>\n",
       "      <th>source</th>\n",
       "    </tr>\n",
       "  </thead>\n",
       "  <tbody>\n",
       "    <tr>\n",
       "      <th>0</th>\n",
       "      <td>0</td>\n",
       "      <td>8, 7, 6.6, 5.8, 5 &amp; 4.5 is the state of econom...</td>\n",
       "      <td>business</td>\n",
       "      <td>Pragya Swastik</td>\n",
       "      <td>2019-12-05T10:41:04.000Z</td>\n",
       "      <td>Former Finance Minister P Chidambaram on Thurs...</td>\n",
       "      <td>former financ minist p chidambaram on thursday...</td>\n",
       "      <td>former finance minister p chidambaram on thurs...</td>\n",
       "      <td>former finance minister p chidambaram thursday...</td>\n",
       "      <td>InShorts News</td>\n",
       "    </tr>\n",
       "    <tr>\n",
       "      <th>1</th>\n",
       "      <td>1</td>\n",
       "      <td>Sundar Pichai rejected Google shares worth mil...</td>\n",
       "      <td>business</td>\n",
       "      <td>Kanishka Pandey</td>\n",
       "      <td>2019-12-06T03:32:57.000Z</td>\n",
       "      <td>Google's 47-year-old India-born CEO Sundar Pic...</td>\n",
       "      <td>google' 47yearold indiaborn ceo sundar pichai ...</td>\n",
       "      <td>google's 47yearold indiaborn ceo sundar pichai...</td>\n",
       "      <td>google ' 47yearold indiaborn ceo sundar pichai...</td>\n",
       "      <td>InShorts News</td>\n",
       "    </tr>\n",
       "    <tr>\n",
       "      <th>2</th>\n",
       "      <td>2</td>\n",
       "      <td>We are the same animal, we are both a little c...</td>\n",
       "      <td>business</td>\n",
       "      <td>Krishna Veera Vanamali</td>\n",
       "      <td>2019-12-06T16:27:31.000Z</td>\n",
       "      <td>SoftBank CEO Masayoshi Son has said the decisi...</td>\n",
       "      <td>softbank ceo masayoshi son ha said the decis t...</td>\n",
       "      <td>softbank ceo masayoshi son ha said the decisio...</td>\n",
       "      <td>softbank ceo masayoshi son said decision inves...</td>\n",
       "      <td>InShorts News</td>\n",
       "    </tr>\n",
       "    <tr>\n",
       "      <th>3</th>\n",
       "      <td>3</td>\n",
       "      <td>Gut feeling drove me to invest $20M in Alibaba...</td>\n",
       "      <td>business</td>\n",
       "      <td>Kanishka Pandey</td>\n",
       "      <td>2019-12-06T11:27:06.000Z</td>\n",
       "      <td>SoftBank Founder and CEO Masayoshi Son, in a d...</td>\n",
       "      <td>softbank founder and ceo masayoshi son in a di...</td>\n",
       "      <td>softbank founder and ceo masayoshi son in a di...</td>\n",
       "      <td>softbank founder ceo masayoshi son discussion ...</td>\n",
       "      <td>InShorts News</td>\n",
       "    </tr>\n",
       "    <tr>\n",
       "      <th>4</th>\n",
       "      <td>4</td>\n",
       "      <td>Maharashtra govt suggests merger of PMC Bank w...</td>\n",
       "      <td>business</td>\n",
       "      <td>Krishna Veera Vanamali</td>\n",
       "      <td>2019-12-05T12:42:14.000Z</td>\n",
       "      <td>In a bid to provide relief to depositors of sc...</td>\n",
       "      <td>in a bid to provid relief to depositor of scam...</td>\n",
       "      <td>in a bid to provide relief to depositor of sca...</td>\n",
       "      <td>bid provide relief depositors scamhit punjab m...</td>\n",
       "      <td>InShorts News</td>\n",
       "    </tr>\n",
       "  </tbody>\n",
       "</table>\n",
       "</div>"
      ],
      "text/plain": [
       "   Unnamed: 0                                              title  category  \\\n",
       "0           0  8, 7, 6.6, 5.8, 5 & 4.5 is the state of econom...  business   \n",
       "1           1  Sundar Pichai rejected Google shares worth mil...  business   \n",
       "2           2  We are the same animal, we are both a little c...  business   \n",
       "3           3  Gut feeling drove me to invest $20M in Alibaba...  business   \n",
       "4           4  Maharashtra govt suggests merger of PMC Bank w...  business   \n",
       "\n",
       "                   author            published_date  \\\n",
       "0          Pragya Swastik  2019-12-05T10:41:04.000Z   \n",
       "1         Kanishka Pandey  2019-12-06T03:32:57.000Z   \n",
       "2  Krishna Veera Vanamali  2019-12-06T16:27:31.000Z   \n",
       "3         Kanishka Pandey  2019-12-06T11:27:06.000Z   \n",
       "4  Krishna Veera Vanamali  2019-12-05T12:42:14.000Z   \n",
       "\n",
       "                                            original  \\\n",
       "0  Former Finance Minister P Chidambaram on Thurs...   \n",
       "1  Google's 47-year-old India-born CEO Sundar Pic...   \n",
       "2  SoftBank CEO Masayoshi Son has said the decisi...   \n",
       "3  SoftBank Founder and CEO Masayoshi Son, in a d...   \n",
       "4  In a bid to provide relief to depositors of sc...   \n",
       "\n",
       "                                             stemmed  \\\n",
       "0  former financ minist p chidambaram on thursday...   \n",
       "1  google' 47yearold indiaborn ceo sundar pichai ...   \n",
       "2  softbank ceo masayoshi son ha said the decis t...   \n",
       "3  softbank founder and ceo masayoshi son in a di...   \n",
       "4  in a bid to provid relief to depositor of scam...   \n",
       "\n",
       "                                          lemmatized  \\\n",
       "0  former finance minister p chidambaram on thurs...   \n",
       "1  google's 47yearold indiaborn ceo sundar pichai...   \n",
       "2  softbank ceo masayoshi son ha said the decisio...   \n",
       "3  softbank founder and ceo masayoshi son in a di...   \n",
       "4  in a bid to provide relief to depositor of sca...   \n",
       "\n",
       "                                               clean         source  \n",
       "0  former finance minister p chidambaram thursday...  InShorts News  \n",
       "1  google ' 47yearold indiaborn ceo sundar pichai...  InShorts News  \n",
       "2  softbank ceo masayoshi son said decision inves...  InShorts News  \n",
       "3  softbank founder ceo masayoshi son discussion ...  InShorts News  \n",
       "4  bid provide relief depositors scamhit punjab m...  InShorts News  "
      ]
     },
     "execution_count": 67,
     "metadata": {},
     "output_type": "execute_result"
    }
   ],
   "source": [
    "news_df.head()"
   ]
  },
  {
   "cell_type": "code",
   "execution_count": null,
   "metadata": {},
   "outputs": [],
   "source": []
  }
 ],
 "metadata": {
  "kernelspec": {
   "display_name": "Python 3",
   "language": "python",
   "name": "python3"
  },
  "language_info": {
   "codemirror_mode": {
    "name": "ipython",
    "version": 3
   },
   "file_extension": ".py",
   "mimetype": "text/x-python",
   "name": "python",
   "nbconvert_exporter": "python",
   "pygments_lexer": "ipython3",
   "version": "3.7.3"
  }
 },
 "nbformat": 4,
 "nbformat_minor": 2
}
