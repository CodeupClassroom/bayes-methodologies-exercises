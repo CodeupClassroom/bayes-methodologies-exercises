{
 "cells": [
  {
   "cell_type": "code",
   "execution_count": 1,
   "metadata": {},
   "outputs": [],
   "source": [
    "from __future__ import division\n",
    "import itertools\n",
    "import warnings\n",
    "warnings.filterwarnings(\"ignore\")\n",
    "import matplotlib.pyplot as plt\n",
    "import matplotlib.dates as mdates\n",
    "import numpy as np\n",
    "import pandas as pd\n",
    "import math\n",
    "from sklearn import metrics\n",
    "from random import randint\n",
    "from matplotlib import style\n",
    "import seaborn as sns\n",
    "%matplotlib inline\n",
    "\n",
    "# Import wrangle\n",
    "import wrangle"
   ]
  },
  {
   "cell_type": "code",
   "execution_count": 2,
   "metadata": {},
   "outputs": [],
   "source": [
    "df = wrangle.prep()"
   ]
  },
  {
   "cell_type": "code",
   "execution_count": 3,
   "metadata": {},
   "outputs": [
    {
     "name": "stdout",
     "output_type": "stream",
     "text": [
      "<class 'pandas.core.frame.DataFrame'>\n",
      "DatetimeIndex: 13978 entries, 2019-04-16 19:34:42+00:00 to 2019-04-19 19:42:41+00:00\n",
      "Data columns (total 7 columns):\n",
      "ip                13978 non-null object\n",
      "request_method    13978 non-null object\n",
      "status            13978 non-null int64\n",
      "size              13978 non-null int64\n",
      "destination       25 non-null object\n",
      "request_agent     13978 non-null object\n",
      "size_mb           13978 non-null float64\n",
      "dtypes: float64(1), int64(2), object(4)\n",
      "memory usage: 873.6+ KB\n"
     ]
    }
   ],
   "source": [
    "df.info()"
   ]
  },
  {
   "cell_type": "code",
   "execution_count": 4,
   "metadata": {},
   "outputs": [
    {
     "data": {
      "text/html": [
       "<div>\n",
       "<style scoped>\n",
       "    .dataframe tbody tr th:only-of-type {\n",
       "        vertical-align: middle;\n",
       "    }\n",
       "\n",
       "    .dataframe tbody tr th {\n",
       "        vertical-align: top;\n",
       "    }\n",
       "\n",
       "    .dataframe thead th {\n",
       "        text-align: right;\n",
       "    }\n",
       "</style>\n",
       "<table border=\"1\" class=\"dataframe\">\n",
       "  <thead>\n",
       "    <tr style=\"text-align: right;\">\n",
       "      <th></th>\n",
       "      <th>ip</th>\n",
       "      <th>request_method</th>\n",
       "      <th>status</th>\n",
       "      <th>size</th>\n",
       "      <th>destination</th>\n",
       "      <th>request_agent</th>\n",
       "      <th>size_mb</th>\n",
       "    </tr>\n",
       "    <tr>\n",
       "      <th>timestamp</th>\n",
       "      <th></th>\n",
       "      <th></th>\n",
       "      <th></th>\n",
       "      <th></th>\n",
       "      <th></th>\n",
       "      <th></th>\n",
       "      <th></th>\n",
       "    </tr>\n",
       "  </thead>\n",
       "  <tbody>\n",
       "    <tr>\n",
       "      <td>2019-04-16 19:34:42+00:00</td>\n",
       "      <td>97.105.19.58</td>\n",
       "      <td>GET /api/v1/sales HTTP/1.1</td>\n",
       "      <td>200</td>\n",
       "      <td>512495</td>\n",
       "      <td>NaN</td>\n",
       "      <td>python-requests/2.21.0</td>\n",
       "      <td>0.488753</td>\n",
       "    </tr>\n",
       "    <tr>\n",
       "      <td>2019-04-16 19:34:42+00:00</td>\n",
       "      <td>97.105.19.58</td>\n",
       "      <td>GET /api/v1/items HTTP/1.1</td>\n",
       "      <td>200</td>\n",
       "      <td>3561</td>\n",
       "      <td>NaN</td>\n",
       "      <td>python-requests/2.21.0</td>\n",
       "      <td>0.003396</td>\n",
       "    </tr>\n",
       "    <tr>\n",
       "      <td>2019-04-16 19:34:44+00:00</td>\n",
       "      <td>97.105.19.58</td>\n",
       "      <td>GET /api/v1/sales HTTP/1.1</td>\n",
       "      <td>200</td>\n",
       "      <td>510103</td>\n",
       "      <td>NaN</td>\n",
       "      <td>python-requests/2.21.0</td>\n",
       "      <td>0.486472</td>\n",
       "    </tr>\n",
       "    <tr>\n",
       "      <td>2019-04-16 19:34:46+00:00</td>\n",
       "      <td>97.105.19.58</td>\n",
       "      <td>GET /api/v1/sales HTTP/1.1</td>\n",
       "      <td>200</td>\n",
       "      <td>510003</td>\n",
       "      <td>NaN</td>\n",
       "      <td>python-requests/2.21.0</td>\n",
       "      <td>0.486377</td>\n",
       "    </tr>\n",
       "    <tr>\n",
       "      <td>2019-04-16 19:34:48+00:00</td>\n",
       "      <td>97.105.19.58</td>\n",
       "      <td>GET /api/v1/sales HTTP/1.1</td>\n",
       "      <td>200</td>\n",
       "      <td>511963</td>\n",
       "      <td>NaN</td>\n",
       "      <td>python-requests/2.21.0</td>\n",
       "      <td>0.488246</td>\n",
       "    </tr>\n",
       "  </tbody>\n",
       "</table>\n",
       "</div>"
      ],
      "text/plain": [
       "                                     ip                request_method  status  \\\n",
       "timestamp                                                                       \n",
       "2019-04-16 19:34:42+00:00  97.105.19.58   GET /api/v1/sales HTTP/1.1      200   \n",
       "2019-04-16 19:34:42+00:00  97.105.19.58   GET /api/v1/items HTTP/1.1      200   \n",
       "2019-04-16 19:34:44+00:00  97.105.19.58   GET /api/v1/sales HTTP/1.1      200   \n",
       "2019-04-16 19:34:46+00:00  97.105.19.58   GET /api/v1/sales HTTP/1.1      200   \n",
       "2019-04-16 19:34:48+00:00  97.105.19.58   GET /api/v1/sales HTTP/1.1      200   \n",
       "\n",
       "                             size destination             request_agent  \\\n",
       "timestamp                                                                 \n",
       "2019-04-16 19:34:42+00:00  512495         NaN   python-requests/2.21.0    \n",
       "2019-04-16 19:34:42+00:00    3561         NaN   python-requests/2.21.0    \n",
       "2019-04-16 19:34:44+00:00  510103         NaN   python-requests/2.21.0    \n",
       "2019-04-16 19:34:46+00:00  510003         NaN   python-requests/2.21.0    \n",
       "2019-04-16 19:34:48+00:00  511963         NaN   python-requests/2.21.0    \n",
       "\n",
       "                            size_mb  \n",
       "timestamp                            \n",
       "2019-04-16 19:34:42+00:00  0.488753  \n",
       "2019-04-16 19:34:42+00:00  0.003396  \n",
       "2019-04-16 19:34:44+00:00  0.486472  \n",
       "2019-04-16 19:34:46+00:00  0.486377  \n",
       "2019-04-16 19:34:48+00:00  0.488246  "
      ]
     },
     "execution_count": 4,
     "metadata": {},
     "output_type": "execute_result"
    }
   ],
   "source": [
    "df.head()"
   ]
  },
  {
   "cell_type": "code",
   "execution_count": 5,
   "metadata": {},
   "outputs": [
    {
     "name": "stdout",
     "output_type": "stream",
     "text": [
      "HTTP Status Codes, Frequency Count\n"
     ]
    },
    {
     "data": {
      "text/plain": [
       "200    13960\n",
       "499       16\n",
       "301        2\n",
       "Name: status, dtype: int64"
      ]
     },
     "execution_count": 5,
     "metadata": {},
     "output_type": "execute_result"
    }
   ],
   "source": [
    "print(\"HTTP Status Codes, Frequency Count\")\n",
    "df.status.value_counts()"
   ]
  },
  {
   "cell_type": "code",
   "execution_count": 6,
   "metadata": {},
   "outputs": [
    {
     "data": {
      "text/plain": [
       " python-requests/2.21.0                                                                                                        12001\n",
       " python-requests/2.20.1                                                                                                         1911\n",
       " Mozilla/5.0 (Macintosh; Intel Mac OS X 10_14_4) AppleWebKit/537.36 (KHTML, like Gecko) Chrome/73.0.3683.103 Safari/537.36        34\n",
       " Mozilla/5.0 (Macintosh; Intel Mac OS X 10.14; rv:66.0) Gecko/20100101 Firefox/66.0                                                8\n",
       " Slackbot-LinkExpanding 1.0 (+https://api.slack.com/robots)                                                                        7\n",
       " Slackbot 1.0 (+https://api.slack.com/robots)                                                                                      6\n",
       "python-requests/2.21.0                                                                                                             4\n",
       " Mozilla/5.0 (Macintosh; Intel Mac OS X 10_14_3) AppleWebKit/537.36 (KHTML, like Gecko) Chrome/73.0.3683.103 Safari/537.36         4\n",
       " Mozilla/5.0 (Macintosh; Intel Mac OS X 10_14_3) AppleWebKit/537.36 (KHTML, like Gecko) Chrome/72.0.3626.121 Safari/537.36         2\n",
       " Python-urllib/3.7                                                                                                                 1\n",
       "Name: request_agent, dtype: int64"
      ]
     },
     "execution_count": 6,
     "metadata": {},
     "output_type": "execute_result"
    }
   ],
   "source": [
    "df.request_agent.value_counts()"
   ]
  },
  {
   "cell_type": "markdown",
   "metadata": {},
   "source": [
    "## What do we know so far?\n",
    "- Most of the request go through just fine\n",
    "- The vast majority of requests are coming from python scripts using the python-requests library"
   ]
  },
  {
   "cell_type": "code",
   "execution_count": 7,
   "metadata": {},
   "outputs": [
    {
     "name": "stdout",
     "output_type": "stream",
     "text": [
      "Size in MB, # of Requests\n"
     ]
    },
    {
     "data": {
      "text/plain": [
       "(0.327, 0.654]       12321\n",
       "(-0.00296, 0.327]     1655\n",
       "(1.634, 1.961]           1\n",
       "(0.981, 1.307]           1\n",
       "(1.307, 1.634]           0\n",
       "(0.654, 0.981]           0\n",
       "Name: size_mb, dtype: int64"
      ]
     },
     "execution_count": 7,
     "metadata": {},
     "output_type": "execute_result"
    }
   ],
   "source": [
    "print(\"Size in MB, # of Requests\")\n",
    "df.size_mb.value_counts(bins=6)"
   ]
  },
  {
   "cell_type": "code",
   "execution_count": 8,
   "metadata": {},
   "outputs": [
    {
     "data": {
      "text/html": [
       "<div>\n",
       "<style scoped>\n",
       "    .dataframe tbody tr th:only-of-type {\n",
       "        vertical-align: middle;\n",
       "    }\n",
       "\n",
       "    .dataframe tbody tr th {\n",
       "        vertical-align: top;\n",
       "    }\n",
       "\n",
       "    .dataframe thead tr th {\n",
       "        text-align: left;\n",
       "    }\n",
       "\n",
       "    .dataframe thead tr:last-of-type th {\n",
       "        text-align: right;\n",
       "    }\n",
       "</style>\n",
       "<table border=\"1\" class=\"dataframe\">\n",
       "  <thead>\n",
       "    <tr>\n",
       "      <th></th>\n",
       "      <th>ip</th>\n",
       "      <th>request_method</th>\n",
       "      <th>status</th>\n",
       "      <th>size</th>\n",
       "      <th>destination</th>\n",
       "      <th>request_agent</th>\n",
       "      <th>size_mb</th>\n",
       "    </tr>\n",
       "    <tr>\n",
       "      <th></th>\n",
       "      <th>count</th>\n",
       "      <th>count</th>\n",
       "      <th>count</th>\n",
       "      <th>count</th>\n",
       "      <th>count</th>\n",
       "      <th>count</th>\n",
       "      <th>count</th>\n",
       "    </tr>\n",
       "    <tr>\n",
       "      <th>timestamp</th>\n",
       "      <th></th>\n",
       "      <th></th>\n",
       "      <th></th>\n",
       "      <th></th>\n",
       "      <th></th>\n",
       "      <th></th>\n",
       "      <th></th>\n",
       "    </tr>\n",
       "  </thead>\n",
       "  <tbody>\n",
       "    <tr>\n",
       "      <td>1</td>\n",
       "      <td>11947</td>\n",
       "      <td>11947</td>\n",
       "      <td>11947</td>\n",
       "      <td>11947</td>\n",
       "      <td>22</td>\n",
       "      <td>11947</td>\n",
       "      <td>11947</td>\n",
       "    </tr>\n",
       "    <tr>\n",
       "      <td>2</td>\n",
       "      <td>2028</td>\n",
       "      <td>2028</td>\n",
       "      <td>2028</td>\n",
       "      <td>2028</td>\n",
       "      <td>3</td>\n",
       "      <td>2028</td>\n",
       "      <td>2028</td>\n",
       "    </tr>\n",
       "    <tr>\n",
       "      <td>3</td>\n",
       "      <td>1</td>\n",
       "      <td>1</td>\n",
       "      <td>1</td>\n",
       "      <td>1</td>\n",
       "      <td>0</td>\n",
       "      <td>1</td>\n",
       "      <td>1</td>\n",
       "    </tr>\n",
       "    <tr>\n",
       "      <td>4</td>\n",
       "      <td>1</td>\n",
       "      <td>1</td>\n",
       "      <td>1</td>\n",
       "      <td>1</td>\n",
       "      <td>0</td>\n",
       "      <td>1</td>\n",
       "      <td>1</td>\n",
       "    </tr>\n",
       "    <tr>\n",
       "      <td>6</td>\n",
       "      <td>1</td>\n",
       "      <td>1</td>\n",
       "      <td>1</td>\n",
       "      <td>1</td>\n",
       "      <td>0</td>\n",
       "      <td>1</td>\n",
       "      <td>1</td>\n",
       "    </tr>\n",
       "  </tbody>\n",
       "</table>\n",
       "</div>"
      ],
      "text/plain": [
       "              ip request_method status   size destination request_agent  \\\n",
       "           count          count  count  count       count         count   \n",
       "timestamp                                                                 \n",
       "1          11947          11947  11947  11947          22         11947   \n",
       "2           2028           2028   2028   2028           3          2028   \n",
       "3              1              1      1      1           0             1   \n",
       "4              1              1      1      1           0             1   \n",
       "6              1              1      1      1           0             1   \n",
       "\n",
       "          size_mb  \n",
       "            count  \n",
       "timestamp          \n",
       "1           11947  \n",
       "2            2028  \n",
       "3               1  \n",
       "4               1  \n",
       "6               1  "
      ]
     },
     "execution_count": 8,
     "metadata": {},
     "output_type": "execute_result"
    }
   ],
   "source": [
    "# Looks like the vast majority of requests come in on Tuesday with some on Wednesday\n",
    "df.groupby(df.index.dayofweek).agg([\"count\"])"
   ]
  },
  {
   "cell_type": "markdown",
   "metadata": {},
   "source": [
    "## What else we've learned:\n",
    "- Most requests between 0.327MB and 0.654MB\n",
    "- Most traffic is on Tuesday (84%)\n",
    "- Some traffic on Wednesday (16%)"
   ]
  },
  {
   "cell_type": "code",
   "execution_count": null,
   "metadata": {},
   "outputs": [],
   "source": []
  },
  {
   "cell_type": "code",
   "execution_count": 9,
   "metadata": {},
   "outputs": [],
   "source": [
    "df.request_method = df.request_method.str.strip()\n",
    "df.parts = df.request_method.str.split(\" \")"
   ]
  },
  {
   "cell_type": "code",
   "execution_count": 10,
   "metadata": {},
   "outputs": [],
   "source": [
    "# Determine the http method (expecting GET and/or POST)\n",
    "df[\"http_method\"] = df.parts.apply(lambda x: x[0])"
   ]
  },
  {
   "cell_type": "code",
   "execution_count": 11,
   "metadata": {},
   "outputs": [],
   "source": [
    "# Isolate the request endpoint\n",
    "df[\"endpoints\"] = df.parts.apply(lambda x: x[1])"
   ]
  },
  {
   "cell_type": "code",
   "execution_count": 12,
   "metadata": {},
   "outputs": [
    {
     "data": {
      "text/plain": [
       "/api/v1/sales                      12403\n",
       "/api/v1/items                       1065\n",
       "/api/v1/stores                       229\n",
       "/                                    107\n",
       "/documentation                       100\n",
       "/favicon.ico                          26\n",
       "/api/v1//api/v1/items                 11\n",
       "/api/v1/items/api/v1/items             7\n",
       "/api/v1/items/next_page                5\n",
       "/api/v1/                               4\n",
       "/api/v1/sales/HTTP/1.1                 3\n",
       "/api/v1/itemsitems                     3\n",
       "/api/v1/store                          3\n",
       "/api/v1/sales/                         3\n",
       "/api/v1items                           2\n",
       "/api/V1/HiZach!                        1\n",
       "/api/v1/items&page=0                   1\n",
       "/api/v1/helloclass!                    1\n",
       "/api/v1//api/v1/items/next_page        1\n",
       "/api/v1                                1\n",
       "/api/v1/items/HTTP/1.1                 1\n",
       "/api/v1/I_DIDNT_DO_IT!!!!              1\n",
       "Name: endpoints, dtype: int64"
      ]
     },
     "execution_count": 12,
     "metadata": {},
     "output_type": "execute_result"
    }
   ],
   "source": [
    "df.endpoints.value_counts()"
   ]
  },
  {
   "cell_type": "code",
   "execution_count": null,
   "metadata": {},
   "outputs": [],
   "source": []
  },
  {
   "cell_type": "code",
   "execution_count": null,
   "metadata": {},
   "outputs": [],
   "source": []
  }
 ],
 "metadata": {
  "kernelspec": {
   "display_name": "Python 3",
   "language": "python",
   "name": "python3"
  },
  "language_info": {
   "codemirror_mode": {
    "name": "ipython",
    "version": 3
   },
   "file_extension": ".py",
   "mimetype": "text/x-python",
   "name": "python",
   "nbconvert_exporter": "python",
   "pygments_lexer": "ipython3",
   "version": "3.6.9"
  }
 },
 "nbformat": 4,
 "nbformat_minor": 2
}
