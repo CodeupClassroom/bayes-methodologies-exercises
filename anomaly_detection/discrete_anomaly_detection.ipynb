{
 "cells": [
  {
   "cell_type": "code",
   "execution_count": 2,
   "metadata": {},
   "outputs": [],
   "source": [
    "from __future__ import division\n",
    "import itertools\n",
    "import warnings\n",
    "warnings.filterwarnings(\"ignore\")\n",
    "import matplotlib.pyplot as plt\n",
    "import matplotlib.dates as mdates\n",
    "import numpy as np\n",
    "import pandas as pd\n",
    "import math\n",
    "from sklearn import metrics\n",
    "from random import randint\n",
    "from matplotlib import style\n",
    "import seaborn as sns\n",
    "%matplotlib inline\n",
    "\n",
    "# Import wrangle\n",
    "import wrangle"
   ]
  },
  {
   "cell_type": "code",
   "execution_count": 3,
   "metadata": {},
   "outputs": [],
   "source": [
    "df = wrangle.prep()"
   ]
  },
  {
   "cell_type": "code",
   "execution_count": 4,
   "metadata": {},
   "outputs": [
    {
     "name": "stdout",
     "output_type": "stream",
     "text": [
      "<class 'pandas.core.frame.DataFrame'>\n",
      "DatetimeIndex: 13978 entries, 2019-04-16 19:34:42+00:00 to 2019-04-19 19:42:41+00:00\n",
      "Data columns (total 7 columns):\n",
      "ip                13978 non-null object\n",
      "request_method    13978 non-null object\n",
      "status            13978 non-null int64\n",
      "size              13978 non-null int64\n",
      "destination       25 non-null object\n",
      "request_agent     13978 non-null object\n",
      "size_mb           13978 non-null float64\n",
      "dtypes: float64(1), int64(2), object(4)\n",
      "memory usage: 873.6+ KB\n"
     ]
    }
   ],
   "source": [
    "df.info()"
   ]
  },
  {
   "cell_type": "code",
   "execution_count": 5,
   "metadata": {},
   "outputs": [
    {
     "data": {
      "text/html": [
       "<div>\n",
       "<style scoped>\n",
       "    .dataframe tbody tr th:only-of-type {\n",
       "        vertical-align: middle;\n",
       "    }\n",
       "\n",
       "    .dataframe tbody tr th {\n",
       "        vertical-align: top;\n",
       "    }\n",
       "\n",
       "    .dataframe thead th {\n",
       "        text-align: right;\n",
       "    }\n",
       "</style>\n",
       "<table border=\"1\" class=\"dataframe\">\n",
       "  <thead>\n",
       "    <tr style=\"text-align: right;\">\n",
       "      <th></th>\n",
       "      <th>ip</th>\n",
       "      <th>request_method</th>\n",
       "      <th>status</th>\n",
       "      <th>size</th>\n",
       "      <th>destination</th>\n",
       "      <th>request_agent</th>\n",
       "      <th>size_mb</th>\n",
       "    </tr>\n",
       "    <tr>\n",
       "      <th>timestamp</th>\n",
       "      <th></th>\n",
       "      <th></th>\n",
       "      <th></th>\n",
       "      <th></th>\n",
       "      <th></th>\n",
       "      <th></th>\n",
       "      <th></th>\n",
       "    </tr>\n",
       "  </thead>\n",
       "  <tbody>\n",
       "    <tr>\n",
       "      <th>2019-04-16 19:34:42+00:00</th>\n",
       "      <td>97.105.19.58</td>\n",
       "      <td>GET /api/v1/sales HTTP/1.1</td>\n",
       "      <td>200</td>\n",
       "      <td>512495</td>\n",
       "      <td>NaN</td>\n",
       "      <td>python-requests/2.21.0</td>\n",
       "      <td>0.488753</td>\n",
       "    </tr>\n",
       "    <tr>\n",
       "      <th>2019-04-16 19:34:42+00:00</th>\n",
       "      <td>97.105.19.58</td>\n",
       "      <td>GET /api/v1/items HTTP/1.1</td>\n",
       "      <td>200</td>\n",
       "      <td>3561</td>\n",
       "      <td>NaN</td>\n",
       "      <td>python-requests/2.21.0</td>\n",
       "      <td>0.003396</td>\n",
       "    </tr>\n",
       "    <tr>\n",
       "      <th>2019-04-16 19:34:44+00:00</th>\n",
       "      <td>97.105.19.58</td>\n",
       "      <td>GET /api/v1/sales HTTP/1.1</td>\n",
       "      <td>200</td>\n",
       "      <td>510103</td>\n",
       "      <td>NaN</td>\n",
       "      <td>python-requests/2.21.0</td>\n",
       "      <td>0.486472</td>\n",
       "    </tr>\n",
       "    <tr>\n",
       "      <th>2019-04-16 19:34:46+00:00</th>\n",
       "      <td>97.105.19.58</td>\n",
       "      <td>GET /api/v1/sales HTTP/1.1</td>\n",
       "      <td>200</td>\n",
       "      <td>510003</td>\n",
       "      <td>NaN</td>\n",
       "      <td>python-requests/2.21.0</td>\n",
       "      <td>0.486377</td>\n",
       "    </tr>\n",
       "    <tr>\n",
       "      <th>2019-04-16 19:34:48+00:00</th>\n",
       "      <td>97.105.19.58</td>\n",
       "      <td>GET /api/v1/sales HTTP/1.1</td>\n",
       "      <td>200</td>\n",
       "      <td>511963</td>\n",
       "      <td>NaN</td>\n",
       "      <td>python-requests/2.21.0</td>\n",
       "      <td>0.488246</td>\n",
       "    </tr>\n",
       "  </tbody>\n",
       "</table>\n",
       "</div>"
      ],
      "text/plain": [
       "                                     ip                request_method  status  \\\n",
       "timestamp                                                                       \n",
       "2019-04-16 19:34:42+00:00  97.105.19.58   GET /api/v1/sales HTTP/1.1      200   \n",
       "2019-04-16 19:34:42+00:00  97.105.19.58   GET /api/v1/items HTTP/1.1      200   \n",
       "2019-04-16 19:34:44+00:00  97.105.19.58   GET /api/v1/sales HTTP/1.1      200   \n",
       "2019-04-16 19:34:46+00:00  97.105.19.58   GET /api/v1/sales HTTP/1.1      200   \n",
       "2019-04-16 19:34:48+00:00  97.105.19.58   GET /api/v1/sales HTTP/1.1      200   \n",
       "\n",
       "                             size destination             request_agent  \\\n",
       "timestamp                                                                 \n",
       "2019-04-16 19:34:42+00:00  512495         NaN   python-requests/2.21.0    \n",
       "2019-04-16 19:34:42+00:00    3561         NaN   python-requests/2.21.0    \n",
       "2019-04-16 19:34:44+00:00  510103         NaN   python-requests/2.21.0    \n",
       "2019-04-16 19:34:46+00:00  510003         NaN   python-requests/2.21.0    \n",
       "2019-04-16 19:34:48+00:00  511963         NaN   python-requests/2.21.0    \n",
       "\n",
       "                            size_mb  \n",
       "timestamp                            \n",
       "2019-04-16 19:34:42+00:00  0.488753  \n",
       "2019-04-16 19:34:42+00:00  0.003396  \n",
       "2019-04-16 19:34:44+00:00  0.486472  \n",
       "2019-04-16 19:34:46+00:00  0.486377  \n",
       "2019-04-16 19:34:48+00:00  0.488246  "
      ]
     },
     "execution_count": 5,
     "metadata": {},
     "output_type": "execute_result"
    }
   ],
   "source": [
    "df.head()"
   ]
  },
  {
   "cell_type": "code",
   "execution_count": 6,
   "metadata": {},
   "outputs": [
    {
     "data": {
      "text/plain": [
       "<matplotlib.axes._subplots.AxesSubplot at 0x1a1cb2c400>"
      ]
     },
     "execution_count": 6,
     "metadata": {},
     "output_type": "execute_result"
    },
    {
     "data": {
      "image/png": "[encoded data removed]",
      "text/plain": [
       "<Figure size 432x288 with 1 Axes>"
      ]
     },
     "metadata": {
      "needs_background": "light"
     },
     "output_type": "display_data"
    }
   ],
   "source": [
    "df.status.hist()"
   ]
  },
  {
   "cell_type": "code",
   "execution_count": 7,
   "metadata": {},
   "outputs": [
    {
     "name": "stdout",
     "output_type": "stream",
     "text": [
      "HTTP Status Codes, Frequency Count\n"
     ]
    },
    {
     "data": {
      "text/plain": [
       "200    13960\n",
       "499       16\n",
       "301        2\n",
       "Name: status, dtype: int64"
      ]
     },
     "execution_count": 7,
     "metadata": {},
     "output_type": "execute_result"
    }
   ],
   "source": [
    "print(\"HTTP Status Codes, Frequency Count\")\n",
    "df.status.value_counts()"
   ]
  },
  {
   "cell_type": "code",
   "execution_count": 8,
   "metadata": {},
   "outputs": [
    {
     "data": {
      "text/html": [
       "<div>\n",
       "<style scoped>\n",
       "    .dataframe tbody tr th:only-of-type {\n",
       "        vertical-align: middle;\n",
       "    }\n",
       "\n",
       "    .dataframe tbody tr th {\n",
       "        vertical-align: top;\n",
       "    }\n",
       "\n",
       "    .dataframe thead th {\n",
       "        text-align: right;\n",
       "    }\n",
       "</style>\n",
       "<table border=\"1\" class=\"dataframe\">\n",
       "  <thead>\n",
       "    <tr style=\"text-align: right;\">\n",
       "      <th></th>\n",
       "      <th>ip</th>\n",
       "      <th>request_method</th>\n",
       "      <th>status</th>\n",
       "      <th>size</th>\n",
       "      <th>destination</th>\n",
       "      <th>request_agent</th>\n",
       "      <th>size_mb</th>\n",
       "    </tr>\n",
       "    <tr>\n",
       "      <th>timestamp</th>\n",
       "      <th></th>\n",
       "      <th></th>\n",
       "      <th></th>\n",
       "      <th></th>\n",
       "      <th></th>\n",
       "      <th></th>\n",
       "      <th></th>\n",
       "    </tr>\n",
       "  </thead>\n",
       "  <tbody>\n",
       "    <tr>\n",
       "      <th>2019-04-17 19:36:41+00:00</th>\n",
       "      <td>95.31.16.121</td>\n",
       "      <td>GET /api/v1/sales/HTTP/1.1</td>\n",
       "      <td>301</td>\n",
       "      <td>1005</td>\n",
       "      <td>NaN</td>\n",
       "      <td>python-requests/2.21.0</td>\n",
       "      <td>0.000958</td>\n",
       "    </tr>\n",
       "    <tr>\n",
       "      <th>2019-04-18 19:42:41+00:00</th>\n",
       "      <td>97.105.15.120</td>\n",
       "      <td>GET /api/v1/sales/HTTP/1.1</td>\n",
       "      <td>301</td>\n",
       "      <td>2560</td>\n",
       "      <td>NaN</td>\n",
       "      <td>python-requests/2.21.0</td>\n",
       "      <td>0.002441</td>\n",
       "    </tr>\n",
       "  </tbody>\n",
       "</table>\n",
       "</div>"
      ],
      "text/plain": [
       "                                      ip              request_method  status  \\\n",
       "timestamp                                                                      \n",
       "2019-04-17 19:36:41+00:00   95.31.16.121  GET /api/v1/sales/HTTP/1.1     301   \n",
       "2019-04-18 19:42:41+00:00  97.105.15.120  GET /api/v1/sales/HTTP/1.1     301   \n",
       "\n",
       "                           size destination           request_agent   size_mb  \n",
       "timestamp                                                                      \n",
       "2019-04-17 19:36:41+00:00  1005         NaN  python-requests/2.21.0  0.000958  \n",
       "2019-04-18 19:42:41+00:00  2560         NaN  python-requests/2.21.0  0.002441  "
      ]
     },
     "execution_count": 8,
     "metadata": {},
     "output_type": "execute_result"
    }
   ],
   "source": [
    "df[df.status == 301]"
   ]
  },
  {
   "cell_type": "code",
   "execution_count": 9,
   "metadata": {},
   "outputs": [
    {
     "data": {
      "text/html": [
       "<div>\n",
       "<style scoped>\n",
       "    .dataframe tbody tr th:only-of-type {\n",
       "        vertical-align: middle;\n",
       "    }\n",
       "\n",
       "    .dataframe tbody tr th {\n",
       "        vertical-align: top;\n",
       "    }\n",
       "\n",
       "    .dataframe thead th {\n",
       "        text-align: right;\n",
       "    }\n",
       "</style>\n",
       "<table border=\"1\" class=\"dataframe\">\n",
       "  <thead>\n",
       "    <tr style=\"text-align: right;\">\n",
       "      <th></th>\n",
       "      <th>ip</th>\n",
       "      <th>request_method</th>\n",
       "      <th>status</th>\n",
       "      <th>size</th>\n",
       "      <th>destination</th>\n",
       "      <th>request_agent</th>\n",
       "      <th>size_mb</th>\n",
       "    </tr>\n",
       "    <tr>\n",
       "      <th>timestamp</th>\n",
       "      <th></th>\n",
       "      <th></th>\n",
       "      <th></th>\n",
       "      <th></th>\n",
       "      <th></th>\n",
       "      <th></th>\n",
       "      <th></th>\n",
       "    </tr>\n",
       "  </thead>\n",
       "  <tbody>\n",
       "    <tr>\n",
       "      <th>2019-04-16 19:55:15+00:00</th>\n",
       "      <td>97.105.19.58</td>\n",
       "      <td>GET /api/v1/sales HTTP/1.1</td>\n",
       "      <td>499</td>\n",
       "      <td>0</td>\n",
       "      <td>NaN</td>\n",
       "      <td>python-requests/2.20.1</td>\n",
       "      <td>0.0</td>\n",
       "    </tr>\n",
       "    <tr>\n",
       "      <th>2019-04-16 19:56:02+00:00</th>\n",
       "      <td>97.105.19.58</td>\n",
       "      <td>GET /api/v1/sales HTTP/1.1</td>\n",
       "      <td>499</td>\n",
       "      <td>0</td>\n",
       "      <td>NaN</td>\n",
       "      <td>python-requests/2.20.1</td>\n",
       "      <td>0.0</td>\n",
       "    </tr>\n",
       "    <tr>\n",
       "      <th>2019-04-16 20:28:46+00:00</th>\n",
       "      <td>97.105.19.58</td>\n",
       "      <td>GET /api/v1/sales HTTP/1.1</td>\n",
       "      <td>499</td>\n",
       "      <td>0</td>\n",
       "      <td>NaN</td>\n",
       "      <td>python-requests/2.21.0</td>\n",
       "      <td>0.0</td>\n",
       "    </tr>\n",
       "    <tr>\n",
       "      <th>2019-04-16 20:33:24+00:00</th>\n",
       "      <td>97.105.19.58</td>\n",
       "      <td>GET /api/v1/sales HTTP/1.1</td>\n",
       "      <td>499</td>\n",
       "      <td>0</td>\n",
       "      <td>NaN</td>\n",
       "      <td>python-requests/2.21.0</td>\n",
       "      <td>0.0</td>\n",
       "    </tr>\n",
       "    <tr>\n",
       "      <th>2019-04-16 20:38:13+00:00</th>\n",
       "      <td>97.105.19.58</td>\n",
       "      <td>GET /api/v1/items HTTP/1.1</td>\n",
       "      <td>499</td>\n",
       "      <td>0</td>\n",
       "      <td>NaN</td>\n",
       "      <td>python-requests/2.21.0</td>\n",
       "      <td>0.0</td>\n",
       "    </tr>\n",
       "    <tr>\n",
       "      <th>2019-04-16 20:38:55+00:00</th>\n",
       "      <td>97.105.19.58</td>\n",
       "      <td>GET /api/v1/items HTTP/1.1</td>\n",
       "      <td>499</td>\n",
       "      <td>0</td>\n",
       "      <td>NaN</td>\n",
       "      <td>python-requests/2.21.0</td>\n",
       "      <td>0.0</td>\n",
       "    </tr>\n",
       "    <tr>\n",
       "      <th>2019-04-16 20:39:00+00:00</th>\n",
       "      <td>97.105.19.58</td>\n",
       "      <td>GET /api/v1/items HTTP/1.1</td>\n",
       "      <td>499</td>\n",
       "      <td>0</td>\n",
       "      <td>NaN</td>\n",
       "      <td>python-requests/2.21.0</td>\n",
       "      <td>0.0</td>\n",
       "    </tr>\n",
       "    <tr>\n",
       "      <th>2019-04-16 20:45:17+00:00</th>\n",
       "      <td>97.105.19.58</td>\n",
       "      <td>GET /api/v1/items HTTP/1.1</td>\n",
       "      <td>499</td>\n",
       "      <td>0</td>\n",
       "      <td>NaN</td>\n",
       "      <td>python-requests/2.21.0</td>\n",
       "      <td>0.0</td>\n",
       "    </tr>\n",
       "    <tr>\n",
       "      <th>2019-04-16 20:45:28+00:00</th>\n",
       "      <td>97.105.19.58</td>\n",
       "      <td>GET /api/v1/sales HTTP/1.1</td>\n",
       "      <td>499</td>\n",
       "      <td>0</td>\n",
       "      <td>NaN</td>\n",
       "      <td>python-requests/2.21.0</td>\n",
       "      <td>0.0</td>\n",
       "    </tr>\n",
       "    <tr>\n",
       "      <th>2019-04-16 21:00:35+00:00</th>\n",
       "      <td>97.105.19.58</td>\n",
       "      <td>GET /api/v1/sales HTTP/1.1</td>\n",
       "      <td>499</td>\n",
       "      <td>0</td>\n",
       "      <td>NaN</td>\n",
       "      <td>python-requests/2.20.1</td>\n",
       "      <td>0.0</td>\n",
       "    </tr>\n",
       "    <tr>\n",
       "      <th>2019-04-16 21:02:07+00:00</th>\n",
       "      <td>97.105.19.58</td>\n",
       "      <td>GET /api/v1/sales HTTP/1.1</td>\n",
       "      <td>499</td>\n",
       "      <td>0</td>\n",
       "      <td>NaN</td>\n",
       "      <td>python-requests/2.20.1</td>\n",
       "      <td>0.0</td>\n",
       "    </tr>\n",
       "    <tr>\n",
       "      <th>2019-04-16 21:30:46+00:00</th>\n",
       "      <td>97.105.19.58</td>\n",
       "      <td>GET /api/v1/sales HTTP/1.1</td>\n",
       "      <td>499</td>\n",
       "      <td>0</td>\n",
       "      <td>NaN</td>\n",
       "      <td>python-requests/2.21.0</td>\n",
       "      <td>0.0</td>\n",
       "    </tr>\n",
       "    <tr>\n",
       "      <th>2019-04-16 21:39:21+00:00</th>\n",
       "      <td>97.105.19.58</td>\n",
       "      <td>GET /api/v1/sales HTTP/1.1</td>\n",
       "      <td>499</td>\n",
       "      <td>0</td>\n",
       "      <td>NaN</td>\n",
       "      <td>python-requests/2.21.0</td>\n",
       "      <td>0.0</td>\n",
       "    </tr>\n",
       "    <tr>\n",
       "      <th>2019-04-16 22:21:38+00:00</th>\n",
       "      <td>97.105.19.58</td>\n",
       "      <td>GET /api/v1/sales HTTP/1.1</td>\n",
       "      <td>499</td>\n",
       "      <td>0</td>\n",
       "      <td>NaN</td>\n",
       "      <td>python-requests/2.21.0</td>\n",
       "      <td>0.0</td>\n",
       "    </tr>\n",
       "    <tr>\n",
       "      <th>2019-04-17 02:48:36+00:00</th>\n",
       "      <td>72.181.113.170</td>\n",
       "      <td>GET /api/v1/sales HTTP/1.1</td>\n",
       "      <td>499</td>\n",
       "      <td>0</td>\n",
       "      <td>NaN</td>\n",
       "      <td>python-requests/2.21.0</td>\n",
       "      <td>0.0</td>\n",
       "    </tr>\n",
       "    <tr>\n",
       "      <th>2019-04-17 03:42:44+00:00</th>\n",
       "      <td>72.181.113.170</td>\n",
       "      <td>GET /api/v1/sales HTTP/1.1</td>\n",
       "      <td>499</td>\n",
       "      <td>0</td>\n",
       "      <td>NaN</td>\n",
       "      <td>python-requests/2.21.0</td>\n",
       "      <td>0.0</td>\n",
       "    </tr>\n",
       "  </tbody>\n",
       "</table>\n",
       "</div>"
      ],
      "text/plain": [
       "                                       ip                request_method  \\\n",
       "timestamp                                                                 \n",
       "2019-04-16 19:55:15+00:00    97.105.19.58   GET /api/v1/sales HTTP/1.1    \n",
       "2019-04-16 19:56:02+00:00    97.105.19.58   GET /api/v1/sales HTTP/1.1    \n",
       "2019-04-16 20:28:46+00:00    97.105.19.58   GET /api/v1/sales HTTP/1.1    \n",
       "2019-04-16 20:33:24+00:00    97.105.19.58   GET /api/v1/sales HTTP/1.1    \n",
       "2019-04-16 20:38:13+00:00    97.105.19.58   GET /api/v1/items HTTP/1.1    \n",
       "2019-04-16 20:38:55+00:00    97.105.19.58   GET /api/v1/items HTTP/1.1    \n",
       "2019-04-16 20:39:00+00:00    97.105.19.58   GET /api/v1/items HTTP/1.1    \n",
       "2019-04-16 20:45:17+00:00    97.105.19.58   GET /api/v1/items HTTP/1.1    \n",
       "2019-04-16 20:45:28+00:00    97.105.19.58   GET /api/v1/sales HTTP/1.1    \n",
       "2019-04-16 21:00:35+00:00    97.105.19.58   GET /api/v1/sales HTTP/1.1    \n",
       "2019-04-16 21:02:07+00:00    97.105.19.58   GET /api/v1/sales HTTP/1.1    \n",
       "2019-04-16 21:30:46+00:00    97.105.19.58   GET /api/v1/sales HTTP/1.1    \n",
       "2019-04-16 21:39:21+00:00    97.105.19.58   GET /api/v1/sales HTTP/1.1    \n",
       "2019-04-16 22:21:38+00:00    97.105.19.58   GET /api/v1/sales HTTP/1.1    \n",
       "2019-04-17 02:48:36+00:00  72.181.113.170   GET /api/v1/sales HTTP/1.1    \n",
       "2019-04-17 03:42:44+00:00  72.181.113.170   GET /api/v1/sales HTTP/1.1    \n",
       "\n",
       "                           status  size destination             request_agent  \\\n",
       "timestamp                                                                       \n",
       "2019-04-16 19:55:15+00:00     499     0         NaN   python-requests/2.20.1    \n",
       "2019-04-16 19:56:02+00:00     499     0         NaN   python-requests/2.20.1    \n",
       "2019-04-16 20:28:46+00:00     499     0         NaN   python-requests/2.21.0    \n",
       "2019-04-16 20:33:24+00:00     499     0         NaN   python-requests/2.21.0    \n",
       "2019-04-16 20:38:13+00:00     499     0         NaN   python-requests/2.21.0    \n",
       "2019-04-16 20:38:55+00:00     499     0         NaN   python-requests/2.21.0    \n",
       "2019-04-16 20:39:00+00:00     499     0         NaN   python-requests/2.21.0    \n",
       "2019-04-16 20:45:17+00:00     499     0         NaN   python-requests/2.21.0    \n",
       "2019-04-16 20:45:28+00:00     499     0         NaN   python-requests/2.21.0    \n",
       "2019-04-16 21:00:35+00:00     499     0         NaN   python-requests/2.20.1    \n",
       "2019-04-16 21:02:07+00:00     499     0         NaN   python-requests/2.20.1    \n",
       "2019-04-16 21:30:46+00:00     499     0         NaN   python-requests/2.21.0    \n",
       "2019-04-16 21:39:21+00:00     499     0         NaN   python-requests/2.21.0    \n",
       "2019-04-16 22:21:38+00:00     499     0         NaN   python-requests/2.21.0    \n",
       "2019-04-17 02:48:36+00:00     499     0         NaN   python-requests/2.21.0    \n",
       "2019-04-17 03:42:44+00:00     499     0         NaN   python-requests/2.21.0    \n",
       "\n",
       "                           size_mb  \n",
       "timestamp                           \n",
       "2019-04-16 19:55:15+00:00      0.0  \n",
       "2019-04-16 19:56:02+00:00      0.0  \n",
       "2019-04-16 20:28:46+00:00      0.0  \n",
       "2019-04-16 20:33:24+00:00      0.0  \n",
       "2019-04-16 20:38:13+00:00      0.0  \n",
       "2019-04-16 20:38:55+00:00      0.0  \n",
       "2019-04-16 20:39:00+00:00      0.0  \n",
       "2019-04-16 20:45:17+00:00      0.0  \n",
       "2019-04-16 20:45:28+00:00      0.0  \n",
       "2019-04-16 21:00:35+00:00      0.0  \n",
       "2019-04-16 21:02:07+00:00      0.0  \n",
       "2019-04-16 21:30:46+00:00      0.0  \n",
       "2019-04-16 21:39:21+00:00      0.0  \n",
       "2019-04-16 22:21:38+00:00      0.0  \n",
       "2019-04-17 02:48:36+00:00      0.0  \n",
       "2019-04-17 03:42:44+00:00      0.0  "
      ]
     },
     "execution_count": 9,
     "metadata": {},
     "output_type": "execute_result"
    }
   ],
   "source": [
    "df[df.status == 499]"
   ]
  },
  {
   "cell_type": "code",
   "execution_count": 11,
   "metadata": {},
   "outputs": [],
   "source": [
    "df.request_agent = df.request_agent.str.strip()"
   ]
  },
  {
   "cell_type": "code",
   "execution_count": 12,
   "metadata": {},
   "outputs": [
    {
     "data": {
      "text/plain": [
       "python-requests/2.21.0                                                                                                       12005\n",
       "python-requests/2.20.1                                                                                                        1911\n",
       "Mozilla/5.0 (Macintosh; Intel Mac OS X 10_14_4) AppleWebKit/537.36 (KHTML, like Gecko) Chrome/73.0.3683.103 Safari/537.36       34\n",
       "Mozilla/5.0 (Macintosh; Intel Mac OS X 10.14; rv:66.0) Gecko/20100101 Firefox/66.0                                               8\n",
       "Slackbot-LinkExpanding 1.0 (+https://api.slack.com/robots)                                                                       7\n",
       "Slackbot 1.0 (+https://api.slack.com/robots)                                                                                     6\n",
       "Mozilla/5.0 (Macintosh; Intel Mac OS X 10_14_3) AppleWebKit/537.36 (KHTML, like Gecko) Chrome/73.0.3683.103 Safari/537.36        4\n",
       "Mozilla/5.0 (Macintosh; Intel Mac OS X 10_14_3) AppleWebKit/537.36 (KHTML, like Gecko) Chrome/72.0.3626.121 Safari/537.36        2\n",
       "Python-urllib/3.7                                                                                                                1\n",
       "Name: request_agent, dtype: int64"
      ]
     },
     "execution_count": 12,
     "metadata": {},
     "output_type": "execute_result"
    }
   ],
   "source": [
    "df.request_agent.value_counts()"
   ]
  },
  {
   "cell_type": "markdown",
   "metadata": {},
   "source": [
    "## What do we know so far?\n",
    "- Most of the request go through just fine\n",
    "- The vast majority of requests are coming from python scripts using the python-requests library"
   ]
  },
  {
   "cell_type": "code",
   "execution_count": 18,
   "metadata": {},
   "outputs": [
    {
     "name": "stdout",
     "output_type": "stream",
     "text": [
      "Size in MB, # of Requests\n"
     ]
    },
    {
     "data": {
      "text/plain": [
       "(0.392, 0.784]       12318\n",
       "(-0.00296, 0.392]     1658\n",
       "(1.569, 1.961]           1\n",
       "(0.784, 1.177]           1\n",
       "(1.177, 1.569]           0\n",
       "Name: size_mb, dtype: int64"
      ]
     },
     "execution_count": 18,
     "metadata": {},
     "output_type": "execute_result"
    }
   ],
   "source": [
    "print(\"Size in MB, # of Requests\")\n",
    "df.size_mb.value_counts(bins=5)"
   ]
  },
  {
   "cell_type": "code",
   "execution_count": 25,
   "metadata": {},
   "outputs": [
    {
     "data": {
      "text/plain": [
       "(2019-04-16 19:28:04.320999935, 2019-04-17 06:37:29.900000]    13903\n",
       "(2019-04-17 06:37:29.900000, 2019-04-17 17:40:17.800000]          71\n",
       "(2019-04-17 17:40:17.800000, 2019-04-18 04:43:05.700000]           1\n",
       "(2019-04-18 04:43:05.700000, 2019-04-18 15:45:53.600000]           0\n",
       "(2019-04-18 15:45:53.600000, 2019-04-19 02:48:41.500000]           1\n",
       "(2019-04-19 02:48:41.500000, 2019-04-19 13:51:29.400000]           0\n",
       "(2019-04-19 13:51:29.400000, 2019-04-20 00:54:17.300000]           1\n",
       "(2019-04-20 00:54:17.300000, 2019-04-20 11:57:05.200000]           0\n",
       "(2019-04-20 11:57:05.200000, 2019-04-20 22:59:53.100000]           0\n",
       "(2019-04-20 22:59:53.100000, 2019-04-21 10:02:41]                  1\n",
       "Name: timestamp, dtype: int64"
      ]
     },
     "execution_count": 25,
     "metadata": {},
     "output_type": "execute_result"
    }
   ],
   "source": [
    "# What's the range of dates we're looking at:\n",
    "df.index.value_counts(sort=False, bins=10)"
   ]
  },
  {
   "cell_type": "code",
   "execution_count": 8,
   "metadata": {},
   "outputs": [
    {
     "data": {
      "text/html": [
       "<div>\n",
       "<style scoped>\n",
       "    .dataframe tbody tr th:only-of-type {\n",
       "        vertical-align: middle;\n",
       "    }\n",
       "\n",
       "    .dataframe tbody tr th {\n",
       "        vertical-align: top;\n",
       "    }\n",
       "\n",
       "    .dataframe thead tr th {\n",
       "        text-align: left;\n",
       "    }\n",
       "\n",
       "    .dataframe thead tr:last-of-type th {\n",
       "        text-align: right;\n",
       "    }\n",
       "</style>\n",
       "<table border=\"1\" class=\"dataframe\">\n",
       "  <thead>\n",
       "    <tr>\n",
       "      <th></th>\n",
       "      <th>ip</th>\n",
       "      <th>request_method</th>\n",
       "      <th>status</th>\n",
       "      <th>size</th>\n",
       "      <th>destination</th>\n",
       "      <th>request_agent</th>\n",
       "      <th>size_mb</th>\n",
       "    </tr>\n",
       "    <tr>\n",
       "      <th></th>\n",
       "      <th>count</th>\n",
       "      <th>count</th>\n",
       "      <th>count</th>\n",
       "      <th>count</th>\n",
       "      <th>count</th>\n",
       "      <th>count</th>\n",
       "      <th>count</th>\n",
       "    </tr>\n",
       "    <tr>\n",
       "      <th>timestamp</th>\n",
       "      <th></th>\n",
       "      <th></th>\n",
       "      <th></th>\n",
       "      <th></th>\n",
       "      <th></th>\n",
       "      <th></th>\n",
       "      <th></th>\n",
       "    </tr>\n",
       "  </thead>\n",
       "  <tbody>\n",
       "    <tr>\n",
       "      <td>1</td>\n",
       "      <td>11947</td>\n",
       "      <td>11947</td>\n",
       "      <td>11947</td>\n",
       "      <td>11947</td>\n",
       "      <td>22</td>\n",
       "      <td>11947</td>\n",
       "      <td>11947</td>\n",
       "    </tr>\n",
       "    <tr>\n",
       "      <td>2</td>\n",
       "      <td>2028</td>\n",
       "      <td>2028</td>\n",
       "      <td>2028</td>\n",
       "      <td>2028</td>\n",
       "      <td>3</td>\n",
       "      <td>2028</td>\n",
       "      <td>2028</td>\n",
       "    </tr>\n",
       "    <tr>\n",
       "      <td>3</td>\n",
       "      <td>1</td>\n",
       "      <td>1</td>\n",
       "      <td>1</td>\n",
       "      <td>1</td>\n",
       "      <td>0</td>\n",
       "      <td>1</td>\n",
       "      <td>1</td>\n",
       "    </tr>\n",
       "    <tr>\n",
       "      <td>4</td>\n",
       "      <td>1</td>\n",
       "      <td>1</td>\n",
       "      <td>1</td>\n",
       "      <td>1</td>\n",
       "      <td>0</td>\n",
       "      <td>1</td>\n",
       "      <td>1</td>\n",
       "    </tr>\n",
       "    <tr>\n",
       "      <td>6</td>\n",
       "      <td>1</td>\n",
       "      <td>1</td>\n",
       "      <td>1</td>\n",
       "      <td>1</td>\n",
       "      <td>0</td>\n",
       "      <td>1</td>\n",
       "      <td>1</td>\n",
       "    </tr>\n",
       "  </tbody>\n",
       "</table>\n",
       "</div>"
      ],
      "text/plain": [
       "              ip request_method status   size destination request_agent  \\\n",
       "           count          count  count  count       count         count   \n",
       "timestamp                                                                 \n",
       "1          11947          11947  11947  11947          22         11947   \n",
       "2           2028           2028   2028   2028           3          2028   \n",
       "3              1              1      1      1           0             1   \n",
       "4              1              1      1      1           0             1   \n",
       "6              1              1      1      1           0             1   \n",
       "\n",
       "          size_mb  \n",
       "            count  \n",
       "timestamp          \n",
       "1           11947  \n",
       "2            2028  \n",
       "3               1  \n",
       "4               1  \n",
       "6               1  "
      ]
     },
     "execution_count": 8,
     "metadata": {},
     "output_type": "execute_result"
    }
   ],
   "source": [
    "# Looks like the vast majority of requests come in on Tuesday with some on Wednesday\n",
    "df.groupby(df.index.dayofweek).agg([\"count\"])"
   ]
  },
  {
   "cell_type": "markdown",
   "metadata": {},
   "source": [
    "## What else we've learned:\n",
    "- Most requests between 0.327MB and 0.654MB\n",
    "- Dataset doesn't include any Monday traffic\n",
    "- Most traffic is on Tuesday (84%)\n",
    "- Some traffic on Wednesday (16%)"
   ]
  },
  {
   "cell_type": "code",
   "execution_count": 26,
   "metadata": {},
   "outputs": [
    {
     "data": {
      "text/plain": [
       "timestamp\n",
       "2019-04-16 19:34:42+00:00     GET /api/v1/sales HTTP/1.1 \n",
       "2019-04-16 19:34:42+00:00     GET /api/v1/items HTTP/1.1 \n",
       "2019-04-16 19:34:44+00:00     GET /api/v1/sales HTTP/1.1 \n",
       "2019-04-16 19:34:46+00:00     GET /api/v1/sales HTTP/1.1 \n",
       "2019-04-16 19:34:48+00:00     GET /api/v1/sales HTTP/1.1 \n",
       "                                         ...             \n",
       "2019-04-17 12:55:14+00:00     GET /api/v1/sales HTTP/1.1 \n",
       "2019-04-21 10:02:41+00:00      GET /api/v1/items/HTTP/1.1\n",
       "2019-04-17 19:36:41+00:00      GET /api/v1/sales/HTTP/1.1\n",
       "2019-04-18 19:42:41+00:00      GET /api/v1/sales/HTTP/1.1\n",
       "2019-04-19 19:42:41+00:00      GET /api/v1/sales/HTTP/1.1\n",
       "Name: request_method, Length: 13978, dtype: object"
      ]
     },
     "execution_count": 26,
     "metadata": {},
     "output_type": "execute_result"
    }
   ],
   "source": [
    "df.request_method"
   ]
  },
  {
   "cell_type": "code",
   "execution_count": 28,
   "metadata": {},
   "outputs": [
    {
     "data": {
      "text/plain": [
       "timestamp\n",
       "2019-04-16 19:34:42+00:00    GET /api/v1/sales HTTP/1.1\n",
       "2019-04-16 19:34:42+00:00    GET /api/v1/items HTTP/1.1\n",
       "2019-04-16 19:34:44+00:00    GET /api/v1/sales HTTP/1.1\n",
       "2019-04-16 19:34:46+00:00    GET /api/v1/sales HTTP/1.1\n",
       "2019-04-16 19:34:48+00:00    GET /api/v1/sales HTTP/1.1\n",
       "                                        ...            \n",
       "2019-04-17 12:55:14+00:00    GET /api/v1/sales HTTP/1.1\n",
       "2019-04-21 10:02:41+00:00    GET /api/v1/items/HTTP/1.1\n",
       "2019-04-17 19:36:41+00:00    GET /api/v1/sales/HTTP/1.1\n",
       "2019-04-18 19:42:41+00:00    GET /api/v1/sales/HTTP/1.1\n",
       "2019-04-19 19:42:41+00:00    GET /api/v1/sales/HTTP/1.1\n",
       "Name: request_method, Length: 13978, dtype: object"
      ]
     },
     "execution_count": 28,
     "metadata": {},
     "output_type": "execute_result"
    }
   ],
   "source": [
    "df.request_method = df.request_method.str.strip()\n",
    "df.request_method"
   ]
  },
  {
   "cell_type": "code",
   "execution_count": 30,
   "metadata": {},
   "outputs": [
    {
     "data": {
      "text/plain": [
       "timestamp\n",
       "2019-04-16 19:34:42+00:00    [GET, /api/v1/sales, HTTP/1.1]\n",
       "2019-04-16 19:34:42+00:00    [GET, /api/v1/items, HTTP/1.1]\n",
       "2019-04-16 19:34:44+00:00    [GET, /api/v1/sales, HTTP/1.1]\n",
       "2019-04-16 19:34:46+00:00    [GET, /api/v1/sales, HTTP/1.1]\n",
       "2019-04-16 19:34:48+00:00    [GET, /api/v1/sales, HTTP/1.1]\n",
       "                                          ...              \n",
       "2019-04-17 12:55:14+00:00    [GET, /api/v1/sales, HTTP/1.1]\n",
       "2019-04-21 10:02:41+00:00     [GET, /api/v1/items/HTTP/1.1]\n",
       "2019-04-17 19:36:41+00:00     [GET, /api/v1/sales/HTTP/1.1]\n",
       "2019-04-18 19:42:41+00:00     [GET, /api/v1/sales/HTTP/1.1]\n",
       "2019-04-19 19:42:41+00:00     [GET, /api/v1/sales/HTTP/1.1]\n",
       "Name: request_method, Length: 13978, dtype: object"
      ]
     },
     "execution_count": 30,
     "metadata": {},
     "output_type": "execute_result"
    }
   ],
   "source": [
    "df.parts = df.request_method.str.split(\" \")\n",
    "df.parts"
   ]
  },
  {
   "cell_type": "code",
   "execution_count": 32,
   "metadata": {},
   "outputs": [],
   "source": [
    "def get_first(some_list):\n",
    "    return some_list[0]"
   ]
  },
  {
   "cell_type": "code",
   "execution_count": 33,
   "metadata": {},
   "outputs": [],
   "source": [
    "# Determine the http method (expecting GET and/or POST)\n",
    "# df[\"http_method\"] = df.parts.apply(lambda x: x[0])\n",
    "df[\"http_method\"] = df.parts.apply(get_first)"
   ]
  },
  {
   "cell_type": "code",
   "execution_count": 35,
   "metadata": {},
   "outputs": [
    {
     "data": {
      "text/plain": [
       "GET    13978\n",
       "Name: http_method, dtype: int64"
      ]
     },
     "execution_count": 35,
     "metadata": {},
     "output_type": "execute_result"
    }
   ],
   "source": [
    "df.http_method.value_counts()"
   ]
  },
  {
   "cell_type": "code",
   "execution_count": null,
   "metadata": {},
   "outputs": [],
   "source": []
  },
  {
   "cell_type": "code",
   "execution_count": null,
   "metadata": {},
   "outputs": [],
   "source": []
  },
  {
   "cell_type": "code",
   "execution_count": 36,
   "metadata": {},
   "outputs": [],
   "source": [
    "# Isolate the request endpoint\n",
    "df[\"endpoints\"] = df.parts.apply(lambda x: x[1])"
   ]
  },
  {
   "cell_type": "code",
   "execution_count": 37,
   "metadata": {},
   "outputs": [
    {
     "data": {
      "text/plain": [
       "/api/v1/sales                      12403\n",
       "/api/v1/items                       1065\n",
       "/api/v1/stores                       229\n",
       "/                                    107\n",
       "/documentation                       100\n",
       "/favicon.ico                          26\n",
       "/api/v1//api/v1/items                 11\n",
       "/api/v1/items/api/v1/items             7\n",
       "/api/v1/items/next_page                5\n",
       "/api/v1/                               4\n",
       "/api/v1/sales/HTTP/1.1                 3\n",
       "/api/v1/sales/                         3\n",
       "/api/v1/itemsitems                     3\n",
       "/api/v1/store                          3\n",
       "/api/v1items                           2\n",
       "/api/v1/helloclass!                    1\n",
       "/api/V1/HiZach!                        1\n",
       "/api/v1/I_DIDNT_DO_IT!!!!              1\n",
       "/api/v1/items&page=0                   1\n",
       "/api/v1//api/v1/items/next_page        1\n",
       "/api/v1                                1\n",
       "/api/v1/items/HTTP/1.1                 1\n",
       "Name: endpoints, dtype: int64"
      ]
     },
     "execution_count": 37,
     "metadata": {},
     "output_type": "execute_result"
    }
   ],
   "source": [
    "df.endpoints.value_counts()"
   ]
  },
  {
   "cell_type": "code",
   "execution_count": null,
   "metadata": {},
   "outputs": [],
   "source": []
  },
  {
   "cell_type": "code",
   "execution_count": null,
   "metadata": {},
   "outputs": [],
   "source": []
  }
 ],
 "metadata": {
  "kernelspec": {
   "display_name": "Python 3",
   "language": "python",
   "name": "python3"
  },
  "language_info": {
   "codemirror_mode": {
    "name": "ipython",
    "version": 3
   },
   "file_extension": ".py",
   "mimetype": "text/x-python",
   "name": "python",
   "nbconvert_exporter": "python",
   "pygments_lexer": "ipython3",
   "version": "3.7.3"
  }
 },
 "nbformat": 4,
 "nbformat_minor": 2
}
