{
 "cells": [
  {
   "cell_type": "markdown",
   "metadata": {},
   "source": [
    "### create a notebook named model.ipynb.\n",
    "\n"
   ]
  },
  {
   "cell_type": "markdown",
   "metadata": {},
   "source": [
    "### 1)run all your previous scripts that acquired, prepared, split, and scaled your data."
   ]
  },
  {
   "cell_type": "code",
   "execution_count": 57,
   "metadata": {},
   "outputs": [],
   "source": [
    "import pandas as pd\n",
    "import numpy as np\n",
    "import matplotlib.pyplot as plt\n",
    "import seaborn as sns\n",
    "from sklearn.model_selection import train_test_split\n",
    "from sklearn.metrics import mean_squared_error,r2_score,explained_variance_score\n",
    "from sklearn.preprocessing import StandardScaler,MinMaxScaler\n",
    "from sklearn.linear_model import LinearRegression\n",
    "from math import sqrt\n",
    "import warnings\n",
    "warnings.filterwarnings(\"ignore\")\n",
    "import statsmodels.api as sm\n",
    "from statsmodels.sandbox.regression.predstd import wls_prediction_std\n",
    "\n",
    "#import our scripts that do data science workflow\n",
    "import wrangle\n",
    "import split_scale_telco\n",
    "import evaluate\n",
    "import features"
   ]
  },
  {
   "cell_type": "code",
   "execution_count": 2,
   "metadata": {},
   "outputs": [
    {
     "data": {
      "text/html": [
       "<div>\n",
       "<style scoped>\n",
       "    .dataframe tbody tr th:only-of-type {\n",
       "        vertical-align: middle;\n",
       "    }\n",
       "\n",
       "    .dataframe tbody tr th {\n",
       "        vertical-align: top;\n",
       "    }\n",
       "\n",
       "    .dataframe thead th {\n",
       "        text-align: right;\n",
       "    }\n",
       "</style>\n",
       "<table border=\"1\" class=\"dataframe\">\n",
       "  <thead>\n",
       "    <tr style=\"text-align: right;\">\n",
       "      <th></th>\n",
       "      <th>customer_id</th>\n",
       "      <th>total_charges</th>\n",
       "      <th>monthly_charges</th>\n",
       "      <th>tenure</th>\n",
       "    </tr>\n",
       "  </thead>\n",
       "  <tbody>\n",
       "    <tr>\n",
       "      <th>0</th>\n",
       "      <td>0016-QLJIS</td>\n",
       "      <td>5957.90</td>\n",
       "      <td>90.45</td>\n",
       "      <td>65</td>\n",
       "    </tr>\n",
       "    <tr>\n",
       "      <th>1</th>\n",
       "      <td>0017-DINOC</td>\n",
       "      <td>2460.55</td>\n",
       "      <td>45.20</td>\n",
       "      <td>54</td>\n",
       "    </tr>\n",
       "    <tr>\n",
       "      <th>2</th>\n",
       "      <td>0019-GFNTW</td>\n",
       "      <td>2560.10</td>\n",
       "      <td>45.05</td>\n",
       "      <td>56</td>\n",
       "    </tr>\n",
       "    <tr>\n",
       "      <th>3</th>\n",
       "      <td>0056-EPFBG</td>\n",
       "      <td>825.40</td>\n",
       "      <td>39.40</td>\n",
       "      <td>20</td>\n",
       "    </tr>\n",
       "    <tr>\n",
       "      <th>4</th>\n",
       "      <td>0078-XZMHT</td>\n",
       "      <td>6316.20</td>\n",
       "      <td>85.15</td>\n",
       "      <td>72</td>\n",
       "    </tr>\n",
       "  </tbody>\n",
       "</table>\n",
       "</div>"
      ],
      "text/plain": [
       "  customer_id  total_charges  monthly_charges  tenure\n",
       "0  0016-QLJIS        5957.90            90.45      65\n",
       "1  0017-DINOC        2460.55            45.20      54\n",
       "2  0019-GFNTW        2560.10            45.05      56\n",
       "3  0056-EPFBG         825.40            39.40      20\n",
       "4  0078-XZMHT        6316.20            85.15      72"
      ]
     },
     "execution_count": 2,
     "metadata": {},
     "output_type": "execute_result"
    }
   ],
   "source": [
    "df=wrangle.wrangle_telco()\n",
    "df.head()"
   ]
  },
  {
   "cell_type": "code",
   "execution_count": 3,
   "metadata": {},
   "outputs": [],
   "source": [
    "train,test=split_scale_telco.split_my_data(df)"
   ]
  },
  {
   "cell_type": "code",
   "execution_count": 4,
   "metadata": {},
   "outputs": [],
   "source": [
    "scaler, train_scaled, test_scaled=split_scale_telco.standard_scaler(train.drop(columns=['customer_id','total_charges']),test.drop(columns=['customer_id','total_charges']))"
   ]
  },
  {
   "cell_type": "code",
   "execution_count": 5,
   "metadata": {},
   "outputs": [
    {
     "name": "stdout",
     "output_type": "stream",
     "text": [
      "      monthly_charges    tenure\n",
      "120         -0.349191  0.839851\n",
      "1423        -1.184789 -1.700684\n",
      "389          0.811120  0.839851\n",
      "1137        -1.180459 -1.926509\n",
      "1504        -1.036142  0.839851\n",
      "      monthly_charges    tenure\n",
      "308          0.838541  0.783394\n",
      "455         -0.044682  0.670482\n",
      "914          1.551469  0.839851\n",
      "1420        -1.204993 -1.700684\n",
      "1557         0.560008  0.783394\n"
     ]
    }
   ],
   "source": [
    "print(train_scaled.head())\n",
    "print(test_scaled.head())"
   ]
  },
  {
   "cell_type": "code",
   "execution_count": 6,
   "metadata": {},
   "outputs": [],
   "source": [
    "X_train=train_scaled\n",
    "y_train=train[['total_charges']]\n",
    "X_test=test_scaled\n",
    "y_test=test[['total_charges']]"
   ]
  },
  {
   "cell_type": "markdown",
   "metadata": {},
   "source": [
    "### 2)select your features using your features script"
   ]
  },
  {
   "cell_type": "code",
   "execution_count": 7,
   "metadata": {},
   "outputs": [
    {
     "data": {
      "text/plain": [
       "1"
      ]
     },
     "execution_count": 7,
     "metadata": {},
     "output_type": "execute_result"
    }
   ],
   "source": [
    "features.optimal_number_of_features(X_train,y_train,X_test,y_test)"
   ]
  },
  {
   "cell_type": "code",
   "execution_count": 8,
   "metadata": {},
   "outputs": [
    {
     "data": {
      "text/plain": [
       "Index(['monthly_charges'], dtype='object')"
      ]
     },
     "execution_count": 8,
     "metadata": {},
     "output_type": "execute_result"
    }
   ],
   "source": [
    "features.optimal_features(X_train,y_train,1)"
   ]
  },
  {
   "cell_type": "markdown",
   "metadata": {},
   "source": [
    "### 3)fit 2 different linear models to your data"
   ]
  },
  {
   "cell_type": "code",
   "execution_count": 9,
   "metadata": {},
   "outputs": [
    {
     "data": {
      "text/plain": [
       "array([3759.66194362, 3759.66194362, 3759.66194362, ..., 3759.66194362,\n",
       "       3759.66194362, 3759.66194362])"
      ]
     },
     "execution_count": 9,
     "metadata": {},
     "output_type": "execute_result"
    }
   ],
   "source": [
    "#model 1\n",
    "lm1=LinearRegression()\n",
    "lm1.fit(X_train[['monthly_charges']],y_train)\n",
    "lm1_predictions=lm1.predict(X_train[['monthly_charges']])\n",
    "model_1=pd.DataFrame(lm1_predictions)\n",
    "model_1['total_charges']=y_train\n",
    "model_1=model_1.rename(columns={0:'predicted_charges'})\n",
    "\n",
    "#model 2\n",
    "lm2=LinearRegression()\n",
    "lm2.fit(X_train[['tenure']],y_train)\n",
    "lm2_predictions=lm2.predict(X_train[['tenure']])\n",
    "model_2=pd.DataFrame(lm2_predictions)\n",
    "model_2['total_charges']=y_train\n",
    "model_2=model_2.rename(columns={0:'predicted_charges'})\n",
    "\n",
    "#baseline model\n",
    "y_pred_baseline = np.array([y_train.mean()[0]]*len(y_train))\n",
    "y_pred_baseline"
   ]
  },
  {
   "cell_type": "markdown",
   "metadata": {},
   "source": [
    "### 4)evaluate the 2 models and your baseline."
   ]
  },
  {
   "cell_type": "code",
   "execution_count": 10,
   "metadata": {},
   "outputs": [
    {
     "name": "stdout",
     "output_type": "stream",
     "text": [
      "6612927.089508685 8914225716.657707 2571.5612163642313 0.0\n"
     ]
    }
   ],
   "source": [
    "MSE_baseline = mean_squared_error(y_train, y_pred_baseline)\n",
    "SSE_baseline = MSE_baseline*len(y_train)\n",
    "RMSE_baseline = sqrt(MSE_baseline)\n",
    "r2_baseline = r2_score(y_train, y_pred_baseline)\n",
    "print(MSE_baseline,SSE_baseline,RMSE_baseline,r2_baseline)"
   ]
  },
  {
   "cell_type": "code",
   "execution_count": 11,
   "metadata": {},
   "outputs": [
    {
     "name": "stdout",
     "output_type": "stream",
     "text": [
      "710410.3104002099 957633098.4194828 842.8584165802758 0.8925724870719858\n"
     ]
    }
   ],
   "source": [
    "MSE_1 = mean_squared_error(y_train, model_1.predicted_charges)\n",
    "SSE_1 = MSE_1*len(y_train)\n",
    "RMSE_1 = sqrt(MSE_1)\n",
    "r2_1 = r2_score(y_train, model_1.predicted_charges)\n",
    "print(MSE_1,SSE_1,RMSE_1,r2_1)"
   ]
  },
  {
   "cell_type": "code",
   "execution_count": 12,
   "metadata": {},
   "outputs": [
    {
     "name": "stdout",
     "output_type": "stream",
     "text": [
      "3930986.41713009 5298969690.291361 1982.6715353608347 0.40556029668517835\n"
     ]
    }
   ],
   "source": [
    "MSE_2 = mean_squared_error(y_train, model_2.predicted_charges)\n",
    "SSE_2 = MSE_2*len(y_train)\n",
    "RMSE_2 = sqrt(MSE_2)\n",
    "r2_2 = r2_score(y_train, model_2.predicted_charges)\n",
    "print(MSE_2,SSE_2,RMSE_2,r2_2)"
   ]
  },
  {
   "cell_type": "markdown",
   "metadata": {},
   "source": [
    "### 5)select the one that performed the best.\n",
    "The model with monthly charges performed the best"
   ]
  },
  {
   "cell_type": "markdown",
   "metadata": {},
   "source": [
    "### 6)apply to your test data"
   ]
  },
  {
   "cell_type": "code",
   "execution_count": 35,
   "metadata": {},
   "outputs": [
    {
     "data": {
      "text/html": [
       "<div>\n",
       "<style scoped>\n",
       "    .dataframe tbody tr th:only-of-type {\n",
       "        vertical-align: middle;\n",
       "    }\n",
       "\n",
       "    .dataframe tbody tr th {\n",
       "        vertical-align: top;\n",
       "    }\n",
       "\n",
       "    .dataframe thead th {\n",
       "        text-align: right;\n",
       "    }\n",
       "</style>\n",
       "<table border=\"1\" class=\"dataframe\">\n",
       "  <thead>\n",
       "    <tr style=\"text-align: right;\">\n",
       "      <th></th>\n",
       "      <th>predictions</th>\n",
       "      <th>total_charges</th>\n",
       "    </tr>\n",
       "  </thead>\n",
       "  <tbody>\n",
       "    <tr>\n",
       "      <th>0</th>\n",
       "      <td>5796.904720</td>\n",
       "      <td>6325.25</td>\n",
       "    </tr>\n",
       "    <tr>\n",
       "      <th>1</th>\n",
       "      <td>3651.107454</td>\n",
       "      <td>4069.90</td>\n",
       "    </tr>\n",
       "    <tr>\n",
       "      <th>2</th>\n",
       "      <td>7528.969834</td>\n",
       "      <td>8405.00</td>\n",
       "    </tr>\n",
       "    <tr>\n",
       "      <th>3</th>\n",
       "      <td>832.118888</td>\n",
       "      <td>520.55</td>\n",
       "    </tr>\n",
       "    <tr>\n",
       "      <th>4</th>\n",
       "      <td>5120.207216</td>\n",
       "      <td>5705.05</td>\n",
       "    </tr>\n",
       "  </tbody>\n",
       "</table>\n",
       "</div>"
      ],
      "text/plain": [
       "   predictions  total_charges\n",
       "0  5796.904720        6325.25\n",
       "1  3651.107454        4069.90\n",
       "2  7528.969834        8405.00\n",
       "3   832.118888         520.55\n",
       "4  5120.207216        5705.05"
      ]
     },
     "execution_count": 35,
     "metadata": {},
     "output_type": "execute_result"
    }
   ],
   "source": [
    "model=lm1.predict(X_test[['monthly_charges']])\n",
    "model=model.ravel().reshape(337)\n",
    "y_test=np.array(y_test).ravel().reshape(337)\n",
    "best_model=pd.DataFrame({'predictions':model,'total_charges':y_test})\n",
    "\n",
    "best_model.head()"
   ]
  },
  {
   "cell_type": "markdown",
   "metadata": {},
   "source": [
    "### 7)Write a function that creates the model object, fits and predicts,   given X_train, X_test, y_train, y_test"
   ]
  },
  {
   "cell_type": "code",
   "execution_count": 41,
   "metadata": {},
   "outputs": [],
   "source": [
    "X_train=X_train[['monthly_charges']]\n",
    "X_test=X_test[['monthly_charges']]\n",
    "def modeling_function(X_train,X_test,y_train,y_test):\n",
    "    lm1=LinearRegression()\n",
    "    lm1.fit(X_train,y_train)\n",
    "    lm1_predictions=lm1.predict(X_train)\n",
    "    model_1=pd.DataFrame(lm1_predictions)\n",
    "    model_1['actual_values']=y_train\n",
    "    model_1=model_1.rename(columns={0:'predicted_values'})\n",
    "    #fit another regression object for test data\n",
    "    lm2=LinearRegression()\n",
    "    lm2.fit(X_test,y_test)\n",
    "    lm2_predictions=lm2.predict(X_test)\n",
    "    model_2=pd.DataFrame(lm2_predictions)\n",
    "    model_2['actual_values']=y_test\n",
    "    model_2=model_2.rename(columns={0:'predicted_values'})\n",
    "    return model_1,model_2"
   ]
  },
  {
   "cell_type": "code",
   "execution_count": 43,
   "metadata": {},
   "outputs": [],
   "source": [
    "model_test,model_train=modeling_function(X_train,X_test,y_train,y_test)"
   ]
  },
  {
   "cell_type": "code",
   "execution_count": 45,
   "metadata": {},
   "outputs": [
    {
     "data": {
      "text/html": [
       "<div>\n",
       "<style scoped>\n",
       "    .dataframe tbody tr th:only-of-type {\n",
       "        vertical-align: middle;\n",
       "    }\n",
       "\n",
       "    .dataframe tbody tr th {\n",
       "        vertical-align: top;\n",
       "    }\n",
       "\n",
       "    .dataframe thead th {\n",
       "        text-align: right;\n",
       "    }\n",
       "</style>\n",
       "<table border=\"1\" class=\"dataframe\">\n",
       "  <thead>\n",
       "    <tr style=\"text-align: right;\">\n",
       "      <th></th>\n",
       "      <th>predicted_values</th>\n",
       "      <th>actual_values</th>\n",
       "    </tr>\n",
       "  </thead>\n",
       "  <tbody>\n",
       "    <tr>\n",
       "      <th>0</th>\n",
       "      <td>5776.116363</td>\n",
       "      <td>6325.25</td>\n",
       "    </tr>\n",
       "    <tr>\n",
       "      <th>1</th>\n",
       "      <td>3646.407575</td>\n",
       "      <td>4069.90</td>\n",
       "    </tr>\n",
       "    <tr>\n",
       "      <th>2</th>\n",
       "      <td>7495.195025</td>\n",
       "      <td>8405.00</td>\n",
       "    </tr>\n",
       "    <tr>\n",
       "      <th>3</th>\n",
       "      <td>848.554853</td>\n",
       "      <td>520.55</td>\n",
       "    </tr>\n",
       "    <tr>\n",
       "      <th>4</th>\n",
       "      <td>5104.492513</td>\n",
       "      <td>5705.05</td>\n",
       "    </tr>\n",
       "  </tbody>\n",
       "</table>\n",
       "</div>"
      ],
      "text/plain": [
       "   predicted_values  actual_values\n",
       "0       5776.116363        6325.25\n",
       "1       3646.407575        4069.90\n",
       "2       7495.195025        8405.00\n",
       "3        848.554853         520.55\n",
       "4       5104.492513        5705.05"
      ]
     },
     "execution_count": 45,
     "metadata": {},
     "output_type": "execute_result"
    }
   ],
   "source": [
    "model_test.head()\n",
    "model_train.head()"
   ]
  },
  {
   "cell_type": "markdown",
   "metadata": {},
   "source": [
    "### 8)Write a function, plot_residuals(x, y, dataframe) that takes the feature, the target, and the dataframe as input and returns a residual plot."
   ]
  },
  {
   "cell_type": "code",
   "execution_count": 69,
   "metadata": {},
   "outputs": [
    {
     "data": {
      "text/plain": [
       "<matplotlib.axes._subplots.AxesSubplot at 0x1a23b97630>"
      ]
     },
     "execution_count": 69,
     "metadata": {},
     "output_type": "execute_result"
    },
    {
     "data": {
      "image/png": "[encoded data removed]",
      "text/plain": [
       "<Figure size 432x288 with 1 Axes>"
      ]
     },
     "metadata": {
      "needs_background": "light"
     },
     "output_type": "display_data"
    }
   ],
   "source": [
    "def plot_residuals(x, y):\n",
    "    '''\n",
    "    Plots the residuals of a model that uses x to predict y. Note that we don't\n",
    "    need to make any predictions ourselves here, seaborn will create the model\n",
    "    and predictions for us under the hood with the `residplot` function.\n",
    "    '''\n",
    "    return sns.residplot(x, y)\n",
    "\n",
    "x=test[['monthly_charges']]\n",
    "y=test[['total_charges']]\n",
    "plot_residuals(x,y)"
   ]
  },
  {
   "cell_type": "markdown",
   "metadata": {},
   "source": [
    "### 9)Write a function, plot_regression(x, y) that takes a feature and a target and returns the datapoints, the regression line, and the confidence interval."
   ]
  },
  {
   "cell_type": "code",
   "execution_count": 70,
   "metadata": {},
   "outputs": [],
   "source": [
    "res = sm.OLS(y, x).fit()"
   ]
  },
  {
   "cell_type": "code",
   "execution_count": 71,
   "metadata": {},
   "outputs": [
    {
     "data": {
      "text/html": [
       "<table class=\"simpletable\">\n",
       "<caption>OLS Regression Results</caption>\n",
       "<tr>\n",
       "  <th>Dep. Variable:</th>      <td>total_charges</td>  <th>  R-squared:         </th> <td>   0.962</td> \n",
       "</tr>\n",
       "<tr>\n",
       "  <th>Model:</th>                   <td>OLS</td>       <th>  Adj. R-squared:    </th> <td>   0.962</td> \n",
       "</tr>\n",
       "<tr>\n",
       "  <th>Method:</th>             <td>Least Squares</td>  <th>  F-statistic:       </th> <td>   8512.</td> \n",
       "</tr>\n",
       "<tr>\n",
       "  <th>Date:</th>             <td>Wed, 16 Oct 2019</td> <th>  Prob (F-statistic):</th> <td>1.01e-240</td>\n",
       "</tr>\n",
       "<tr>\n",
       "  <th>Time:</th>                 <td>22:30:48</td>     <th>  Log-Likelihood:    </th> <td> -2756.1</td> \n",
       "</tr>\n",
       "<tr>\n",
       "  <th>No. Observations:</th>      <td>   337</td>      <th>  AIC:               </th> <td>   5514.</td> \n",
       "</tr>\n",
       "<tr>\n",
       "  <th>Df Residuals:</th>          <td>   336</td>      <th>  BIC:               </th> <td>   5518.</td> \n",
       "</tr>\n",
       "<tr>\n",
       "  <th>Df Model:</th>              <td>     1</td>      <th>                     </th>     <td> </td>    \n",
       "</tr>\n",
       "<tr>\n",
       "  <th>Covariance Type:</th>      <td>nonrobust</td>    <th>                     </th>     <td> </td>    \n",
       "</tr>\n",
       "</table>\n",
       "<table class=\"simpletable\">\n",
       "<tr>\n",
       "         <td></td>            <th>coef</th>     <th>std err</th>      <th>t</th>      <th>P>|t|</th>  <th>[0.025</th>    <th>0.975]</th>  \n",
       "</tr>\n",
       "<tr>\n",
       "  <th>monthly_charges</th> <td>   63.1749</td> <td>    0.685</td> <td>   92.259</td> <td> 0.000</td> <td>   61.828</td> <td>   64.522</td>\n",
       "</tr>\n",
       "</table>\n",
       "<table class=\"simpletable\">\n",
       "<tr>\n",
       "  <th>Omnibus:</th>       <td>62.586</td> <th>  Durbin-Watson:     </th> <td>   1.805</td>\n",
       "</tr>\n",
       "<tr>\n",
       "  <th>Prob(Omnibus):</th> <td> 0.000</td> <th>  Jarque-Bera (JB):  </th> <td>  98.685</td>\n",
       "</tr>\n",
       "<tr>\n",
       "  <th>Skew:</th>          <td>-1.113</td> <th>  Prob(JB):          </th> <td>3.72e-22</td>\n",
       "</tr>\n",
       "<tr>\n",
       "  <th>Kurtosis:</th>      <td> 4.440</td> <th>  Cond. No.          </th> <td>    1.00</td>\n",
       "</tr>\n",
       "</table><br/><br/>Warnings:<br/>[1] Standard Errors assume that the covariance matrix of the errors is correctly specified."
      ],
      "text/plain": [
       "<class 'statsmodels.iolib.summary.Summary'>\n",
       "\"\"\"\n",
       "                            OLS Regression Results                            \n",
       "==============================================================================\n",
       "Dep. Variable:          total_charges   R-squared:                       0.962\n",
       "Model:                            OLS   Adj. R-squared:                  0.962\n",
       "Method:                 Least Squares   F-statistic:                     8512.\n",
       "Date:                Wed, 16 Oct 2019   Prob (F-statistic):          1.01e-240\n",
       "Time:                        22:30:48   Log-Likelihood:                -2756.1\n",
       "No. Observations:                 337   AIC:                             5514.\n",
       "Df Residuals:                     336   BIC:                             5518.\n",
       "Df Model:                           1                                         \n",
       "Covariance Type:            nonrobust                                         \n",
       "===================================================================================\n",
       "                      coef    std err          t      P>|t|      [0.025      0.975]\n",
       "-----------------------------------------------------------------------------------\n",
       "monthly_charges    63.1749      0.685     92.259      0.000      61.828      64.522\n",
       "==============================================================================\n",
       "Omnibus:                       62.586   Durbin-Watson:                   1.805\n",
       "Prob(Omnibus):                  0.000   Jarque-Bera (JB):               98.685\n",
       "Skew:                          -1.113   Prob(JB):                     3.72e-22\n",
       "Kurtosis:                       4.440   Cond. No.                         1.00\n",
       "==============================================================================\n",
       "\n",
       "Warnings:\n",
       "[1] Standard Errors assume that the covariance matrix of the errors is correctly specified.\n",
       "\"\"\""
      ]
     },
     "execution_count": 71,
     "metadata": {},
     "output_type": "execute_result"
    }
   ],
   "source": [
    "res.summary()"
   ]
  },
  {
   "cell_type": "code",
   "execution_count": 75,
   "metadata": {},
   "outputs": [
    {
     "data": {
      "image/png": "[encoded data removed]",
      "text/plain": [
       "<Figure size 576x432 with 1 Axes>"
      ]
     },
     "metadata": {
      "needs_background": "light"
     },
     "output_type": "display_data"
    }
   ],
   "source": [
    "prstd, iv_l, iv_u = wls_prediction_std(res)\n",
    "\n",
    "fig, ax = plt.subplots(figsize=(8,6))\n",
    "\n",
    "ax.plot(x, y, 'o', label=\"data\")\n",
    "#ax.plot(x, y, 'b-', label=\"True\")\n",
    "ax.plot(x, res.fittedvalues, 'r--.', label=\"OLS\")\n",
    "ax.plot(x, iv_u, 'r--')\n",
    "ax.plot(x, iv_l, 'r--')\n",
    "ax.legend(loc='best');"
   ]
  },
  {
   "cell_type": "code",
   "execution_count": 76,
   "metadata": {},
   "outputs": [],
   "source": [
    "def plot_regression(x,y):\n",
    "    res = sm.OLS(y, x).fit()\n",
    "    prstd, iv_l, iv_u = wls_prediction_std(res)\n",
    "\n",
    "    fig, ax = plt.subplots(figsize=(8,6))\n",
    "\n",
    "    ax.plot(x, y, 'o', label=\"data\")\n",
    "    #ax.plot(x, y, 'b-', label=\"True\")\n",
    "    ax.plot(x, res.fittedvalues, 'r--.', label=\"OLS\")\n",
    "    ax.plot(x, iv_u, 'r--')\n",
    "    ax.plot(x, iv_l, 'r--')\n",
    "    ax.legend(loc='best');\n",
    "    plt.show()\n",
    "    "
   ]
  },
  {
   "cell_type": "code",
   "execution_count": 77,
   "metadata": {},
   "outputs": [
    {
     "data": {
      "image/png": "[encoded data removed]",
      "text/plain": [
       "<Figure size 576x432 with 1 Axes>"
      ]
     },
     "metadata": {
      "needs_background": "light"
     },
     "output_type": "display_data"
    }
   ],
   "source": [
    "plot_regression(x,y)"
   ]
  },
  {
   "cell_type": "code",
   "execution_count": null,
   "metadata": {},
   "outputs": [],
   "source": []
  }
 ],
 "metadata": {
  "kernelspec": {
   "display_name": "Python 3",
   "language": "python",
   "name": "python3"
  },
  "language_info": {
   "codemirror_mode": {
    "name": "ipython",
    "version": 3
   },
   "file_extension": ".py",
   "mimetype": "text/x-python",
   "name": "python",
   "nbconvert_exporter": "python",
   "pygments_lexer": "ipython3",
   "version": "3.7.3"
  }
 },
 "nbformat": 4,
 "nbformat_minor": 2
}
