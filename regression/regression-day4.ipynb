{
 "cells": [
  {
   "cell_type": "markdown",
   "metadata": {},
   "source": [
    "# Feature Engineering\n",
    "\n",
    "0. manual creation of new features\n",
    "1. filter methods\n",
    "2. wrapper methods\n",
    "3. embedded methods\n",
    "4. linear dimensionality reduction\n",
    "\n",
    "## Filter Methods\n",
    "\n",
    "- not running an entire model  \n",
    "\n",
    "### 1. Correlation \n",
    "\n",
    "- features to target  \n",
    "- within features  "
   ]
  },
  {
   "cell_type": "markdown",
   "metadata": {},
   "source": [
    "### 2. Select K-best\n",
    "\n",
    "- removes n-k features\n",
    "- must identify your k\n",
    "- f_regression: correlation is computed => f score => pval\n"
   ]
  },
  {
   "cell_type": "markdown",
   "metadata": {},
   "source": [
    "## Wrapper Methods\n",
    "\n",
    "- evaluate based on the performance of your ML algorithm\n",
    "\n",
    "### Backward elimination\n",
    "\n",
    "- run model, check, remove the worse\n",
    "- iterate\n",
    "\n",
    "### Forward selection\n",
    "\n",
    "\n",
    "### Recursive feature elimination (RFE)\n",
    "\n",
    "- take the model and number of features provided, and return ranking of all variables and its support (T/F)"
   ]
  },
  {
   "cell_type": "markdown",
   "metadata": {},
   "source": [
    "## Embedded Methods\n",
    "\n",
    "- penalize the worst performing features\n",
    "\n",
    "- LassoCV  \n",
    "- ElasticNet  \n",
    "- RidgeRegression  \n",
    "- Regularized Regression  "
   ]
  },
  {
   "cell_type": "markdown",
   "metadata": {},
   "source": [
    "## Linear Dimensionality Reduction\n",
    "\n",
    "- PCA: principle components analysis\n",
    "\n",
    "\n",
    "_________________________________________\n",
    "_________________________________________\n"
   ]
  },
  {
   "cell_type": "code",
   "execution_count": 99,
   "metadata": {},
   "outputs": [],
   "source": [
    "import warnings\n",
    "warnings.filterwarnings('ignore')\n",
    "import pandas as pd\n",
    "import numpy as np\n",
    "import matplotlib.pyplot as plt\n",
    "import seaborn as sns\n",
    "from sklearn.model_selection import train_test_split\n",
    "from sklearn.preprocessing import StandardScaler, MinMaxScaler\n",
    "import warnings\n",
    "warnings.filterwarnings(\"ignore\")\n",
    "\n",
    "df = pd.read_csv('student_grades.csv')\n",
    "\n",
    "df = df.replace(r'^\\s+$', np.nan, regex=True)\n",
    "df.dropna(inplace=True)\n",
    "df = df.astype('int')"
   ]
  },
  {
   "cell_type": "markdown",
   "metadata": {},
   "source": [
    "### Construct new features"
   ]
  },
  {
   "cell_type": "code",
   "execution_count": 100,
   "metadata": {},
   "outputs": [],
   "source": [
    "df['exam_1to2'] = df['exam1'] - df['exam2']\n",
    "df['exam_1to3'] = df['exam1'] - df['exam3']\n",
    "df['exam_2to3'] = df['exam2'] - df['exam3']\n",
    "\n",
    "df.drop(columns=['student_id', 'exam2', 'exam3'], inplace=True)"
   ]
  },
  {
   "cell_type": "code",
   "execution_count": 101,
   "metadata": {},
   "outputs": [
    {
     "data": {
      "text/html": [
       "<div>\n",
       "<style scoped>\n",
       "    .dataframe tbody tr th:only-of-type {\n",
       "        vertical-align: middle;\n",
       "    }\n",
       "\n",
       "    .dataframe tbody tr th {\n",
       "        vertical-align: top;\n",
       "    }\n",
       "\n",
       "    .dataframe thead th {\n",
       "        text-align: right;\n",
       "    }\n",
       "</style>\n",
       "<table border=\"1\" class=\"dataframe\">\n",
       "  <thead>\n",
       "    <tr style=\"text-align: right;\">\n",
       "      <th></th>\n",
       "      <th>exam1</th>\n",
       "      <th>final_grade</th>\n",
       "      <th>exam_1to2</th>\n",
       "      <th>exam_1to3</th>\n",
       "      <th>exam_2to3</th>\n",
       "    </tr>\n",
       "  </thead>\n",
       "  <tbody>\n",
       "    <tr>\n",
       "      <th>count</th>\n",
       "      <td>102.000000</td>\n",
       "      <td>102.000000</td>\n",
       "      <td>102.000000</td>\n",
       "      <td>102.000000</td>\n",
       "      <td>102.000000</td>\n",
       "    </tr>\n",
       "    <tr>\n",
       "      <th>mean</th>\n",
       "      <td>78.705882</td>\n",
       "      <td>81.852941</td>\n",
       "      <td>1.205882</td>\n",
       "      <td>-5.558824</td>\n",
       "      <td>-6.764706</td>\n",
       "    </tr>\n",
       "    <tr>\n",
       "      <th>std</th>\n",
       "      <td>14.305429</td>\n",
       "      <td>10.953002</td>\n",
       "      <td>5.925842</td>\n",
       "      <td>6.551507</td>\n",
       "      <td>3.629299</td>\n",
       "    </tr>\n",
       "    <tr>\n",
       "      <th>min</th>\n",
       "      <td>57.000000</td>\n",
       "      <td>65.000000</td>\n",
       "      <td>-8.000000</td>\n",
       "      <td>-18.000000</td>\n",
       "      <td>-15.000000</td>\n",
       "    </tr>\n",
       "    <tr>\n",
       "      <th>25%</th>\n",
       "      <td>70.000000</td>\n",
       "      <td>72.000000</td>\n",
       "      <td>-5.000000</td>\n",
       "      <td>-8.000000</td>\n",
       "      <td>-9.000000</td>\n",
       "    </tr>\n",
       "    <tr>\n",
       "      <th>50%</th>\n",
       "      <td>79.000000</td>\n",
       "      <td>81.000000</td>\n",
       "      <td>3.000000</td>\n",
       "      <td>-3.000000</td>\n",
       "      <td>-5.000000</td>\n",
       "    </tr>\n",
       "    <tr>\n",
       "      <th>75%</th>\n",
       "      <td>92.000000</td>\n",
       "      <td>93.000000</td>\n",
       "      <td>5.000000</td>\n",
       "      <td>-2.000000</td>\n",
       "      <td>-5.000000</td>\n",
       "    </tr>\n",
       "    <tr>\n",
       "      <th>max</th>\n",
       "      <td>100.000000</td>\n",
       "      <td>97.000000</td>\n",
       "      <td>10.000000</td>\n",
       "      <td>5.000000</td>\n",
       "      <td>-3.000000</td>\n",
       "    </tr>\n",
       "  </tbody>\n",
       "</table>\n",
       "</div>"
      ],
      "text/plain": [
       "            exam1  final_grade   exam_1to2   exam_1to3   exam_2to3\n",
       "count  102.000000   102.000000  102.000000  102.000000  102.000000\n",
       "mean    78.705882    81.852941    1.205882   -5.558824   -6.764706\n",
       "std     14.305429    10.953002    5.925842    6.551507    3.629299\n",
       "min     57.000000    65.000000   -8.000000  -18.000000  -15.000000\n",
       "25%     70.000000    72.000000   -5.000000   -8.000000   -9.000000\n",
       "50%     79.000000    81.000000    3.000000   -3.000000   -5.000000\n",
       "75%     92.000000    93.000000    5.000000   -2.000000   -5.000000\n",
       "max    100.000000    97.000000   10.000000    5.000000   -3.000000"
      ]
     },
     "execution_count": 101,
     "metadata": {},
     "output_type": "execute_result"
    }
   ],
   "source": [
    "df.describe()"
   ]
  },
  {
   "cell_type": "markdown",
   "metadata": {},
   "source": [
    "### Split & Scale"
   ]
  },
  {
   "cell_type": "code",
   "execution_count": 141,
   "metadata": {},
   "outputs": [],
   "source": [
    "# split into train and test\n",
    "train, test = split_scale.split_my_data(df)\n",
    "X_train = train.drop(columns=['final_grade'])\n",
    "y_train = train[['final_grade']]\n",
    "\n",
    "from sklearn.preprocessing import MinMaxScaler\n",
    "scaler = MinMaxScaler(copy=True, feature_range=(0,1)).fit(X_train)\n",
    "X_scaled = pd.DataFrame(scaler.transform(X_train), columns=X_train.columns.values).set_index([X_train.index.values])"
   ]
  },
  {
   "cell_type": "code",
   "execution_count": 142,
   "metadata": {},
   "outputs": [
    {
     "data": {
      "text/html": [
       "<div>\n",
       "<style scoped>\n",
       "    .dataframe tbody tr th:only-of-type {\n",
       "        vertical-align: middle;\n",
       "    }\n",
       "\n",
       "    .dataframe tbody tr th {\n",
       "        vertical-align: top;\n",
       "    }\n",
       "\n",
       "    .dataframe thead th {\n",
       "        text-align: right;\n",
       "    }\n",
       "</style>\n",
       "<table border=\"1\" class=\"dataframe\">\n",
       "  <thead>\n",
       "    <tr style=\"text-align: right;\">\n",
       "      <th></th>\n",
       "      <th>exam1</th>\n",
       "      <th>exam_1to2</th>\n",
       "      <th>exam_1to3</th>\n",
       "      <th>exam_2to3</th>\n",
       "      <th>final_grade</th>\n",
       "    </tr>\n",
       "  </thead>\n",
       "  <tbody>\n",
       "    <tr>\n",
       "      <th>count</th>\n",
       "      <td>81.000000</td>\n",
       "      <td>81.000000</td>\n",
       "      <td>81.000000</td>\n",
       "      <td>81.000000</td>\n",
       "      <td>81.000000</td>\n",
       "    </tr>\n",
       "    <tr>\n",
       "      <th>mean</th>\n",
       "      <td>0.464829</td>\n",
       "      <td>0.477366</td>\n",
       "      <td>0.508320</td>\n",
       "      <td>0.674897</td>\n",
       "      <td>80.641975</td>\n",
       "    </tr>\n",
       "    <tr>\n",
       "      <th>std</th>\n",
       "      <td>0.314244</td>\n",
       "      <td>0.315345</td>\n",
       "      <td>0.274950</td>\n",
       "      <td>0.301502</td>\n",
       "      <td>10.506318</td>\n",
       "    </tr>\n",
       "    <tr>\n",
       "      <th>min</th>\n",
       "      <td>0.000000</td>\n",
       "      <td>0.000000</td>\n",
       "      <td>0.000000</td>\n",
       "      <td>0.000000</td>\n",
       "      <td>65.000000</td>\n",
       "    </tr>\n",
       "    <tr>\n",
       "      <th>25%</th>\n",
       "      <td>0.302326</td>\n",
       "      <td>0.166667</td>\n",
       "      <td>0.434783</td>\n",
       "      <td>0.500000</td>\n",
       "      <td>72.000000</td>\n",
       "    </tr>\n",
       "    <tr>\n",
       "      <th>50%</th>\n",
       "      <td>0.511628</td>\n",
       "      <td>0.611111</td>\n",
       "      <td>0.652174</td>\n",
       "      <td>0.833333</td>\n",
       "      <td>81.000000</td>\n",
       "    </tr>\n",
       "    <tr>\n",
       "      <th>75%</th>\n",
       "      <td>0.651163</td>\n",
       "      <td>0.611111</td>\n",
       "      <td>0.695652</td>\n",
       "      <td>0.833333</td>\n",
       "      <td>87.000000</td>\n",
       "    </tr>\n",
       "    <tr>\n",
       "      <th>max</th>\n",
       "      <td>1.000000</td>\n",
       "      <td>1.000000</td>\n",
       "      <td>1.000000</td>\n",
       "      <td>1.000000</td>\n",
       "      <td>97.000000</td>\n",
       "    </tr>\n",
       "  </tbody>\n",
       "</table>\n",
       "</div>"
      ],
      "text/plain": [
       "           exam1  exam_1to2  exam_1to3  exam_2to3  final_grade\n",
       "count  81.000000  81.000000  81.000000  81.000000    81.000000\n",
       "mean    0.464829   0.477366   0.508320   0.674897    80.641975\n",
       "std     0.314244   0.315345   0.274950   0.301502    10.506318\n",
       "min     0.000000   0.000000   0.000000   0.000000    65.000000\n",
       "25%     0.302326   0.166667   0.434783   0.500000    72.000000\n",
       "50%     0.511628   0.611111   0.652174   0.833333    81.000000\n",
       "75%     0.651163   0.611111   0.695652   0.833333    87.000000\n",
       "max     1.000000   1.000000   1.000000   1.000000    97.000000"
      ]
     },
     "execution_count": 142,
     "metadata": {},
     "output_type": "execute_result"
    }
   ],
   "source": [
    "train_scaled = X_scaled.join(pd.DataFrame(y_train))\n",
    "\n",
    "train_scaled.describe()"
   ]
  },
  {
   "cell_type": "markdown",
   "metadata": {},
   "source": [
    "### Correlation threshold"
   ]
  },
  {
   "cell_type": "code",
   "execution_count": 143,
   "metadata": {},
   "outputs": [
    {
     "data": {
      "text/html": [
       "<div>\n",
       "<style scoped>\n",
       "    .dataframe tbody tr th:only-of-type {\n",
       "        vertical-align: middle;\n",
       "    }\n",
       "\n",
       "    .dataframe tbody tr th {\n",
       "        vertical-align: top;\n",
       "    }\n",
       "\n",
       "    .dataframe thead th {\n",
       "        text-align: right;\n",
       "    }\n",
       "</style>\n",
       "<table border=\"1\" class=\"dataframe\">\n",
       "  <thead>\n",
       "    <tr style=\"text-align: right;\">\n",
       "      <th></th>\n",
       "      <th>exam1</th>\n",
       "      <th>exam_1to2</th>\n",
       "      <th>exam_1to3</th>\n",
       "      <th>exam_2to3</th>\n",
       "      <th>final_grade</th>\n",
       "    </tr>\n",
       "  </thead>\n",
       "  <tbody>\n",
       "    <tr>\n",
       "      <th>exam1</th>\n",
       "      <td>1.000000</td>\n",
       "      <td>0.761832</td>\n",
       "      <td>0.890671</td>\n",
       "      <td>0.361562</td>\n",
       "      <td>0.984444</td>\n",
       "    </tr>\n",
       "    <tr>\n",
       "      <th>exam_1to2</th>\n",
       "      <td>0.761832</td>\n",
       "      <td>1.000000</td>\n",
       "      <td>0.823506</td>\n",
       "      <td>-0.129488</td>\n",
       "      <td>0.735541</td>\n",
       "    </tr>\n",
       "    <tr>\n",
       "      <th>exam_1to3</th>\n",
       "      <td>0.890671</td>\n",
       "      <td>0.823506</td>\n",
       "      <td>1.000000</td>\n",
       "      <td>0.455897</td>\n",
       "      <td>0.844376</td>\n",
       "    </tr>\n",
       "    <tr>\n",
       "      <th>exam_2to3</th>\n",
       "      <td>0.361562</td>\n",
       "      <td>-0.129488</td>\n",
       "      <td>0.455897</td>\n",
       "      <td>1.000000</td>\n",
       "      <td>0.321892</td>\n",
       "    </tr>\n",
       "    <tr>\n",
       "      <th>final_grade</th>\n",
       "      <td>0.984444</td>\n",
       "      <td>0.735541</td>\n",
       "      <td>0.844376</td>\n",
       "      <td>0.321892</td>\n",
       "      <td>1.000000</td>\n",
       "    </tr>\n",
       "  </tbody>\n",
       "</table>\n",
       "</div>"
      ],
      "text/plain": [
       "                exam1  exam_1to2  exam_1to3  exam_2to3  final_grade\n",
       "exam1        1.000000   0.761832   0.890671   0.361562     0.984444\n",
       "exam_1to2    0.761832   1.000000   0.823506  -0.129488     0.735541\n",
       "exam_1to3    0.890671   0.823506   1.000000   0.455897     0.844376\n",
       "exam_2to3    0.361562  -0.129488   0.455897   1.000000     0.321892\n",
       "final_grade  0.984444   0.735541   0.844376   0.321892     1.000000"
      ]
     },
     "execution_count": 143,
     "metadata": {},
     "output_type": "execute_result"
    },
    {
     "data": {
      "text/plain": [
       "<Figure size 432x360 with 0 Axes>"
      ]
     },
     "metadata": {},
     "output_type": "display_data"
    }
   ],
   "source": [
    "plt.figure(figsize=(6,5))\n",
    "cor = train_scaled.corr()\n",
    "cor\n",
    "# sns.heatmap(cor, annot=True, cmap=plt.cm.Reds)"
   ]
  },
  {
   "cell_type": "markdown",
   "metadata": {},
   "source": [
    "### Select K-Best\n",
    "SelectKBest removes all but the highest scoring features\n",
    "Scores are the test statistic for the chosen function or test (Chi-squared, F-regression, etc.)\n"
   ]
  },
  {
   "cell_type": "code",
   "execution_count": 144,
   "metadata": {},
   "outputs": [
    {
     "name": "stdout",
     "output_type": "stream",
     "text": [
      "[ True  True  True False]\n",
      "['exam1', 'exam_1to2', 'exam_1to3']\n"
     ]
    },
    {
     "data": {
      "text/plain": [
       "array([2480.06685901,   93.12086279,  196.23278584,    9.13171426])"
      ]
     },
     "execution_count": 144,
     "metadata": {},
     "output_type": "execute_result"
    }
   ],
   "source": [
    "from sklearn.feature_selection import SelectKBest, f_regression\n",
    "\n",
    "f_selector = SelectKBest(f_regression, k=3).fit(X_scaled, y_train)\n",
    "\n",
    "f_support = f_selector.get_support()\n",
    "print(f_support)\n",
    "print(X_train.loc[:,f_support].columns.tolist())\n",
    "\n",
    "f_selector.scores_"
   ]
  },
  {
   "cell_type": "markdown",
   "metadata": {},
   "source": [
    "### Wrapper Methods"
   ]
  },
  {
   "cell_type": "code",
   "execution_count": 145,
   "metadata": {},
   "outputs": [],
   "source": [
    "# backward elimination with OLS\n",
    "import statsmodels.api as sm"
   ]
  },
  {
   "cell_type": "code",
   "execution_count": 146,
   "metadata": {},
   "outputs": [],
   "source": [
    "cols = list(X_scaled.columns)\n",
    "pmax = 1\n",
    "\n",
    "while (len(cols) > 0):\n",
    "    p = []\n",
    "    x_1 = X_scaled[cols]\n",
    "#     x_1 = sm.add_constant(x_1)\n",
    "    model = sm.OLS(y_train, x_1).fit()\n",
    "    p = pd.Series(model.pvalues.values[0:,],index=cols)\n",
    "    pmax = max(p)\n",
    "    feature_with_pmax = p.idxmax()\n",
    "    #  = p.idxmax()\n",
    "    if(pmax>0.05):\n",
    "        cols.remove(feature_with_pmax)\n",
    "    else:\n",
    "        break    "
   ]
  },
  {
   "cell_type": "code",
   "execution_count": 147,
   "metadata": {},
   "outputs": [
    {
     "data": {
      "text/plain": [
       "['exam1', 'exam_1to2', 'exam_1to3', 'exam_2to3']"
      ]
     },
     "execution_count": 147,
     "metadata": {},
     "output_type": "execute_result"
    }
   ],
   "source": [
    "cols"
   ]
  },
  {
   "cell_type": "markdown",
   "metadata": {},
   "source": [
    "### Recursive Feature Engineering"
   ]
  },
  {
   "cell_type": "code",
   "execution_count": 148,
   "metadata": {},
   "outputs": [],
   "source": [
    "from sklearn.feature_selection import RFE\n",
    "from sklearn.linear_model import LinearRegression"
   ]
  },
  {
   "cell_type": "code",
   "execution_count": 149,
   "metadata": {},
   "outputs": [],
   "source": [
    "reg = LinearRegression()\n",
    "rfe = RFE(reg, 3)\n",
    "X_rfe = rfe.fit_transform(X_scaled, y_train)"
   ]
  },
  {
   "cell_type": "code",
   "execution_count": 150,
   "metadata": {},
   "outputs": [
    {
     "data": {
      "text/plain": [
       "LinearRegression(copy_X=True, fit_intercept=True, n_jobs=None, normalize=False)"
      ]
     },
     "execution_count": 150,
     "metadata": {},
     "output_type": "execute_result"
    }
   ],
   "source": [
    "reg.fit(X_rfe, y_train)"
   ]
  },
  {
   "cell_type": "code",
   "execution_count": 151,
   "metadata": {},
   "outputs": [
    {
     "data": {
      "text/plain": [
       "exam1         True\n",
       "exam_1to2     True\n",
       "exam_1to3     True\n",
       "exam_2to3    False\n",
       "dtype: bool"
      ]
     },
     "execution_count": 151,
     "metadata": {},
     "output_type": "execute_result"
    }
   ],
   "source": [
    "pd.Series(rfe.support_, index=cols)"
   ]
  },
  {
   "cell_type": "code",
   "execution_count": 152,
   "metadata": {},
   "outputs": [
    {
     "name": "stdout",
     "output_type": "stream",
     "text": [
      "<class 'numpy.ndarray'>\n",
      "(81, 3)\n"
     ]
    }
   ],
   "source": [
    "print(type(X_rfe))\n",
    "\n",
    "print(X_rfe.shape)"
   ]
  },
  {
   "cell_type": "code",
   "execution_count": 153,
   "metadata": {},
   "outputs": [
    {
     "data": {
      "text/plain": [
       "array(['exam1', 'exam_1to2', 'exam_1to3', 'exam_2to3'], dtype=object)"
      ]
     },
     "execution_count": 153,
     "metadata": {},
     "output_type": "execute_result"
    }
   ],
   "source": [
    "X_scaled.columns.values"
   ]
  },
  {
   "cell_type": "markdown",
   "metadata": {},
   "source": [
    "### Embedded Methods\n",
    "\n",
    "#### Lasso CV"
   ]
  },
  {
   "cell_type": "code",
   "execution_count": 154,
   "metadata": {},
   "outputs": [
    {
     "data": {
      "text/plain": [
       "LassoCV(alphas=None, copy_X=True, cv='warn', eps=0.001, fit_intercept=True,\n",
       "        max_iter=1000, n_alphas=100, n_jobs=None, normalize=False,\n",
       "        positive=False, precompute='auto', random_state=None,\n",
       "        selection='cyclic', tol=0.0001, verbose=False)"
      ]
     },
     "execution_count": 154,
     "metadata": {},
     "output_type": "execute_result"
    }
   ],
   "source": [
    "from sklearn.linear_model import LassoCV\n",
    "reg = LassoCV()\n",
    "reg.fit(X_scaled, y_train)\n"
   ]
  },
  {
   "cell_type": "code",
   "execution_count": 155,
   "metadata": {},
   "outputs": [
    {
     "data": {
      "text/plain": [
       "0.0032100608599795123"
      ]
     },
     "execution_count": 155,
     "metadata": {},
     "output_type": "execute_result"
    }
   ],
   "source": [
    "reg.alpha_"
   ]
  },
  {
   "cell_type": "code",
   "execution_count": 156,
   "metadata": {},
   "outputs": [
    {
     "data": {
      "text/plain": [
       "0.9744156295905129"
      ]
     },
     "execution_count": 156,
     "metadata": {},
     "output_type": "execute_result"
    }
   ],
   "source": [
    "reg.score(X_scaled, y_train)"
   ]
  },
  {
   "cell_type": "code",
   "execution_count": 157,
   "metadata": {},
   "outputs": [
    {
     "data": {
      "text/plain": [
       "array([37.13390386, -0.        , -5.2032431 , -0.57778213])"
      ]
     },
     "execution_count": 157,
     "metadata": {},
     "output_type": "execute_result"
    }
   ],
   "source": [
    "reg.coef_"
   ]
  },
  {
   "cell_type": "code",
   "execution_count": 158,
   "metadata": {},
   "outputs": [
    {
     "data": {
      "text/html": [
       "<div>\n",
       "<style scoped>\n",
       "    .dataframe tbody tr th:only-of-type {\n",
       "        vertical-align: middle;\n",
       "    }\n",
       "\n",
       "    .dataframe tbody tr th {\n",
       "        vertical-align: top;\n",
       "    }\n",
       "\n",
       "    .dataframe thead th {\n",
       "        text-align: right;\n",
       "    }\n",
       "</style>\n",
       "<table border=\"1\" class=\"dataframe\">\n",
       "  <thead>\n",
       "    <tr style=\"text-align: right;\">\n",
       "      <th></th>\n",
       "      <th>final_grade</th>\n",
       "      <th>yhat</th>\n",
       "    </tr>\n",
       "  </thead>\n",
       "  <tbody>\n",
       "    <tr>\n",
       "      <th>86</th>\n",
       "      <td>77</td>\n",
       "      <td>75.283862</td>\n",
       "    </tr>\n",
       "    <tr>\n",
       "      <th>21</th>\n",
       "      <td>77</td>\n",
       "      <td>75.283862</td>\n",
       "    </tr>\n",
       "    <tr>\n",
       "      <th>31</th>\n",
       "      <td>81</td>\n",
       "      <td>82.699915</td>\n",
       "    </tr>\n",
       "    <tr>\n",
       "      <th>33</th>\n",
       "      <td>76</td>\n",
       "      <td>76.132043</td>\n",
       "    </tr>\n",
       "    <tr>\n",
       "      <th>102</th>\n",
       "      <td>65</td>\n",
       "      <td>66.175167</td>\n",
       "    </tr>\n",
       "  </tbody>\n",
       "</table>\n",
       "</div>"
      ],
      "text/plain": [
       "     final_grade       yhat\n",
       "86            77  75.283862\n",
       "21            77  75.283862\n",
       "31            81  82.699915\n",
       "33            76  76.132043\n",
       "102           65  66.175167"
      ]
     },
     "execution_count": 158,
     "metadata": {},
     "output_type": "execute_result"
    }
   ],
   "source": [
    "y_train['yhat'] = reg.predict(X_scaled)\n",
    "\n",
    "y_train.head()"
   ]
  },
  {
   "cell_type": "code",
   "execution_count": 160,
   "metadata": {},
   "outputs": [
    {
     "data": {
      "text/plain": [
       "<matplotlib.collections.PathCollection at 0x1c241c8908>"
      ]
     },
     "execution_count": 160,
     "metadata": {},
     "output_type": "execute_result"
    },
    {
     "data": {
      "image/png": "[encoded data removed]",
      "text/plain": [
       "<Figure size 432x288 with 1 Axes>"
      ]
     },
     "metadata": {
      "needs_background": "light"
     },
     "output_type": "display_data"
    }
   ],
   "source": [
    "plt.scatter(y_train.final_grade, y_train.yhat)"
   ]
  },
  {
   "cell_type": "code",
   "execution_count": 161,
   "metadata": {},
   "outputs": [
    {
     "data": {
      "text/plain": [
       "2.7892072041606353"
      ]
     },
     "execution_count": 161,
     "metadata": {},
     "output_type": "execute_result"
    }
   ],
   "source": [
    "from sklearn.metrics import mean_squared_error\n",
    "mean_squared_error(y_train.final_grade, y_train.yhat)"
   ]
  },
  {
   "cell_type": "markdown",
   "metadata": {},
   "source": [
    "### PCA"
   ]
  },
  {
   "cell_type": "code",
   "execution_count": 162,
   "metadata": {},
   "outputs": [
    {
     "name": "stdout",
     "output_type": "stream",
     "text": [
      "2\n",
      "81\n",
      "[0.68169599 0.28208848]\n",
      "[[-0.1147069   0.57401947]\n",
      " [-0.1147069   0.57401947]\n",
      " [ 0.14329329  0.80960063]\n",
      " [ 0.15289437 -0.085889  ]\n",
      " [-0.87140374  0.05934817]]\n"
     ]
    }
   ],
   "source": [
    "from sklearn.decomposition import PCA\n",
    "\n",
    "pca = PCA(n_components=2, copy=True, whiten=False, svd_solver='auto', random_state=123)\n",
    "X = pca.fit_transform(X_scaled)\n",
    "print(pca.n_components_)\n",
    "print(len(X))\n",
    "print(pca.explained_variance_ratio_)\n",
    "print(X[0:5])"
   ]
  },
  {
   "cell_type": "code",
   "execution_count": 163,
   "metadata": {},
   "outputs": [
    {
     "data": {
      "text/html": [
       "<div>\n",
       "<style scoped>\n",
       "    .dataframe tbody tr th:only-of-type {\n",
       "        vertical-align: middle;\n",
       "    }\n",
       "\n",
       "    .dataframe tbody tr th {\n",
       "        vertical-align: top;\n",
       "    }\n",
       "\n",
       "    .dataframe thead th {\n",
       "        text-align: right;\n",
       "    }\n",
       "</style>\n",
       "<table border=\"1\" class=\"dataframe\">\n",
       "  <thead>\n",
       "    <tr style=\"text-align: right;\">\n",
       "      <th></th>\n",
       "      <th>0</th>\n",
       "      <th>1</th>\n",
       "    </tr>\n",
       "  </thead>\n",
       "  <tbody>\n",
       "    <tr>\n",
       "      <th>0</th>\n",
       "      <td>-0.114707</td>\n",
       "      <td>0.574019</td>\n",
       "    </tr>\n",
       "    <tr>\n",
       "      <th>1</th>\n",
       "      <td>-0.114707</td>\n",
       "      <td>0.574019</td>\n",
       "    </tr>\n",
       "    <tr>\n",
       "      <th>2</th>\n",
       "      <td>0.143293</td>\n",
       "      <td>0.809601</td>\n",
       "    </tr>\n",
       "    <tr>\n",
       "      <th>3</th>\n",
       "      <td>0.152894</td>\n",
       "      <td>-0.085889</td>\n",
       "    </tr>\n",
       "    <tr>\n",
       "      <th>4</th>\n",
       "      <td>-0.871404</td>\n",
       "      <td>0.059348</td>\n",
       "    </tr>\n",
       "  </tbody>\n",
       "</table>\n",
       "</div>"
      ],
      "text/plain": [
       "          0         1\n",
       "0 -0.114707  0.574019\n",
       "1 -0.114707  0.574019\n",
       "2  0.143293  0.809601\n",
       "3  0.152894 -0.085889\n",
       "4 -0.871404  0.059348"
      ]
     },
     "execution_count": 163,
     "metadata": {},
     "output_type": "execute_result"
    }
   ],
   "source": [
    "X_pc = pd.DataFrame(X)\n",
    "X_pc.head()"
   ]
  },
  {
   "cell_type": "code",
   "execution_count": 90,
   "metadata": {},
   "outputs": [],
   "source": [
    "reg = LinearRegression().fit(X_pc, y_train)\n",
    "y_train['yhat'] = reg.predict(X_pc)"
   ]
  },
  {
   "cell_type": "code",
   "execution_count": 91,
   "metadata": {},
   "outputs": [
    {
     "data": {
      "text/plain": [
       "0.016008114632549742"
      ]
     },
     "execution_count": 91,
     "metadata": {},
     "output_type": "execute_result"
    }
   ],
   "source": [
    "mean_squared_error(y_train.final_grade, y_train.yhat)"
   ]
  },
  {
   "cell_type": "code",
   "execution_count": 92,
   "metadata": {},
   "outputs": [
    {
     "data": {
      "text/html": [
       "<div>\n",
       "<style scoped>\n",
       "    .dataframe tbody tr th:only-of-type {\n",
       "        vertical-align: middle;\n",
       "    }\n",
       "\n",
       "    .dataframe tbody tr th {\n",
       "        vertical-align: top;\n",
       "    }\n",
       "\n",
       "    .dataframe thead th {\n",
       "        text-align: right;\n",
       "    }\n",
       "</style>\n",
       "<table border=\"1\" class=\"dataframe\">\n",
       "  <thead>\n",
       "    <tr style=\"text-align: right;\">\n",
       "      <th></th>\n",
       "      <th>exam1</th>\n",
       "      <th>exam_1to2</th>\n",
       "      <th>exam_1to3</th>\n",
       "      <th>exam_2to3</th>\n",
       "    </tr>\n",
       "  </thead>\n",
       "  <tbody>\n",
       "    <tr>\n",
       "      <th>count</th>\n",
       "      <td>81.000000</td>\n",
       "      <td>81.000000</td>\n",
       "      <td>81.000000</td>\n",
       "      <td>81.000000</td>\n",
       "    </tr>\n",
       "    <tr>\n",
       "      <th>mean</th>\n",
       "      <td>0.464829</td>\n",
       "      <td>0.477366</td>\n",
       "      <td>0.508320</td>\n",
       "      <td>0.674897</td>\n",
       "    </tr>\n",
       "    <tr>\n",
       "      <th>std</th>\n",
       "      <td>0.314244</td>\n",
       "      <td>0.315345</td>\n",
       "      <td>0.274950</td>\n",
       "      <td>0.301502</td>\n",
       "    </tr>\n",
       "    <tr>\n",
       "      <th>min</th>\n",
       "      <td>0.000000</td>\n",
       "      <td>0.000000</td>\n",
       "      <td>0.000000</td>\n",
       "      <td>0.000000</td>\n",
       "    </tr>\n",
       "    <tr>\n",
       "      <th>25%</th>\n",
       "      <td>0.302326</td>\n",
       "      <td>0.166667</td>\n",
       "      <td>0.434783</td>\n",
       "      <td>0.500000</td>\n",
       "    </tr>\n",
       "    <tr>\n",
       "      <th>50%</th>\n",
       "      <td>0.511628</td>\n",
       "      <td>0.611111</td>\n",
       "      <td>0.652174</td>\n",
       "      <td>0.833333</td>\n",
       "    </tr>\n",
       "    <tr>\n",
       "      <th>75%</th>\n",
       "      <td>0.651163</td>\n",
       "      <td>0.611111</td>\n",
       "      <td>0.695652</td>\n",
       "      <td>0.833333</td>\n",
       "    </tr>\n",
       "    <tr>\n",
       "      <th>max</th>\n",
       "      <td>1.000000</td>\n",
       "      <td>1.000000</td>\n",
       "      <td>1.000000</td>\n",
       "      <td>1.000000</td>\n",
       "    </tr>\n",
       "  </tbody>\n",
       "</table>\n",
       "</div>"
      ],
      "text/plain": [
       "           exam1  exam_1to2  exam_1to3  exam_2to3\n",
       "count  81.000000  81.000000  81.000000  81.000000\n",
       "mean    0.464829   0.477366   0.508320   0.674897\n",
       "std     0.314244   0.315345   0.274950   0.301502\n",
       "min     0.000000   0.000000   0.000000   0.000000\n",
       "25%     0.302326   0.166667   0.434783   0.500000\n",
       "50%     0.511628   0.611111   0.652174   0.833333\n",
       "75%     0.651163   0.611111   0.695652   0.833333\n",
       "max     1.000000   1.000000   1.000000   1.000000"
      ]
     },
     "execution_count": 92,
     "metadata": {},
     "output_type": "execute_result"
    }
   ],
   "source": [
    "X_train.describe()"
   ]
  },
  {
   "cell_type": "code",
   "execution_count": 93,
   "metadata": {},
   "outputs": [
    {
     "data": {
      "text/html": [
       "<div>\n",
       "<style scoped>\n",
       "    .dataframe tbody tr th:only-of-type {\n",
       "        vertical-align: middle;\n",
       "    }\n",
       "\n",
       "    .dataframe tbody tr th {\n",
       "        vertical-align: top;\n",
       "    }\n",
       "\n",
       "    .dataframe thead th {\n",
       "        text-align: right;\n",
       "    }\n",
       "</style>\n",
       "<table border=\"1\" class=\"dataframe\">\n",
       "  <thead>\n",
       "    <tr style=\"text-align: right;\">\n",
       "      <th></th>\n",
       "      <th>0</th>\n",
       "      <th>1</th>\n",
       "    </tr>\n",
       "  </thead>\n",
       "  <tbody>\n",
       "    <tr>\n",
       "      <th>count</th>\n",
       "      <td>8.100000e+01</td>\n",
       "      <td>8.100000e+01</td>\n",
       "    </tr>\n",
       "    <tr>\n",
       "      <th>mean</th>\n",
       "      <td>-1.987436e-17</td>\n",
       "      <td>-5.418334e-17</td>\n",
       "    </tr>\n",
       "    <tr>\n",
       "      <th>std</th>\n",
       "      <td>4.986079e-01</td>\n",
       "      <td>3.207424e-01</td>\n",
       "    </tr>\n",
       "    <tr>\n",
       "      <th>min</th>\n",
       "      <td>-8.714037e-01</td>\n",
       "      <td>-4.193818e-01</td>\n",
       "    </tr>\n",
       "    <tr>\n",
       "      <th>25%</th>\n",
       "      <td>-2.363312e-01</td>\n",
       "      <td>-1.972840e-01</td>\n",
       "    </tr>\n",
       "    <tr>\n",
       "      <th>50%</th>\n",
       "      <td>1.528944e-01</td>\n",
       "      <td>-2.961139e-02</td>\n",
       "    </tr>\n",
       "    <tr>\n",
       "      <th>75%</th>\n",
       "      <td>3.087946e-01</td>\n",
       "      <td>4.778478e-02</td>\n",
       "    </tr>\n",
       "    <tr>\n",
       "      <th>max</th>\n",
       "      <td>9.077345e-01</td>\n",
       "      <td>8.096006e-01</td>\n",
       "    </tr>\n",
       "  </tbody>\n",
       "</table>\n",
       "</div>"
      ],
      "text/plain": [
       "                  0             1\n",
       "count  8.100000e+01  8.100000e+01\n",
       "mean  -1.987436e-17 -5.418334e-17\n",
       "std    4.986079e-01  3.207424e-01\n",
       "min   -8.714037e-01 -4.193818e-01\n",
       "25%   -2.363312e-01 -1.972840e-01\n",
       "50%    1.528944e-01 -2.961139e-02\n",
       "75%    3.087946e-01  4.778478e-02\n",
       "max    9.077345e-01  8.096006e-01"
      ]
     },
     "execution_count": 93,
     "metadata": {},
     "output_type": "execute_result"
    }
   ],
   "source": [
    "X_pc.describe()"
   ]
  }
 ],
 "metadata": {
  "kernelspec": {
   "display_name": "Python 3",
   "language": "python",
   "name": "python3"
  },
  "language_info": {
   "codemirror_mode": {
    "name": "ipython",
    "version": 3
   },
   "file_extension": ".py",
   "mimetype": "text/x-python",
   "name": "python",
   "nbconvert_exporter": "python",
   "pygments_lexer": "ipython3",
   "version": "3.6.8"
  }
 },
 "nbformat": 4,
 "nbformat_minor": 2
}
