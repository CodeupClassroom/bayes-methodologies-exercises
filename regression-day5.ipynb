{
 "cells": [
  {
   "cell_type": "markdown",
   "metadata": {},
   "source": [
    "We finally get to fit the model to our grade data and\n",
    "see how well it does at predicting the final grade"
   ]
  },
  {
   "cell_type": "code",
   "execution_count": 1,
   "metadata": {},
   "outputs": [],
   "source": [
    "import pandas as pd\n",
    "import numpy as np\n",
    "import matplotlib.pyplot as plt\n",
    "import seaborn as sns\n",
    "from sklearn.model_selection import train_test_split\n",
    "from sklearn.metrics import mean_squared_error,r2_score,explained_variance_score\n",
    "from sklearn.preprocessing import StandardScaler,MinMaxScaler\n",
    "from sklearn.linear_model import LinearRegression\n",
    "from math import sqrt\n",
    "import warnings\n",
    "warnings.filterwarnings(\"ignore\")\n",
    "\n",
    "#bring in all your previous parts of data science workflow to use in final modeling\n",
    "import env\n",
    "import wrangle_grades\n",
    "import split_scale\n",
    "import features"
   ]
  },
  {
   "cell_type": "code",
   "execution_count": 2,
   "metadata": {},
   "outputs": [
    {
     "data": {
      "text/html": [
       "<div>\n",
       "<style scoped>\n",
       "    .dataframe tbody tr th:only-of-type {\n",
       "        vertical-align: middle;\n",
       "    }\n",
       "\n",
       "    .dataframe tbody tr th {\n",
       "        vertical-align: top;\n",
       "    }\n",
       "\n",
       "    .dataframe thead th {\n",
       "        text-align: right;\n",
       "    }\n",
       "</style>\n",
       "<table border=\"1\" class=\"dataframe\">\n",
       "  <thead>\n",
       "    <tr style=\"text-align: right;\">\n",
       "      <th></th>\n",
       "      <th>exam1</th>\n",
       "      <th>exam2</th>\n",
       "      <th>exam3</th>\n",
       "      <th>final_grade</th>\n",
       "    </tr>\n",
       "  </thead>\n",
       "  <tbody>\n",
       "    <tr>\n",
       "      <th>0</th>\n",
       "      <td>100</td>\n",
       "      <td>90</td>\n",
       "      <td>95</td>\n",
       "      <td>96</td>\n",
       "    </tr>\n",
       "    <tr>\n",
       "      <th>1</th>\n",
       "      <td>98</td>\n",
       "      <td>93</td>\n",
       "      <td>96</td>\n",
       "      <td>95</td>\n",
       "    </tr>\n",
       "    <tr>\n",
       "      <th>2</th>\n",
       "      <td>85</td>\n",
       "      <td>83</td>\n",
       "      <td>87</td>\n",
       "      <td>87</td>\n",
       "    </tr>\n",
       "    <tr>\n",
       "      <th>3</th>\n",
       "      <td>83</td>\n",
       "      <td>80</td>\n",
       "      <td>86</td>\n",
       "      <td>85</td>\n",
       "    </tr>\n",
       "    <tr>\n",
       "      <th>4</th>\n",
       "      <td>93</td>\n",
       "      <td>90</td>\n",
       "      <td>96</td>\n",
       "      <td>97</td>\n",
       "    </tr>\n",
       "  </tbody>\n",
       "</table>\n",
       "</div>"
      ],
      "text/plain": [
       "   exam1  exam2  exam3  final_grade\n",
       "0    100     90     95           96\n",
       "1     98     93     96           95\n",
       "2     85     83     87           87\n",
       "3     83     80     86           85\n",
       "4     93     90     96           97"
      ]
     },
     "execution_count": 2,
     "metadata": {},
     "output_type": "execute_result"
    }
   ],
   "source": [
    "df=wrangle_grades.wrangle_grades()\n",
    "df.head()"
   ]
  },
  {
   "cell_type": "code",
   "execution_count": 3,
   "metadata": {},
   "outputs": [
    {
     "name": "stdout",
     "output_type": "stream",
     "text": [
      "<class 'pandas.core.frame.DataFrame'>\n",
      "Int64Index: 102 entries, 0 to 103\n",
      "Data columns (total 4 columns):\n",
      "exam1          102 non-null int64\n",
      "exam2          102 non-null int64\n",
      "exam3          102 non-null int64\n",
      "final_grade    102 non-null int64\n",
      "dtypes: int64(4)\n",
      "memory usage: 4.0 KB\n"
     ]
    }
   ],
   "source": [
    "df.info()"
   ]
  },
  {
   "cell_type": "code",
   "execution_count": 4,
   "metadata": {},
   "outputs": [],
   "source": [
    "train,test=split_scale.split_my_data(df)"
   ]
  },
  {
   "cell_type": "code",
   "execution_count": 5,
   "metadata": {},
   "outputs": [],
   "source": [
    "scaler,train,test=split_scale.standard_scaler(train,test)"
   ]
  },
  {
   "cell_type": "code",
   "execution_count": 6,
   "metadata": {},
   "outputs": [],
   "source": [
    "X_train=train.drop(columns=['final_grade'])\n",
    "X_test=test.drop(columns=['final_grade'])\n",
    "y_train=train[['final_grade']]\n",
    "y_test=test[['final_grade']]"
   ]
  },
  {
   "cell_type": "code",
   "execution_count": 7,
   "metadata": {},
   "outputs": [],
   "source": [
    "number_of_features=features.optimal_number_of_features(X_train,y_train,X_test,y_test)\n",
    "selected_features=features.optimal_features(X_train,y_train,number_of_features)\n",
    "selected_features\n",
    "X_train=X_train[selected_features]\n",
    "X_test=X_test[selected_features]"
   ]
  },
  {
   "cell_type": "markdown",
   "metadata": {},
   "source": [
    "Now that all the preprocessing and feature engineering is done we can fit the Linear Regression"
   ]
  },
  {
   "cell_type": "code",
   "execution_count": 8,
   "metadata": {},
   "outputs": [
    {
     "data": {
      "text/plain": [
       "LinearRegression(copy_X=True, fit_intercept=True, n_jobs=None,\n",
       "         normalize=False)"
      ]
     },
     "execution_count": 8,
     "metadata": {},
     "output_type": "execute_result"
    }
   ],
   "source": [
    "lm1=LinearRegression()\n",
    "lm1.fit(X_train,y_train)"
   ]
  },
  {
   "cell_type": "markdown",
   "metadata": {},
   "source": [
    "Let's look at the values the lm model generates"
   ]
  },
  {
   "cell_type": "code",
   "execution_count": 9,
   "metadata": {},
   "outputs": [
    {
     "name": "stdout",
     "output_type": "stream",
     "text": [
      "intercept:  [1.50378128e-16]\n",
      "coefficents:  [[0.78888818 0.20816561]]\n"
     ]
    }
   ],
   "source": [
    "lm1_y_intercept=lm1.intercept_\n",
    "print(\"intercept: \",lm1_y_intercept)\n",
    "lm1_coefficents=lm1.coef_\n",
    "print(\"coefficents: \",lm1_coefficents)"
   ]
  },
  {
   "cell_type": "code",
   "execution_count": 12,
   "metadata": {},
   "outputs": [
    {
     "name": "stdout",
     "output_type": "stream",
     "text": [
      "final_grade=b+m1*exam1+m2*exam3\n"
     ]
    }
   ],
   "source": [
    "#regression equation where m1 and m2 are coefficents from above and b is intercept\n",
    "print('{}=b+m1*{}+m2*{}'.format(y_train.columns[0],X_train.columns[0],X_train.columns[1]))"
   ]
  },
  {
   "cell_type": "code",
   "execution_count": 13,
   "metadata": {},
   "outputs": [],
   "source": [
    "#Note that the curriculum does not use the right X split\n",
    "y_pred_lm1=lm1.predict(X_test)"
   ]
  },
  {
   "cell_type": "code",
   "execution_count": 22,
   "metadata": {},
   "outputs": [
    {
     "name": "stdout",
     "output_type": "stream",
     "text": [
      "linear model \n",
      " mean_squared error: 0.0379\n",
      "96.80% of the variance in the students final grade can be explained by the grades on exam1 and exam 3\n"
     ]
    }
   ],
   "source": [
    "mse_lm1=mean_squared_error(y_test,y_pred_lm1)\n",
    "print(\"linear model \\n mean_squared error: {:.3}\".format(mse_lm1))\n",
    "\n",
    "r2_lm1=r2_score(y_test,y_pred_lm1)\n",
    "print('{:.2%} of the variance in the student''s final grade can be explained by the grades on exam1 and exam 3'.format(r2_lm1))\n"
   ]
  },
  {
   "cell_type": "code",
   "execution_count": 29,
   "metadata": {},
   "outputs": [],
   "source": [
    "#Establishing the baseline model for comparison\n",
    "y_pred_baseline=np.array([y_test.mean()[0]]*len(y_test))\n",
    "MSE = mean_squared_error(y_test, y_pred_baseline)\n",
    "SSE = MSE*len(y_test)\n",
    "RMSE = sqrt(MSE)\n",
    "evs=explained_variance_score(y_test,y_pred_baseline)"
   ]
  },
  {
   "cell_type": "code",
   "execution_count": 33,
   "metadata": {},
   "outputs": [
    {
     "name": "stdout",
     "output_type": "stream",
     "text": [
      "0.0\n",
      "24.85084322622909\n"
     ]
    }
   ],
   "source": [
    "print(evs)\n",
    "print(SSE)"
   ]
  },
  {
   "cell_type": "code",
   "execution_count": 48,
   "metadata": {},
   "outputs": [],
   "source": [
    "test_unscaled=pd.DataFrame(scaler.inverse_transform(test),columns=test.columns.values).set_index([test.index.values])\n",
    "y_unscaled=test_unscaled['final_grade']\n",
    "\n",
    "test_pred['final_grade']=y_pred_lm1\n",
    "test_pred1=pd.DataFrame(scaler.inverse_transform(test_pred),columns=test.columns.values).set_index([test.index.values])\n",
    "y_lm1_unscaled = test_pred1['final_grade']\n",
    "\n",
    "\n",
    "test_pred_baseline = test.drop(columns='final_grade')\n",
    "test_pred_baseline['final_grade'] = y_pred_baseline\n",
    "test_pred_baseline = pd.DataFrame(scaler.inverse_transform(test_pred_baseline), columns=test.columns.values).set_index([test.index.values])\n",
    "y_baseline_unscaled = test_pred_baseline['final_grade']"
   ]
  },
  {
   "cell_type": "code",
   "execution_count": 49,
   "metadata": {},
   "outputs": [
    {
     "data": {
      "text/html": [
       "<div>\n",
       "<style scoped>\n",
       "    .dataframe tbody tr th:only-of-type {\n",
       "        vertical-align: middle;\n",
       "    }\n",
       "\n",
       "    .dataframe tbody tr th {\n",
       "        vertical-align: top;\n",
       "    }\n",
       "\n",
       "    .dataframe thead th {\n",
       "        text-align: right;\n",
       "    }\n",
       "</style>\n",
       "<table border=\"1\" class=\"dataframe\">\n",
       "  <thead>\n",
       "    <tr style=\"text-align: right;\">\n",
       "      <th></th>\n",
       "      <th>actual</th>\n",
       "      <th>lm1</th>\n",
       "      <th>lm_baseline</th>\n",
       "    </tr>\n",
       "  </thead>\n",
       "  <tbody>\n",
       "    <tr>\n",
       "      <th>10</th>\n",
       "      <td>68.0</td>\n",
       "      <td>65.528539</td>\n",
       "      <td>86.52381</td>\n",
       "    </tr>\n",
       "    <tr>\n",
       "      <th>73</th>\n",
       "      <td>77.0</td>\n",
       "      <td>74.974967</td>\n",
       "      <td>86.52381</td>\n",
       "    </tr>\n",
       "    <tr>\n",
       "      <th>91</th>\n",
       "      <td>96.0</td>\n",
       "      <td>97.808844</td>\n",
       "      <td>86.52381</td>\n",
       "    </tr>\n",
       "    <tr>\n",
       "      <th>30</th>\n",
       "      <td>97.0</td>\n",
       "      <td>93.775905</td>\n",
       "      <td>86.52381</td>\n",
       "    </tr>\n",
       "    <tr>\n",
       "      <th>65</th>\n",
       "      <td>96.0</td>\n",
       "      <td>97.808844</td>\n",
       "      <td>86.52381</td>\n",
       "    </tr>\n",
       "    <tr>\n",
       "      <th>0</th>\n",
       "      <td>96.0</td>\n",
       "      <td>97.808844</td>\n",
       "      <td>86.52381</td>\n",
       "    </tr>\n",
       "    <tr>\n",
       "      <th>5</th>\n",
       "      <td>81.0</td>\n",
       "      <td>82.320520</td>\n",
       "      <td>86.52381</td>\n",
       "    </tr>\n",
       "    <tr>\n",
       "      <th>52</th>\n",
       "      <td>96.0</td>\n",
       "      <td>97.808844</td>\n",
       "      <td>86.52381</td>\n",
       "    </tr>\n",
       "    <tr>\n",
       "      <th>84</th>\n",
       "      <td>93.0</td>\n",
       "      <td>92.641061</td>\n",
       "      <td>86.52381</td>\n",
       "    </tr>\n",
       "    <tr>\n",
       "      <th>4</th>\n",
       "      <td>97.0</td>\n",
       "      <td>93.775905</td>\n",
       "      <td>86.52381</td>\n",
       "    </tr>\n",
       "    <tr>\n",
       "      <th>25</th>\n",
       "      <td>72.0</td>\n",
       "      <td>74.974967</td>\n",
       "      <td>86.52381</td>\n",
       "    </tr>\n",
       "    <tr>\n",
       "      <th>67</th>\n",
       "      <td>87.0</td>\n",
       "      <td>86.522271</td>\n",
       "      <td>86.52381</td>\n",
       "    </tr>\n",
       "    <tr>\n",
       "      <th>79</th>\n",
       "      <td>95.0</td>\n",
       "      <td>96.842812</td>\n",
       "      <td>86.52381</td>\n",
       "    </tr>\n",
       "    <tr>\n",
       "      <th>62</th>\n",
       "      <td>68.0</td>\n",
       "      <td>65.528539</td>\n",
       "      <td>86.52381</td>\n",
       "    </tr>\n",
       "    <tr>\n",
       "      <th>26</th>\n",
       "      <td>96.0</td>\n",
       "      <td>97.808844</td>\n",
       "      <td>86.52381</td>\n",
       "    </tr>\n",
       "    <tr>\n",
       "      <th>44</th>\n",
       "      <td>81.0</td>\n",
       "      <td>82.320520</td>\n",
       "      <td>86.52381</td>\n",
       "    </tr>\n",
       "    <tr>\n",
       "      <th>90</th>\n",
       "      <td>72.0</td>\n",
       "      <td>74.974967</td>\n",
       "      <td>86.52381</td>\n",
       "    </tr>\n",
       "    <tr>\n",
       "      <th>40</th>\n",
       "      <td>95.0</td>\n",
       "      <td>96.842812</td>\n",
       "      <td>86.52381</td>\n",
       "    </tr>\n",
       "    <tr>\n",
       "      <th>58</th>\n",
       "      <td>93.0</td>\n",
       "      <td>92.641061</td>\n",
       "      <td>86.52381</td>\n",
       "    </tr>\n",
       "    <tr>\n",
       "      <th>78</th>\n",
       "      <td>96.0</td>\n",
       "      <td>97.808844</td>\n",
       "      <td>86.52381</td>\n",
       "    </tr>\n",
       "    <tr>\n",
       "      <th>37</th>\n",
       "      <td>65.0</td>\n",
       "      <td>66.218814</td>\n",
       "      <td>86.52381</td>\n",
       "    </tr>\n",
       "  </tbody>\n",
       "</table>\n",
       "</div>"
      ],
      "text/plain": [
       "    actual        lm1  lm_baseline\n",
       "10    68.0  65.528539     86.52381\n",
       "73    77.0  74.974967     86.52381\n",
       "91    96.0  97.808844     86.52381\n",
       "30    97.0  93.775905     86.52381\n",
       "65    96.0  97.808844     86.52381\n",
       "0     96.0  97.808844     86.52381\n",
       "5     81.0  82.320520     86.52381\n",
       "52    96.0  97.808844     86.52381\n",
       "84    93.0  92.641061     86.52381\n",
       "4     97.0  93.775905     86.52381\n",
       "25    72.0  74.974967     86.52381\n",
       "67    87.0  86.522271     86.52381\n",
       "79    95.0  96.842812     86.52381\n",
       "62    68.0  65.528539     86.52381\n",
       "26    96.0  97.808844     86.52381\n",
       "44    81.0  82.320520     86.52381\n",
       "90    72.0  74.974967     86.52381\n",
       "40    95.0  96.842812     86.52381\n",
       "58    93.0  92.641061     86.52381\n",
       "78    96.0  97.808844     86.52381\n",
       "37    65.0  66.218814     86.52381"
      ]
     },
     "execution_count": 49,
     "metadata": {},
     "output_type": "execute_result"
    }
   ],
   "source": [
    "pd.DataFrame({'actual': y_unscaled,\n",
    "             'lm1': y_lm1_unscaled.ravel(),\n",
    "             'lm_baseline':y_baseline_unscaled.ravel()})"
   ]
  },
  {
   "cell_type": "code",
   "execution_count": 45,
   "metadata": {},
   "outputs": [
    {
     "data": {
      "text/plain": [
       "array([65.52853943, 74.97496743, 97.80884353, 93.77590457, 97.80884353,\n",
       "       97.80884353, 82.32051973, 97.80884353, 92.6410605 , 93.77590457,\n",
       "       74.97496743, 86.52227113, 96.8428119 , 65.52853943, 97.80884353,\n",
       "       82.32051973, 74.97496743, 96.8428119 , 92.6410605 , 97.80884353,\n",
       "       66.21881448])"
      ]
     },
     "execution_count": 45,
     "metadata": {},
     "output_type": "execute_result"
    }
   ],
   "source": [
    "y_lm1_unscaled.ravel()"
   ]
  },
  {
   "cell_type": "code",
   "execution_count": 46,
   "metadata": {},
   "outputs": [
    {
     "data": {
      "text/plain": [
       "array([86.52380952, 86.52380952, 86.52380952, 86.52380952, 86.52380952,\n",
       "       86.52380952, 86.52380952, 86.52380952, 86.52380952, 86.52380952,\n",
       "       86.52380952, 86.52380952, 86.52380952, 86.52380952, 86.52380952,\n",
       "       86.52380952, 86.52380952, 86.52380952, 86.52380952, 86.52380952,\n",
       "       86.52380952])"
      ]
     },
     "execution_count": 46,
     "metadata": {},
     "output_type": "execute_result"
    }
   ],
   "source": [
    "y_baseline_unscaled.ravel()"
   ]
  },
  {
   "cell_type": "code",
   "execution_count": 50,
   "metadata": {},
   "outputs": [
    {
     "data": {
      "text/html": [
       "<div>\n",
       "<style scoped>\n",
       "    .dataframe tbody tr th:only-of-type {\n",
       "        vertical-align: middle;\n",
       "    }\n",
       "\n",
       "    .dataframe tbody tr th {\n",
       "        vertical-align: top;\n",
       "    }\n",
       "\n",
       "    .dataframe thead th {\n",
       "        text-align: right;\n",
       "    }\n",
       "</style>\n",
       "<table border=\"1\" class=\"dataframe\">\n",
       "  <thead>\n",
       "    <tr style=\"text-align: right;\">\n",
       "      <th></th>\n",
       "      <th>actual</th>\n",
       "      <th>model</th>\n",
       "      <th>prediction</th>\n",
       "    </tr>\n",
       "  </thead>\n",
       "  <tbody>\n",
       "    <tr>\n",
       "      <th>0</th>\n",
       "      <td>68.0</td>\n",
       "      <td>lm1</td>\n",
       "      <td>65.528539</td>\n",
       "    </tr>\n",
       "    <tr>\n",
       "      <th>1</th>\n",
       "      <td>77.0</td>\n",
       "      <td>lm1</td>\n",
       "      <td>74.974967</td>\n",
       "    </tr>\n",
       "    <tr>\n",
       "      <th>2</th>\n",
       "      <td>96.0</td>\n",
       "      <td>lm1</td>\n",
       "      <td>97.808844</td>\n",
       "    </tr>\n",
       "    <tr>\n",
       "      <th>3</th>\n",
       "      <td>97.0</td>\n",
       "      <td>lm1</td>\n",
       "      <td>93.775905</td>\n",
       "    </tr>\n",
       "    <tr>\n",
       "      <th>4</th>\n",
       "      <td>96.0</td>\n",
       "      <td>lm1</td>\n",
       "      <td>97.808844</td>\n",
       "    </tr>\n",
       "    <tr>\n",
       "      <th>5</th>\n",
       "      <td>96.0</td>\n",
       "      <td>lm1</td>\n",
       "      <td>97.808844</td>\n",
       "    </tr>\n",
       "    <tr>\n",
       "      <th>6</th>\n",
       "      <td>81.0</td>\n",
       "      <td>lm1</td>\n",
       "      <td>82.320520</td>\n",
       "    </tr>\n",
       "    <tr>\n",
       "      <th>7</th>\n",
       "      <td>96.0</td>\n",
       "      <td>lm1</td>\n",
       "      <td>97.808844</td>\n",
       "    </tr>\n",
       "    <tr>\n",
       "      <th>8</th>\n",
       "      <td>93.0</td>\n",
       "      <td>lm1</td>\n",
       "      <td>92.641061</td>\n",
       "    </tr>\n",
       "    <tr>\n",
       "      <th>9</th>\n",
       "      <td>97.0</td>\n",
       "      <td>lm1</td>\n",
       "      <td>93.775905</td>\n",
       "    </tr>\n",
       "    <tr>\n",
       "      <th>10</th>\n",
       "      <td>72.0</td>\n",
       "      <td>lm1</td>\n",
       "      <td>74.974967</td>\n",
       "    </tr>\n",
       "    <tr>\n",
       "      <th>11</th>\n",
       "      <td>87.0</td>\n",
       "      <td>lm1</td>\n",
       "      <td>86.522271</td>\n",
       "    </tr>\n",
       "    <tr>\n",
       "      <th>12</th>\n",
       "      <td>95.0</td>\n",
       "      <td>lm1</td>\n",
       "      <td>96.842812</td>\n",
       "    </tr>\n",
       "    <tr>\n",
       "      <th>13</th>\n",
       "      <td>68.0</td>\n",
       "      <td>lm1</td>\n",
       "      <td>65.528539</td>\n",
       "    </tr>\n",
       "    <tr>\n",
       "      <th>14</th>\n",
       "      <td>96.0</td>\n",
       "      <td>lm1</td>\n",
       "      <td>97.808844</td>\n",
       "    </tr>\n",
       "    <tr>\n",
       "      <th>15</th>\n",
       "      <td>81.0</td>\n",
       "      <td>lm1</td>\n",
       "      <td>82.320520</td>\n",
       "    </tr>\n",
       "    <tr>\n",
       "      <th>16</th>\n",
       "      <td>72.0</td>\n",
       "      <td>lm1</td>\n",
       "      <td>74.974967</td>\n",
       "    </tr>\n",
       "    <tr>\n",
       "      <th>17</th>\n",
       "      <td>95.0</td>\n",
       "      <td>lm1</td>\n",
       "      <td>96.842812</td>\n",
       "    </tr>\n",
       "    <tr>\n",
       "      <th>18</th>\n",
       "      <td>93.0</td>\n",
       "      <td>lm1</td>\n",
       "      <td>92.641061</td>\n",
       "    </tr>\n",
       "    <tr>\n",
       "      <th>19</th>\n",
       "      <td>96.0</td>\n",
       "      <td>lm1</td>\n",
       "      <td>97.808844</td>\n",
       "    </tr>\n",
       "    <tr>\n",
       "      <th>20</th>\n",
       "      <td>65.0</td>\n",
       "      <td>lm1</td>\n",
       "      <td>66.218814</td>\n",
       "    </tr>\n",
       "    <tr>\n",
       "      <th>21</th>\n",
       "      <td>68.0</td>\n",
       "      <td>lm_baseline</td>\n",
       "      <td>86.523810</td>\n",
       "    </tr>\n",
       "    <tr>\n",
       "      <th>22</th>\n",
       "      <td>77.0</td>\n",
       "      <td>lm_baseline</td>\n",
       "      <td>86.523810</td>\n",
       "    </tr>\n",
       "    <tr>\n",
       "      <th>23</th>\n",
       "      <td>96.0</td>\n",
       "      <td>lm_baseline</td>\n",
       "      <td>86.523810</td>\n",
       "    </tr>\n",
       "    <tr>\n",
       "      <th>24</th>\n",
       "      <td>97.0</td>\n",
       "      <td>lm_baseline</td>\n",
       "      <td>86.523810</td>\n",
       "    </tr>\n",
       "    <tr>\n",
       "      <th>25</th>\n",
       "      <td>96.0</td>\n",
       "      <td>lm_baseline</td>\n",
       "      <td>86.523810</td>\n",
       "    </tr>\n",
       "    <tr>\n",
       "      <th>26</th>\n",
       "      <td>96.0</td>\n",
       "      <td>lm_baseline</td>\n",
       "      <td>86.523810</td>\n",
       "    </tr>\n",
       "    <tr>\n",
       "      <th>27</th>\n",
       "      <td>81.0</td>\n",
       "      <td>lm_baseline</td>\n",
       "      <td>86.523810</td>\n",
       "    </tr>\n",
       "    <tr>\n",
       "      <th>28</th>\n",
       "      <td>96.0</td>\n",
       "      <td>lm_baseline</td>\n",
       "      <td>86.523810</td>\n",
       "    </tr>\n",
       "    <tr>\n",
       "      <th>29</th>\n",
       "      <td>93.0</td>\n",
       "      <td>lm_baseline</td>\n",
       "      <td>86.523810</td>\n",
       "    </tr>\n",
       "    <tr>\n",
       "      <th>30</th>\n",
       "      <td>97.0</td>\n",
       "      <td>lm_baseline</td>\n",
       "      <td>86.523810</td>\n",
       "    </tr>\n",
       "    <tr>\n",
       "      <th>31</th>\n",
       "      <td>72.0</td>\n",
       "      <td>lm_baseline</td>\n",
       "      <td>86.523810</td>\n",
       "    </tr>\n",
       "    <tr>\n",
       "      <th>32</th>\n",
       "      <td>87.0</td>\n",
       "      <td>lm_baseline</td>\n",
       "      <td>86.523810</td>\n",
       "    </tr>\n",
       "    <tr>\n",
       "      <th>33</th>\n",
       "      <td>95.0</td>\n",
       "      <td>lm_baseline</td>\n",
       "      <td>86.523810</td>\n",
       "    </tr>\n",
       "    <tr>\n",
       "      <th>34</th>\n",
       "      <td>68.0</td>\n",
       "      <td>lm_baseline</td>\n",
       "      <td>86.523810</td>\n",
       "    </tr>\n",
       "    <tr>\n",
       "      <th>35</th>\n",
       "      <td>96.0</td>\n",
       "      <td>lm_baseline</td>\n",
       "      <td>86.523810</td>\n",
       "    </tr>\n",
       "    <tr>\n",
       "      <th>36</th>\n",
       "      <td>81.0</td>\n",
       "      <td>lm_baseline</td>\n",
       "      <td>86.523810</td>\n",
       "    </tr>\n",
       "    <tr>\n",
       "      <th>37</th>\n",
       "      <td>72.0</td>\n",
       "      <td>lm_baseline</td>\n",
       "      <td>86.523810</td>\n",
       "    </tr>\n",
       "    <tr>\n",
       "      <th>38</th>\n",
       "      <td>95.0</td>\n",
       "      <td>lm_baseline</td>\n",
       "      <td>86.523810</td>\n",
       "    </tr>\n",
       "    <tr>\n",
       "      <th>39</th>\n",
       "      <td>93.0</td>\n",
       "      <td>lm_baseline</td>\n",
       "      <td>86.523810</td>\n",
       "    </tr>\n",
       "    <tr>\n",
       "      <th>40</th>\n",
       "      <td>96.0</td>\n",
       "      <td>lm_baseline</td>\n",
       "      <td>86.523810</td>\n",
       "    </tr>\n",
       "    <tr>\n",
       "      <th>41</th>\n",
       "      <td>65.0</td>\n",
       "      <td>lm_baseline</td>\n",
       "      <td>86.523810</td>\n",
       "    </tr>\n",
       "  </tbody>\n",
       "</table>\n",
       "</div>"
      ],
      "text/plain": [
       "    actual        model  prediction\n",
       "0     68.0          lm1   65.528539\n",
       "1     77.0          lm1   74.974967\n",
       "2     96.0          lm1   97.808844\n",
       "3     97.0          lm1   93.775905\n",
       "4     96.0          lm1   97.808844\n",
       "5     96.0          lm1   97.808844\n",
       "6     81.0          lm1   82.320520\n",
       "7     96.0          lm1   97.808844\n",
       "8     93.0          lm1   92.641061\n",
       "9     97.0          lm1   93.775905\n",
       "10    72.0          lm1   74.974967\n",
       "11    87.0          lm1   86.522271\n",
       "12    95.0          lm1   96.842812\n",
       "13    68.0          lm1   65.528539\n",
       "14    96.0          lm1   97.808844\n",
       "15    81.0          lm1   82.320520\n",
       "16    72.0          lm1   74.974967\n",
       "17    95.0          lm1   96.842812\n",
       "18    93.0          lm1   92.641061\n",
       "19    96.0          lm1   97.808844\n",
       "20    65.0          lm1   66.218814\n",
       "21    68.0  lm_baseline   86.523810\n",
       "22    77.0  lm_baseline   86.523810\n",
       "23    96.0  lm_baseline   86.523810\n",
       "24    97.0  lm_baseline   86.523810\n",
       "25    96.0  lm_baseline   86.523810\n",
       "26    96.0  lm_baseline   86.523810\n",
       "27    81.0  lm_baseline   86.523810\n",
       "28    96.0  lm_baseline   86.523810\n",
       "29    93.0  lm_baseline   86.523810\n",
       "30    97.0  lm_baseline   86.523810\n",
       "31    72.0  lm_baseline   86.523810\n",
       "32    87.0  lm_baseline   86.523810\n",
       "33    95.0  lm_baseline   86.523810\n",
       "34    68.0  lm_baseline   86.523810\n",
       "35    96.0  lm_baseline   86.523810\n",
       "36    81.0  lm_baseline   86.523810\n",
       "37    72.0  lm_baseline   86.523810\n",
       "38    95.0  lm_baseline   86.523810\n",
       "39    93.0  lm_baseline   86.523810\n",
       "40    96.0  lm_baseline   86.523810\n",
       "41    65.0  lm_baseline   86.523810"
      ]
     },
     "execution_count": 50,
     "metadata": {},
     "output_type": "execute_result"
    }
   ],
   "source": [
    "pd.DataFrame({'actual': y_unscaled,\n",
    "             'lm1': y_lm1_unscaled.ravel(),\n",
    "             'lm_baseline':y_baseline_unscaled.ravel()})\\\n",
    ".melt(id_vars=['actual'],var_name='model',value_name='prediction')"
   ]
  },
  {
   "cell_type": "code",
   "execution_count": 52,
   "metadata": {},
   "outputs": [
    {
     "data": {
      "text/plain": [
       "Text(0.5, 1.0, 'Predicted vs Actual Final Grade')"
      ]
     },
     "execution_count": 52,
     "metadata": {},
     "output_type": "execute_result"
    },
    {
     "data": {
      "image/png": "[encoded data removed]",
      "text/plain": [
       "<Figure size 455.5x360 with 1 Axes>"
      ]
     },
     "metadata": {
      "needs_background": "light"
     },
     "output_type": "display_data"
    }
   ],
   "source": [
    "pd.DataFrame({'actual': y_unscaled,\n",
    "             'lm1': y_lm1_unscaled.ravel(),\n",
    "             'lm_baseline':y_baseline_unscaled.ravel()})\\\n",
    ".melt(id_vars=['actual'],var_name='model',value_name='prediction')\\\n",
    ".pipe((sns.relplot,'data'),x='actual',y='prediction',hue='model')\n",
    "min, max = 60, 100\n",
    "plt.plot([min, max], [min, max], c='black', ls=':')\n",
    "plt.ylim(min, max)\n",
    "plt.xlim(min, max)\n",
    "plt.title('Predicted vs Actual Final Grade')"
   ]
  },
  {
   "cell_type": "code",
   "execution_count": null,
   "metadata": {},
   "outputs": [],
   "source": []
  }
 ],
 "metadata": {
  "kernelspec": {
   "display_name": "Python 3",
   "language": "python",
   "name": "python3"
  },
  "language_info": {
   "codemirror_mode": {
    "name": "ipython",
    "version": 3
   },
   "file_extension": ".py",
   "mimetype": "text/x-python",
   "name": "python",
   "nbconvert_exporter": "python",
   "pygments_lexer": "ipython3",
   "version": "3.7.3"
  }
 },
 "nbformat": 4,
 "nbformat_minor": 2
}
