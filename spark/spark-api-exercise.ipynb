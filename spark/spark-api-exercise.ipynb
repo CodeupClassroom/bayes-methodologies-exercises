{
 "cells": [
  {
   "cell_type": "code",
   "execution_count": 12,
   "metadata": {},
   "outputs": [],
   "source": [
    "import pydataset\n",
    "from vega_datasets import data\n",
    "import pyspark\n",
    "import pandas as pd\n",
    "\n",
    "from pyspark.sql.functions import *"
   ]
  },
  {
   "cell_type": "code",
   "execution_count": 10,
   "metadata": {},
   "outputs": [],
   "source": [
    "spark = pyspark.sql.SparkSession.builder.getOrCreate()"
   ]
  },
  {
   "cell_type": "markdown",
   "metadata": {},
   "source": [
    "1. Create a spark data frame that contains your favorite programming languages.\n",
    "\n",
    "    - The name of the column should be `language`\n",
    "    - View the schema of the dataframe\n",
    "    - Output the shape of the dataframe\n",
    "    - Show the first 5 records in the dataframe"
   ]
  },
  {
   "cell_type": "code",
   "execution_count": 13,
   "metadata": {},
   "outputs": [],
   "source": [
    "df = spark.createDataFrame(pd.DataFrame({\n",
    "    'language': ['smalltalk', 'fortran', 'english', 'visual basic', 'coffeescript', 'cobol', 'excel???', 'power point']\n",
    "}))"
   ]
  },
  {
   "cell_type": "code",
   "execution_count": 15,
   "metadata": {},
   "outputs": [
    {
     "name": "stdout",
     "output_type": "stream",
     "text": [
      "root\n",
      " |-- language: string (nullable = true)\n",
      "\n"
     ]
    }
   ],
   "source": [
    "df.printSchema()"
   ]
  },
  {
   "cell_type": "code",
   "execution_count": 16,
   "metadata": {},
   "outputs": [
    {
     "name": "stdout",
     "output_type": "stream",
     "text": [
      "dataframe shape:  8 x 1\n"
     ]
    }
   ],
   "source": [
    "print('dataframe shape: ', df.count(), 'x', len(df.columns))"
   ]
  },
  {
   "cell_type": "code",
   "execution_count": 17,
   "metadata": {},
   "outputs": [
    {
     "name": "stdout",
     "output_type": "stream",
     "text": [
      "+------------+\n",
      "|    language|\n",
      "+------------+\n",
      "|   smalltalk|\n",
      "|     fortran|\n",
      "|     english|\n",
      "|visual basic|\n",
      "|coffeescript|\n",
      "+------------+\n",
      "only showing top 5 rows\n",
      "\n"
     ]
    }
   ],
   "source": [
    "df.show(5)"
   ]
  },
  {
   "cell_type": "markdown",
   "metadata": {},
   "source": [
    "2. Load the `mpg` dataset as a spark dataframe.\n",
    "\n",
    "    1. Create 1 column of output that contains a message like the one below:\n",
    "\n",
    "            The 1999 audi a4 has a 4 cylinder engine.\n",
    "\n",
    "        For each vehicle.\n",
    "\n",
    "    1. Transform the `trans` column so that it only contains either `manual` or `auto`."
   ]
  },
  {
   "cell_type": "code",
   "execution_count": 21,
   "metadata": {},
   "outputs": [
    {
     "name": "stdout",
     "output_type": "stream",
     "text": [
      "+------------+-----+-----+----+---+----------+---+---+---+---+-------+\n",
      "|manufacturer|model|displ|year|cyl|     trans|drv|cty|hwy| fl|  class|\n",
      "+------------+-----+-----+----+---+----------+---+---+---+---+-------+\n",
      "|        audi|   a4|  1.8|1999|  4|  auto(l5)|  f| 18| 29|  p|compact|\n",
      "|        audi|   a4|  1.8|1999|  4|manual(m5)|  f| 21| 29|  p|compact|\n",
      "|        audi|   a4|  2.0|2008|  4|manual(m6)|  f| 20| 31|  p|compact|\n",
      "|        audi|   a4|  2.0|2008|  4|  auto(av)|  f| 21| 30|  p|compact|\n",
      "|        audi|   a4|  2.8|1999|  6|  auto(l5)|  f| 16| 26|  p|compact|\n",
      "+------------+-----+-----+----+---+----------+---+---+---+---+-------+\n",
      "only showing top 5 rows\n",
      "\n"
     ]
    }
   ],
   "source": [
    "mpg = spark.createDataFrame(pydataset.data('mpg'))\n",
    "mpg.show(5)"
   ]
  },
  {
   "cell_type": "code",
   "execution_count": 24,
   "metadata": {},
   "outputs": [
    {
     "name": "stdout",
     "output_type": "stream",
     "text": [
      "+-------------------------------------------------------------+\n",
      "|vehicle_cylinder_description                                 |\n",
      "+-------------------------------------------------------------+\n",
      "|The 1999 audi a4 has a 4 cylinder engine                     |\n",
      "|The 1999 audi a4 has a 4 cylinder engine                     |\n",
      "|The 2008 audi a4 has a 4 cylinder engine                     |\n",
      "|The 2008 audi a4 has a 4 cylinder engine                     |\n",
      "|The 1999 audi a4 has a 6 cylinder engine                     |\n",
      "|The 1999 audi a4 has a 6 cylinder engine                     |\n",
      "|The 2008 audi a4 has a 6 cylinder engine                     |\n",
      "|The 1999 audi a4 quattro has a 4 cylinder engine             |\n",
      "|The 1999 audi a4 quattro has a 4 cylinder engine             |\n",
      "|The 2008 audi a4 quattro has a 4 cylinder engine             |\n",
      "|The 2008 audi a4 quattro has a 4 cylinder engine             |\n",
      "|The 1999 audi a4 quattro has a 6 cylinder engine             |\n",
      "|The 1999 audi a4 quattro has a 6 cylinder engine             |\n",
      "|The 2008 audi a4 quattro has a 6 cylinder engine             |\n",
      "|The 2008 audi a4 quattro has a 6 cylinder engine             |\n",
      "|The 1999 audi a6 quattro has a 6 cylinder engine             |\n",
      "|The 2008 audi a6 quattro has a 6 cylinder engine             |\n",
      "|The 2008 audi a6 quattro has a 8 cylinder engine             |\n",
      "|The 2008 chevrolet c1500 suburban 2wd has a 8 cylinder engine|\n",
      "|The 2008 chevrolet c1500 suburban 2wd has a 8 cylinder engine|\n",
      "+-------------------------------------------------------------+\n",
      "only showing top 20 rows\n",
      "\n"
     ]
    }
   ],
   "source": [
    "mpg.select(concat(\n",
    "    lit('The '),\n",
    "    col('year'),\n",
    "    lit(' '),\n",
    "    col('manufacturer'),\n",
    "    lit(' '),\n",
    "    col('model'),\n",
    "    lit(' has a '),\n",
    "    col('cyl'),\n",
    "    lit(' cylinder engine'),\n",
    ").alias('vehicle_cylinder_description')).show(truncate=False)"
   ]
  },
  {
   "cell_type": "code",
   "execution_count": 29,
   "metadata": {},
   "outputs": [
    {
     "name": "stdout",
     "output_type": "stream",
     "text": [
      "+------+----------------------------------------------------+\n",
      "| trans|CASE WHEN trans LIKE auto% THEN auto ELSE manual END|\n",
      "+------+----------------------------------------------------+\n",
      "|  auto|                                                auto|\n",
      "|manual|                                              manual|\n",
      "|manual|                                              manual|\n",
      "|  auto|                                                auto|\n",
      "|  auto|                                                auto|\n",
      "|manual|                                              manual|\n",
      "|  auto|                                                auto|\n",
      "|manual|                                              manual|\n",
      "|  auto|                                                auto|\n",
      "|manual|                                              manual|\n",
      "|  auto|                                                auto|\n",
      "|  auto|                                                auto|\n",
      "|manual|                                              manual|\n",
      "|  auto|                                                auto|\n",
      "|manual|                                              manual|\n",
      "|  auto|                                                auto|\n",
      "|  auto|                                                auto|\n",
      "|  auto|                                                auto|\n",
      "|  auto|                                                auto|\n",
      "|  auto|                                                auto|\n",
      "+------+----------------------------------------------------+\n",
      "only showing top 20 rows\n",
      "\n"
     ]
    }
   ],
   "source": [
    "mpg.select(\n",
    "    regexp_extract('trans', r'^(\\w+)\\(', 1).alias('trans'),\n",
    "    when(mpg.trans.like('auto%'), 'auto').otherwise('manual'),\n",
    ").show()"
   ]
  },
  {
   "cell_type": "markdown",
   "metadata": {},
   "source": [
    "3. Load the `tips` dataset as a spark dataframe.\n",
    "\n",
    "    1. What percentage of observations are smokers?\n",
    "    1. Create a column that contains the tip percentage\n",
    "    1. Calculate the average tip percentage for each combination of sex and smoker."
   ]
  },
  {
   "cell_type": "code",
   "execution_count": 31,
   "metadata": {},
   "outputs": [
    {
     "name": "stdout",
     "output_type": "stream",
     "text": [
      "+----------+----+------+------+---+------+----+\n",
      "|total_bill| tip|   sex|smoker|day|  time|size|\n",
      "+----------+----+------+------+---+------+----+\n",
      "|     16.99|1.01|Female|    No|Sun|Dinner|   2|\n",
      "|     10.34|1.66|  Male|    No|Sun|Dinner|   3|\n",
      "|     21.01| 3.5|  Male|    No|Sun|Dinner|   3|\n",
      "+----------+----+------+------+---+------+----+\n",
      "only showing top 3 rows\n",
      "\n"
     ]
    }
   ],
   "source": [
    "tips = spark.createDataFrame(pydataset.data('tips'))\n",
    "tips.show(3)"
   ]
  },
  {
   "cell_type": "code",
   "execution_count": 33,
   "metadata": {},
   "outputs": [
    {
     "name": "stdout",
     "output_type": "stream",
     "text": [
      "+------+-----+-------------------+\n",
      "|smoker|count|            percent|\n",
      "+------+-----+-------------------+\n",
      "|    No|  151| 0.6188524590163934|\n",
      "|   Yes|   93|0.38114754098360654|\n",
      "+------+-----+-------------------+\n",
      "\n"
     ]
    }
   ],
   "source": [
    "total_n = tips.count()\n",
    "\n",
    "tips.groupBy('smoker').count().select('*', (col('count') / total_n).alias('percent')).show()"
   ]
  },
  {
   "cell_type": "code",
   "execution_count": 43,
   "metadata": {},
   "outputs": [
    {
     "name": "stdout",
     "output_type": "stream",
     "text": [
      "+-------------------+\n",
      "|     avg(is_smoker)|\n",
      "+-------------------+\n",
      "|0.38114754098360654|\n",
      "+-------------------+\n",
      "\n"
     ]
    }
   ],
   "source": [
    "tips.select(\n",
    "    when(col('smoker') == 'Yes', 1).otherwise(0).alias('is_smoker')\n",
    ").agg(mean('is_smoker')).show()"
   ]
  },
  {
   "cell_type": "markdown",
   "metadata": {},
   "source": [
    "4. Use the seattle weather dataset referenced in the lesson to answer the questions below.\n",
    "\n",
    "    - Convert the temperatures to farenheight.\n",
    "    - Which month has the most rain, on average?\n",
    "    - Which year was the windiest?\n",
    "    - What is the most frequent type of weather in January?\n",
    "    - What is the average high and low tempurature on sunny days in July in 2013 and 2014?\n",
    "    - What percentage of days were rainy in q3 of 2015?\n",
    "    - For each year, find what percentage of days it rained (had non-zero precipitation)."
   ]
  },
  {
   "cell_type": "code",
   "execution_count": 44,
   "metadata": {},
   "outputs": [
    {
     "name": "stdout",
     "output_type": "stream",
     "text": [
      "+----------+-------------+--------+--------+----+-------+\n",
      "|      date|precipitation|temp_max|temp_min|wind|weather|\n",
      "+----------+-------------+--------+--------+----+-------+\n",
      "|2012-01-01|          0.0|    12.8|     5.0| 4.7|drizzle|\n",
      "|2012-01-02|         10.9|    10.6|     2.8| 4.5|   rain|\n",
      "|2012-01-03|          0.8|    11.7|     7.2| 2.3|   rain|\n",
      "|2012-01-04|         20.3|    12.2|     5.6| 4.7|   rain|\n",
      "+----------+-------------+--------+--------+----+-------+\n",
      "only showing top 4 rows\n",
      "\n"
     ]
    }
   ],
   "source": [
    "weather = data.seattle_weather().assign(date=lambda df: df.date.astype(str))\n",
    "weather = spark.createDataFrame(weather)\n",
    "weather.show(4)"
   ]
  },
  {
   "cell_type": "code",
   "execution_count": 48,
   "metadata": {},
   "outputs": [],
   "source": [
    "weather = (weather\n",
    " .withColumn('temp_max', col('temp_max') * 9 / 5 + 32)\n",
    " .withColumn('temp_min', col('temp_min') * 9 / 5 + 32))"
   ]
  },
  {
   "cell_type": "code",
   "execution_count": 52,
   "metadata": {},
   "outputs": [
    {
     "name": "stdout",
     "output_type": "stream",
     "text": [
      "+-----+-------------------+\n",
      "|month|   avg_monthly_rain|\n",
      "+-----+-------------------+\n",
      "|    1| 3.7580645161290316|\n",
      "|    2|  3.734513274336283|\n",
      "|    3|  4.888709677419355|\n",
      "|    4|  3.128333333333333|\n",
      "|    5| 1.6733870967741935|\n",
      "|    6| 1.1075000000000002|\n",
      "|    7|0.38870967741935486|\n",
      "|    8| 1.3201612903225806|\n",
      "|    9| 1.9624999999999997|\n",
      "|   10|  4.059677419354839|\n",
      "|   11|  5.354166666666667|\n",
      "|   12|  5.021774193548389|\n",
      "+-----+-------------------+\n",
      "\n"
     ]
    }
   ],
   "source": [
    "(weather\n",
    " .withColumn('month', month('date'))\n",
    " .groupBy('month')\n",
    " .agg(mean('precipitation').alias('avg_monthly_rain'))\n",
    " .sort('month')\n",
    " .show())"
   ]
  },
  {
   "cell_type": "code",
   "execution_count": 53,
   "metadata": {},
   "outputs": [
    {
     "name": "stdout",
     "output_type": "stream",
     "text": [
      "+----+------------------+\n",
      "|year|         sum(wind)|\n",
      "+----+------------------+\n",
      "|2015|1153.3000000000002|\n",
      "|2013|1100.8000000000006|\n",
      "|2014|1236.5000000000007|\n",
      "|2012|            1244.7|\n",
      "+----+------------------+\n",
      "\n"
     ]
    }
   ],
   "source": [
    "(weather\n",
    " .withColumn('year', year('date'))\n",
    " .groupBy('year')\n",
    " .agg(sum('wind'))\n",
    " .show())"
   ]
  },
  {
   "cell_type": "code",
   "execution_count": 54,
   "metadata": {},
   "outputs": [
    {
     "name": "stdout",
     "output_type": "stream",
     "text": [
      "+-------+-----+\n",
      "|weather|count|\n",
      "+-------+-----+\n",
      "|    fog|   38|\n",
      "|drizzle|   10|\n",
      "|   rain|   35|\n",
      "|    sun|   33|\n",
      "|   snow|    8|\n",
      "+-------+-----+\n",
      "\n"
     ]
    }
   ],
   "source": [
    "# What is the most frequent type of weather in January?\n",
    "(weather\n",
    " .withColumn('month', month('date'))\n",
    " .filter(expr(\"month == 1\"))\n",
    " .groupBy('weather')\n",
    " .count()\n",
    " .show())"
   ]
  },
  {
   "cell_type": "code",
   "execution_count": 59,
   "metadata": {},
   "outputs": [
    {
     "name": "stdout",
     "output_type": "stream",
     "text": [
      "+-------------------+\n",
      "|     avg(was_rainy)|\n",
      "+-------------------+\n",
      "|0.18478260869565216|\n",
      "+-------------------+\n",
      "\n"
     ]
    }
   ],
   "source": [
    "# What percentage of days were rainy in q3 of 2015?\n",
    "(weather\n",
    " .withColumn('quarter', quarter('date'))\n",
    " .withColumn('year', year('date'))\n",
    " .filter(expr(\"year = 2015\"))\n",
    " .filter(expr(\"quarter = 3\"))\n",
    " .select(when(col('precipitation') > 0, 1).otherwise(0).alias('was_rainy'))\n",
    " .agg(mean('was_rainy'))\n",
    " .show())"
   ]
  }
 ],
 "metadata": {
  "kernelspec": {
   "display_name": "Python 3",
   "language": "python",
   "name": "python3"
  },
  "language_info": {
   "codemirror_mode": {
    "name": "ipython",
    "version": 3
   },
   "file_extension": ".py",
   "mimetype": "text/x-python",
   "name": "python",
   "nbconvert_exporter": "python",
   "pygments_lexer": "ipython3",
   "version": "3.7.3"
  }
 },
 "nbformat": 4,
 "nbformat_minor": 2
}
