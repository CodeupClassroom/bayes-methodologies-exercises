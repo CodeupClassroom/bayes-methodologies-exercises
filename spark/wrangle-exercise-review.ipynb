{
 "cells": [
  {
   "cell_type": "code",
   "execution_count": 1,
   "metadata": {},
   "outputs": [],
   "source": [
    "import pyspark.sql\n",
    "from pyspark.sql.functions import (\n",
    "    expr,\n",
    "    col,\n",
    "    to_timestamp,\n",
    "    format_string,\n",
    "    regexp_extract,\n",
    "    datediff,\n",
    "    current_timestamp,\n",
    "    when,\n",
    "    max,\n",
    "    lit,\n",
    ")"
   ]
  },
  {
   "cell_type": "code",
   "execution_count": 2,
   "metadata": {},
   "outputs": [],
   "source": [
    "def get_311_data(spark: pyspark.sql.SparkSession) -> pyspark.sql.DataFrame:\n",
    "    print(\"[wrangle.py] reading case.csv\")\n",
    "    df = spark.read.csv(\"data/case.csv\", header=True, inferSchema=True)\n",
    "    return df.withColumnRenamed(\"SLA_due_date\", \"case_due_date\")"
   ]
  },
  {
   "cell_type": "code",
   "execution_count": 3,
   "metadata": {},
   "outputs": [],
   "source": [
    "def handle_dtypes(df: pyspark.sql.DataFrame) -> pyspark.sql.DataFrame:\n",
    "    print(\"[wrangle.py] handling data types\")\n",
    "    return (\n",
    "        df.withColumn(\"case_closed\", expr('case_closed == \"YES\"'))\n",
    "        .withColumn(\"case_late\", expr('case_late == \"YES\"'))\n",
    "        .withColumn(\"council_district\", col(\"council_district\").cast(\"string\"))\n",
    "    )"
   ]
  },
  {
   "cell_type": "code",
   "execution_count": 4,
   "metadata": {},
   "outputs": [],
   "source": [
    "def handle_dates(df: pyspark.sql.DataFrame) -> pyspark.sql.DataFrame:\n",
    "    print(\"[wrangle.py] parsing dates\")\n",
    "    fmt = \"M/d/yy H:mm\"\n",
    "    return (\n",
    "        df.withColumn(\"case_opened_date\", to_timestamp(\"case_opened_date\", fmt))\n",
    "        .withColumn(\"case_closed_date\", to_timestamp(\"case_closed_date\", fmt))\n",
    "        .withColumn(\"case_due_date\", to_timestamp(\"case_due_date\", fmt))\n",
    "    )"
   ]
  },
  {
   "cell_type": "code",
   "execution_count": 5,
   "metadata": {},
   "outputs": [],
   "source": [
    "def add_features(df: pyspark.sql.DataFrame) -> pyspark.sql.DataFrame:\n",
    "    print(\"[wrangle.py] adding features\")\n",
    "    max_date = df.select(max(\"case_closed_date\")).first()[0]\n",
    "    return (\n",
    "        df.withColumn(\"num_weeks_late\", expr(\"num_days_late / 7 AS num_weeks_late\"))\n",
    "        .withColumn(\n",
    "            \"council_district\",\n",
    "            format_string(\"%03d\", col(\"council_district\").cast(\"int\")),\n",
    "        )\n",
    "        .withColumn(\"zipcode\", regexp_extract(\"request_address\", r\"\\d+$\", 0))\n",
    "        .withColumn(\"case_age\", datediff(lit(max_date), \"case_opened_date\"))\n",
    "        .withColumn(\"days_to_closed\", datediff(\"case_closed_date\", \"case_opened_date\"))\n",
    "        .withColumn(\n",
    "            \"case_lifetime\",\n",
    "            when(expr(\"! case_closed\"), col(\"case_age\")).otherwise(\n",
    "                col(\"days_to_closed\")\n",
    "            ),\n",
    "        )\n",
    "    )"
   ]
  },
  {
   "cell_type": "code",
   "execution_count": 6,
   "metadata": {},
   "outputs": [],
   "source": [
    "def join_departments(\n",
    "    case_df: pyspark.sql.DataFrame, spark: pyspark.sql.SparkSession\n",
    ") -> pyspark.sql.DataFrame:\n",
    "    print(\"[wrangle.py] joining departments\")\n",
    "    dept = spark.read.csv(\"data/dept.csv\", header=True, inferSchema=True)\n",
    "    return (\n",
    "        case_df.join(dept, \"dept_division\", \"left\")\n",
    "        # drop all the columns except for standardized name, as it has much fewer unique values\n",
    "        .drop(dept.dept_name)\n",
    "        .withColumnRenamed(\"standardized_dept_name\", \"department\")\n",
    "        # convert to a boolean\n",
    "        .withColumn(\"dept_subject_to_SLA\", col(\"dept_subject_to_SLA\") == \"YES\")\n",
    "    )"
   ]
  },
  {
   "cell_type": "code",
   "execution_count": 7,
   "metadata": {},
   "outputs": [],
   "source": [
    "def wrangle_311(spark: pyspark.sql.SparkSession) -> pyspark.sql.DataFrame:\n",
    "    df = add_features(handle_dates(handle_dtypes(get_311_data(spark))))\n",
    "    return join_departments(df, spark)"
   ]
  },
  {
   "cell_type": "code",
   "execution_count": 8,
   "metadata": {},
   "outputs": [
    {
     "name": "stdout",
     "output_type": "stream",
     "text": [
      "[wrangle.py] reading case.csv\n",
      "[wrangle.py] handling data types\n",
      "[wrangle.py] parsing dates\n",
      "[wrangle.py] adding features\n",
      "[wrangle.py] joining departments\n"
     ]
    }
   ],
   "source": [
    "spark = pyspark.sql.SparkSession.builder.getOrCreate()\n",
    "df = wrangle_311(spark)"
   ]
  },
  {
   "cell_type": "code",
   "execution_count": 9,
   "metadata": {},
   "outputs": [
    {
     "name": "stdout",
     "output_type": "stream",
     "text": [
      "+-------+\n",
      "|zipcode|\n",
      "+-------+\n",
      "|  78207|\n",
      "|  78223|\n",
      "|  78223|\n",
      "|  78223|\n",
      "|  78228|\n",
      "|       |\n",
      "|  78251|\n",
      "|  78251|\n",
      "|  78251|\n",
      "|  78251|\n",
      "|  78251|\n",
      "|  78251|\n",
      "|  78251|\n",
      "|  78251|\n",
      "|  78251|\n",
      "|  78251|\n",
      "|  78251|\n",
      "|  78251|\n",
      "|  78251|\n",
      "|  78251|\n",
      "+-------+\n",
      "only showing top 20 rows\n",
      "\n"
     ]
    }
   ],
   "source": [
    "df.select('zipcode').show()"
   ]
  },
  {
   "cell_type": "code",
   "execution_count": 10,
   "metadata": {},
   "outputs": [
    {
     "data": {
      "text/plain": [
       "Row(service_request_type='Stray Animal', department='Animal Care Services')"
      ]
     },
     "execution_count": 10,
     "metadata": {},
     "output_type": "execute_result"
    }
   ],
   "source": [
    "row = df.select('service_request_type', 'department').head()\n",
    "row"
   ]
  },
  {
   "cell_type": "code",
   "execution_count": 11,
   "metadata": {},
   "outputs": [
    {
     "data": {
      "text/plain": [
       "'Stray Animal'"
      ]
     },
     "execution_count": 11,
     "metadata": {},
     "output_type": "execute_result"
    }
   ],
   "source": [
    "row.service_request_type"
   ]
  },
  {
   "cell_type": "code",
   "execution_count": 12,
   "metadata": {},
   "outputs": [
    {
     "data": {
      "text/plain": [
       "datetime.datetime(2018, 8, 8, 10, 38)"
      ]
     },
     "execution_count": 12,
     "metadata": {},
     "output_type": "execute_result"
    }
   ],
   "source": [
    "row = df.select(max('case_closed_date')).head()\n",
    "row[0]"
   ]
  },
  {
   "cell_type": "code",
   "execution_count": 13,
   "metadata": {},
   "outputs": [
    {
     "name": "stdout",
     "output_type": "stream",
     "text": [
      "+-------------+\n",
      "|case_lifetime|\n",
      "+-------------+\n",
      "|            0|\n",
      "|            2|\n",
      "|            1|\n",
      "|            1|\n",
      "|            0|\n",
      "|            0|\n",
      "|            1|\n",
      "|            1|\n",
      "|            1|\n",
      "|            1|\n",
      "|            1|\n",
      "|            1|\n",
      "|            1|\n",
      "|            1|\n",
      "|            1|\n",
      "|            1|\n",
      "|            1|\n",
      "|            1|\n",
      "|            1|\n",
      "|            1|\n",
      "+-------------+\n",
      "only showing top 20 rows\n",
      "\n"
     ]
    }
   ],
   "source": [
    "df.select('case_lifetime').show()"
   ]
  },
  {
   "cell_type": "markdown",
   "metadata": {},
   "source": [
    "## Exercises"
   ]
  },
  {
   "cell_type": "code",
   "execution_count": 14,
   "metadata": {},
   "outputs": [],
   "source": [
    "from pyspark.sql.functions import *"
   ]
  },
  {
   "cell_type": "code",
   "execution_count": 15,
   "metadata": {},
   "outputs": [
    {
     "data": {
      "text/plain": [
       "DataFrame[dept_division: string, case_id: int, case_opened_date: timestamp, case_closed_date: timestamp, case_due_date: timestamp, case_late: boolean, num_days_late: double, case_closed: boolean, service_request_type: string, SLA_days: double, case_status: string, source_id: string, request_address: string, council_district: string, num_weeks_late: double, zipcode: string, case_age: int, days_to_closed: int, case_lifetime: int, department: string, dept_subject_to_SLA: boolean]"
      ]
     },
     "execution_count": 15,
     "metadata": {},
     "output_type": "execute_result"
    }
   ],
   "source": [
    "df"
   ]
  },
  {
   "cell_type": "markdown",
   "metadata": {},
   "source": [
    "How old is the latest (in terms of days past SLA) currently open issue? How long has the oldest (in terms of days since opened) currently opened issue been open?"
   ]
  },
  {
   "cell_type": "code",
   "execution_count": 16,
   "metadata": {},
   "outputs": [
    {
     "name": "stdout",
     "output_type": "stream",
     "text": [
      "-RECORD 0------------------------------------\n",
      " dept_division        | Code Enforcement     \n",
      " case_id              | 1013225646           \n",
      " case_opened_date     | 2017-01-01 13:48:00  \n",
      " case_closed_date     | null                 \n",
      " case_due_date        | 2017-01-17 08:30:00  \n",
      " case_late            | true                 \n",
      " num_days_late        | 348.6458333          \n",
      " case_closed          | false                \n",
      " service_request_type | No Address Posted    \n",
      " SLA_days             | 15.77859954          \n",
      " case_status          | Open                 \n",
      " source_id            | svcCRMSS             \n",
      " request_address      | 7299  SHADOW RIDG... \n",
      " council_district     | 006                  \n",
      " num_weeks_late       | 49.80654761428571    \n",
      " zipcode              | 78250                \n",
      " case_age             | 584                  \n",
      " days_to_closed       | null                 \n",
      " case_lifetime        | 584                  \n",
      " department           | DSD/Code Enforcement \n",
      " dept_subject_to_SLA  | true                 \n",
      "-RECORD 1------------------------------------\n",
      " dept_division        | Code Enforcement     \n",
      " case_id              | 1013225651           \n",
      " case_opened_date     | 2017-01-01 13:57:00  \n",
      " case_closed_date     | null                 \n",
      " case_due_date        | 2017-01-17 08:30:00  \n",
      " case_late            | true                 \n",
      " num_days_late        | 348.6458333          \n",
      " case_closed          | false                \n",
      " service_request_type | No Address Posted    \n",
      " SLA_days             | 15.77247685          \n",
      " case_status          | Open                 \n",
      " source_id            | svcCRMSS             \n",
      " request_address      | 7295  SHADOW RIDG... \n",
      " council_district     | 006                  \n",
      " num_weeks_late       | 49.80654761428571    \n",
      " zipcode              | 78250                \n",
      " case_age             | 584                  \n",
      " days_to_closed       | null                 \n",
      " case_lifetime        | 584                  \n",
      " department           | DSD/Code Enforcement \n",
      " dept_subject_to_SLA  | true                 \n",
      "-RECORD 2------------------------------------\n",
      " dept_division        | Code Enforcement     \n",
      " case_id              | 1013226813           \n",
      " case_opened_date     | 2017-01-02 11:26:00  \n",
      " case_closed_date     | null                 \n",
      " case_due_date        | 2017-01-17 11:26:00  \n",
      " case_late            | true                 \n",
      " num_days_late        | 348.52356480000003   \n",
      " case_closed          | false                \n",
      " service_request_type | No Address Posted    \n",
      " SLA_days             | 15.0                 \n",
      " case_status          | Open                 \n",
      " source_id            | svcCRMSS             \n",
      " request_address      | HIGHFIELD and MIL... \n",
      " council_district     | 006                  \n",
      " num_weeks_late       | 49.78908068571429    \n",
      " zipcode              |                      \n",
      " case_age             | 583                  \n",
      " days_to_closed       | null                 \n",
      " case_lifetime        | 583                  \n",
      " department           | DSD/Code Enforcement \n",
      " dept_subject_to_SLA  | true                 \n",
      "only showing top 3 rows\n",
      "\n"
     ]
    }
   ],
   "source": [
    "df.filter(expr('! case_closed')).sort(desc('num_days_late')).show(3, vertical=True)"
   ]
  },
  {
   "cell_type": "markdown",
   "metadata": {},
   "source": [
    "How many Stray Animal cases are there?"
   ]
  },
  {
   "cell_type": "code",
   "execution_count": 17,
   "metadata": {},
   "outputs": [
    {
     "data": {
      "text/plain": [
       "26760"
      ]
     },
     "execution_count": 17,
     "metadata": {},
     "output_type": "execute_result"
    }
   ],
   "source": [
    "df.where(expr('service_request_type = \"Stray Animal\"')).count()"
   ]
  },
  {
   "cell_type": "markdown",
   "metadata": {},
   "source": [
    "How many service requests that are assigned to the Field Operations department (dept_division) are not classified as \"Officer Standby\" request type (service_request_type)?"
   ]
  },
  {
   "cell_type": "code",
   "execution_count": 18,
   "metadata": {},
   "outputs": [
    {
     "data": {
      "text/plain": [
       "Column<b'dept_division'>"
      ]
     },
     "execution_count": 18,
     "metadata": {},
     "output_type": "execute_result"
    }
   ],
   "source": [
    "df.dept_division"
   ]
  },
  {
   "cell_type": "code",
   "execution_count": 19,
   "metadata": {},
   "outputs": [
    {
     "data": {
      "text/plain": [
       "113902"
      ]
     },
     "execution_count": 19,
     "metadata": {},
     "output_type": "execute_result"
    }
   ],
   "source": [
    "(df.select('department', 'dept_division', 'service_request_type')\n",
    " .where(expr('dept_division = \"Field Operations\"'))\n",
    " .where(expr('service_request_type != \"Officer Standby\"'))\n",
    " .count())"
   ]
  },
  {
   "cell_type": "markdown",
   "metadata": {},
   "source": [
    "Convert the council_district column to a string column."
   ]
  },
  {
   "cell_type": "code",
   "execution_count": 20,
   "metadata": {},
   "outputs": [],
   "source": [
    "df = df.withColumn('council_district', df.council_district.cast('string'))"
   ]
  },
  {
   "cell_type": "markdown",
   "metadata": {},
   "source": [
    "Extract the year from the case_closed_date column."
   ]
  },
  {
   "cell_type": "code",
   "execution_count": 21,
   "metadata": {},
   "outputs": [
    {
     "name": "stdout",
     "output_type": "stream",
     "text": [
      "+----------------+----------+-------------------+-------------------+-------------------+---------+-------------------+-----------+--------------------+-----------+-----------+---------+--------------------+----------------+--------------------+-------+--------+--------------+-------------+--------------------+-------------------+----+\n",
      "|   dept_division|   case_id|   case_opened_date|   case_closed_date|      case_due_date|case_late|      num_days_late|case_closed|service_request_type|   SLA_days|case_status|source_id|     request_address|council_district|      num_weeks_late|zipcode|case_age|days_to_closed|case_lifetime|          department|dept_subject_to_SLA|year|\n",
      "+----------------+----------+-------------------+-------------------+-------------------+---------+-------------------+-----------+--------------------+-----------+-----------+---------+--------------------+----------------+--------------------+-------+--------+--------------+-------------+--------------------+-------------------+----+\n",
      "|Field Operations|1014127332|2018-01-01 00:42:00|2018-01-01 12:29:00|2020-09-26 00:42:00|    false| -998.5087616000001|       true|        Stray Animal|      999.0|     Closed| svcCRMLS|2315  EL PASO ST,...|             005|        -142.6441088|  78207|     219|             0|            0|Animal Care Services|               true|2018|\n",
      "|     Storm Water|1014127333|2018-01-01 00:46:00|2018-01-03 08:11:00|2018-01-05 08:30:00|    false|-2.0126041669999997|       true|Removal Of Obstru...|4.322222222|     Closed| svcCRMSS|2215  GOLIAD RD, ...|             003|-0.28751488099999994|  78223|     219|             2|            2|Trans & Cap Impro...|               true|2018|\n",
      "|     Storm Water|1014127334|2018-01-01 00:48:00|2018-01-02 07:57:00|2018-01-05 08:30:00|    false|       -3.022337963|       true|Removal Of Obstru...|4.320729167|     Closed| svcCRMSS|102  PALFREY ST W...|             003|-0.43176256614285713|  78223|     219|             1|            1|Trans & Cap Impro...|               true|2018|\n",
      "|Code Enforcement|1014127335|2018-01-01 01:29:00|2018-01-02 08:13:00|2018-01-17 08:30:00|    false|       -15.01148148|       true|Front Or Side Yar...|16.29188657|     Closed| svcCRMSS|114  LA GARDE ST,...|             003| -2.1444973542857144|  78223|     219|             1|            1|DSD/Code Enforcement|               true|2018|\n",
      "|Field Operations|1014127336|2018-01-01 01:34:00|2018-01-01 13:29:00|2018-01-01 04:34:00|     true|0.37216435200000003|       true|Animal Cruelty(Cr...|      0.125|     Closed| svcCRMSS|734  CLEARVIEW DR...|             007|         0.053166336|  78228|     219|             0|            0|Animal Care Services|               true|2018|\n",
      "+----------------+----------+-------------------+-------------------+-------------------+---------+-------------------+-----------+--------------------+-----------+-----------+---------+--------------------+----------------+--------------------+-------+--------+--------------+-------------+--------------------+-------------------+----+\n",
      "only showing top 5 rows\n",
      "\n"
     ]
    }
   ],
   "source": [
    "df = df.selectExpr('*', 'year(case_closed_date) AS year')\n",
    "df.show(5)"
   ]
  },
  {
   "cell_type": "markdown",
   "metadata": {},
   "source": [
    "Convert num_days_late from days to hours in new columns num_hours_late."
   ]
  },
  {
   "cell_type": "code",
   "execution_count": 22,
   "metadata": {},
   "outputs": [],
   "source": [
    "df = df.withColumn('num_hours_late', expr('num_days_late * 24'))"
   ]
  },
  {
   "cell_type": "markdown",
   "metadata": {},
   "source": [
    "Join the case data with the source and department data. (already done in the prep functions)"
   ]
  },
  {
   "cell_type": "markdown",
   "metadata": {},
   "source": [
    "Are there any cases that do not have a request source?"
   ]
  },
  {
   "cell_type": "code",
   "execution_count": 27,
   "metadata": {},
   "outputs": [
    {
     "name": "stdout",
     "output_type": "stream",
     "text": [
      "+-------------------------------------+\n",
      "|avg(CAST((source_id IS NULL) AS INT))|\n",
      "+-------------------------------------+\n",
      "|                                  0.0|\n",
      "+-------------------------------------+\n",
      "\n"
     ]
    }
   ],
   "source": [
    "# percent nulls for source_id\n",
    "df.select(avg(df.source_id.isNull().cast('int'))).show()"
   ]
  },
  {
   "cell_type": "markdown",
   "metadata": {},
   "source": [
    "What are the top 10 service request types in terms of number of requests?"
   ]
  },
  {
   "cell_type": "code",
   "execution_count": 30,
   "metadata": {},
   "outputs": [
    {
     "name": "stdout",
     "output_type": "stream",
     "text": [
      "+------------------------+---------------------------------+-----+\n",
      "|department              |service_request_type             |count|\n",
      "+------------------------+---------------------------------+-----+\n",
      "|Solid Waste             |No Pickup                        |86855|\n",
      "|DSD/Code Enforcement    |Overgrown Yard/Trash             |65895|\n",
      "|DSD/Code Enforcement    |Bandit Signs                     |32910|\n",
      "|Solid Waste             |Damaged Cart                     |30338|\n",
      "|DSD/Code Enforcement    |Front Or Side Yard Parking       |28794|\n",
      "|Animal Care Services    |Stray Animal                     |26760|\n",
      "|Animal Care Services    |Aggressive Animal(Non-Critical)  |24882|\n",
      "|Solid Waste             |Cart Exchange Request            |22024|\n",
      "|DSD/Code Enforcement    |Junk Vehicle On Private Property |21473|\n",
      "|Trans & Cap Improvements|Pot Hole Repair                  |20616|\n",
      "|DSD/Code Enforcement    |Alley-Way Maintenance            |20214|\n",
      "|Solid Waste             |Lost/Stolen Cart                 |18731|\n",
      "|DSD/Code Enforcement    |Right Of Way/Sidewalk Obstruction|17699|\n",
      "|Solid Waste             |Dead Animal - Dog                |16714|\n",
      "|Solid Waste             |Cart Delivery                    |15471|\n",
      "|Solid Waste             |Dead Animal - Cat                |14983|\n",
      "|Animal Care Services    |Animal Neglect                   |13441|\n",
      "|Solid Waste             |Dead Animal - Misc               |13234|\n",
      "|Animal Care Services    |Trapped/Confined Animal          |11354|\n",
      "|Animal Care Services    |Public Nuisance(Own Animal)      |10715|\n",
      "+------------------------+---------------------------------+-----+\n",
      "only showing top 20 rows\n",
      "\n"
     ]
    }
   ],
   "source": [
    "df.groupBy('department', 'service_request_type').count().orderBy(desc('count')).show(truncate=False)"
   ]
  },
  {
   "cell_type": "markdown",
   "metadata": {},
   "source": [
    "What are the top 10 service request types in terms of average days late?"
   ]
  },
  {
   "cell_type": "code",
   "execution_count": 37,
   "metadata": {},
   "outputs": [
    {
     "name": "stdout",
     "output_type": "stream",
     "text": [
      "+------------------------+--------------------------------------+------------------+----+\n",
      "|department              |service_request_type                  |avg_days_late     |n   |\n",
      "+------------------------+--------------------------------------+------------------+----+\n",
      "|DSD/Code Enforcement    |Zoning: Junk Yards                    |175.95636210420943|296 |\n",
      "|DSD/Code Enforcement    |Labeling for Used Mattress            |162.43032902285717|7   |\n",
      "|DSD/Code Enforcement    |Record Keeping of Used Mattresses     |153.99724039428568|7   |\n",
      "|DSD/Code Enforcement    |Signage Requied for Sale of Used Mattr|151.63868055333333|12  |\n",
      "|DSD/Code Enforcement    |Storage of Used Mattress              |142.11255641500003|8   |\n",
      "|DSD/Code Enforcement    |Zoning: Recycle Yard                  |135.92851612479797|198 |\n",
      "|DSD/Code Enforcement    |Donation Container Enforcement        |131.75610506358706|155 |\n",
      "|DSD/Code Enforcement    |License Requied Used Mattress Sales   |128.79828704142858|7   |\n",
      "|Trans & Cap Improvements|Traffic Signal Graffiti               |77.90021217000002 |3   |\n",
      "|Customer Service        |Complaint                             |72.5179093265971  |2388|\n",
      "+------------------------+--------------------------------------+------------------+----+\n",
      "only showing top 10 rows\n",
      "\n"
     ]
    }
   ],
   "source": [
    "(df.groupBy('department', 'service_request_type')\n",
    " .agg(avg('num_days_late').alias('avg_days_late'), count('*').alias('n'))\n",
    " .sort(desc('avg_days_late'))\n",
    " .na.drop()\n",
    " .show(10, truncate=False))"
   ]
  },
  {
   "cell_type": "markdown",
   "metadata": {},
   "source": [
    "Does number of days late depend on department?"
   ]
  },
  {
   "cell_type": "code",
   "execution_count": 41,
   "metadata": {},
   "outputs": [
    {
     "name": "stdout",
     "output_type": "stream",
     "text": [
      "+------------------------+-------------------+\n",
      "|department              |avg_days_late      |\n",
      "+------------------------+-------------------+\n",
      "|Solid Waste             |-2.1938644240225362|\n",
      "|Animal Care Services    |-226.1654977071745 |\n",
      "|Trans & Cap Improvements|-20.5097935017854  |\n",
      "|Parks & Recreation      |-5.283345998745914 |\n",
      "|Customer Service        |59.49019459221512  |\n",
      "|Metro Health            |-4.904223205386018 |\n",
      "|City Council            |null               |\n",
      "|DSD/Code Enforcement    |-38.32346772537442 |\n",
      "+------------------------+-------------------+\n",
      "\n"
     ]
    }
   ],
   "source": [
    "df.groupBy('department').agg(avg('num_days_late').alias('avg_days_late')).show(truncate=False)"
   ]
  },
  {
   "cell_type": "markdown",
   "metadata": {},
   "source": [
    "How do number of days late depend on department and request type?"
   ]
  },
  {
   "cell_type": "code",
   "execution_count": 43,
   "metadata": {},
   "outputs": [
    {
     "name": "stdout",
     "output_type": "stream",
     "text": [
      "+------------------------+--------------------------------------+-------------------+\n",
      "|department              |service_request_type                  |avg_days_late      |\n",
      "+------------------------+--------------------------------------+-------------------+\n",
      "|City Council            |CCO_Request for Research/Information_1|null               |\n",
      "|City Council            |Request for Research/Information      |null               |\n",
      "|Trans & Cap Improvements|Engineering Design                    |-1399.1272335      |\n",
      "|Trans & Cap Improvements|Signal Timing Modification By Engineer|-1247.0797799732143|\n",
      "|Animal Care Services    |Stray Animal                          |-998.804572616084  |\n",
      "|Parks & Recreation      |Major Park Improvement Install        |-280.2546235360405 |\n",
      "|Trans & Cap Improvements|Sidewalk Cost Sharing Program         |-184.87626063647144|\n",
      "|DSD/Code Enforcement    |Multi Tenant Exterior                 |-135.7158812804762 |\n",
      "|DSD/Code Enforcement    |CPS Energy Towers                     |-129.84778717829747|\n",
      "|DSD/Code Enforcement    |CPS Energy Wood Poles                 |-129.30905202721226|\n",
      "|DSD/Code Enforcement    |CPS Energy Metal Poles                |-129.1791978642777 |\n",
      "|DSD/Code Enforcement    |Multi Tenant Interior                 |-125.1431856354651 |\n",
      "|DSD/Code Enforcement    |Temporary Obstruction                 |-119.75801638405592|\n",
      "|Trans & Cap Improvements|Manhole Sunken/Raised                 |-119.24760327300169|\n",
      "|DSD/Code Enforcement    |Swim. Pool Inspect: Residential       |-116.49671577005496|\n",
      "|DSD/Code Enforcement    |Wasting Water (Leaks)                 |-113.51817250353429|\n",
      "|DSD/Code Enforcement    |Water No Services                     |-113.50003797533864|\n",
      "|DSD/Code Enforcement    |Low Hanging Limbs on Streets/Sidewalk |-112.64830351060338|\n",
      "|DSD/Code Enforcement    |Zoning Business in Resident Area      |-111.76685019425408|\n",
      "|Trans & Cap Improvements|Base/Pavement Repair                  |-109.77784269163156|\n",
      "+------------------------+--------------------------------------+-------------------+\n",
      "only showing top 20 rows\n",
      "\n"
     ]
    }
   ],
   "source": [
    "(df.groupBy('department', 'service_request_type')\n",
    " .agg(avg('num_days_late').alias('avg_days_late'))\n",
    " .sort('avg_days_late')\n",
    " .show(truncate=False)\n",
    ")"
   ]
  }
 ],
 "metadata": {
  "kernelspec": {
   "display_name": "Python 3",
   "language": "python",
   "name": "python3"
  },
  "language_info": {
   "codemirror_mode": {
    "name": "ipython",
    "version": 3
   },
   "file_extension": ".py",
   "mimetype": "text/x-python",
   "name": "python",
   "nbconvert_exporter": "python",
   "pygments_lexer": "ipython3",
   "version": "3.7.3"
  }
 },
 "nbformat": 4,
 "nbformat_minor": 2
}
