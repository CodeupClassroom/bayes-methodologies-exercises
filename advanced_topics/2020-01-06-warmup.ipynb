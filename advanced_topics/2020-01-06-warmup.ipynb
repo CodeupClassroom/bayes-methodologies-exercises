{
 "cells": [
  {
   "cell_type": "markdown",
   "metadata": {},
   "source": [
    "# Distributions Warmup\n",
    "\n",
    "It's another day at the office at Big Research Co &trade;. You look up from your\n",
    "laptop and see a woman in a lab coat standing in front of your desk.\n",
    "\n",
    "\"I need some help\" she says. \"We lost some subjects from the trial.\"\n",
    "\n",
    "She notices a curious look on your face. \"Not like that, they just ran away.\n",
    "We didn't lock the doors soon enough.\"\n",
    "\n",
    "\"Anyway, there's probably like a 70%, no maybe 80%, no, let's say 90% chance\n",
    "that a given subject will stick around, and I need to run the study again with\n",
    "10, or 20 subjects. We need to gather enough data on them to justify the cost,\n",
    "so I need you to figure out what are the probabilities are that at least half of\n",
    "them stick around, only 1 person leaves, and that all the subjects stay.\"\n",
    "\n",
    "She sees you start to form another question and cuts you off.\n",
    "\n",
    "\"Don't ask. You *really* don't want to know.\"\n",
    "\n",
    "---\n",
    "\n",
    "- What probability distribution would you use to model the scenario outlined\n",
    "  above?\n",
    "- Calculate all the requested probabilities.\n",
    "\n",
    "    Use all the possible combinations of subject count and chance that a subject\n",
    "    will stay in the study. For example, at first calculate the chance that at\n",
    "    least half of the subjects stay in the study if there is a 70% that each\n",
    "    subject sticks around, and there are 10 subjects, then the probability that\n",
    "    only one person leaves, then the probability that all the subjects stay.\n",
    "\n",
    "- **Bonus**: visualize the requested probabilities.\n",
    "\n",
    "## Hints\n",
    "\n",
    "- Use `scipy.stats` for this.\n",
    "- Each distribution has a cumulative density function that tells you the\n",
    "  likelihood that a value falls at or below a given point.\n",
    "- Consider storing the results of your calculations in a data frame.\n",
    "- A fancy list comprehension or the `itertools` module can help you find\n",
    "  all the possible combinations.\n",
    "\n"
   ]
  }
 ],
 "metadata": {
  "kernelspec": {
   "display_name": "Python 3",
   "language": "python",
   "name": "python3"
  },
  "language_info": {
   "codemirror_mode": {
    "name": "ipython",
    "version": 3
   },
   "file_extension": ".py",
   "mimetype": "text/x-python",
   "name": "python",
   "nbconvert_exporter": "python",
   "pygments_lexer": "ipython3",
   "version": "3.7.3"
  }
 },
 "nbformat": 4,
 "nbformat_minor": 2
}
